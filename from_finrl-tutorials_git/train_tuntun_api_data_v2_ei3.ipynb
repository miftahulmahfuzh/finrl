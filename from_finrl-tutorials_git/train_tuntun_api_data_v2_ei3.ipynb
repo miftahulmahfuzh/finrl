{
 "cells": [
  {
   "cell_type": "code",
   "execution_count": 1,
   "id": "e3434ab3-9ece-4c08-bcd6-31469a9a9684",
   "metadata": {},
   "outputs": [
    {
     "data": {
      "text/html": [
       "<div>\n",
       "<style scoped>\n",
       "    .dataframe tbody tr th:only-of-type {\n",
       "        vertical-align: middle;\n",
       "    }\n",
       "\n",
       "    .dataframe tbody tr th {\n",
       "        vertical-align: top;\n",
       "    }\n",
       "\n",
       "    .dataframe thead th {\n",
       "        text-align: right;\n",
       "    }\n",
       "</style>\n",
       "<table border=\"1\" class=\"dataframe\">\n",
       "  <thead>\n",
       "    <tr style=\"text-align: right;\">\n",
       "      <th></th>\n",
       "      <th>date</th>\n",
       "      <th>open</th>\n",
       "      <th>high</th>\n",
       "      <th>low</th>\n",
       "      <th>close</th>\n",
       "      <th>volume</th>\n",
       "      <th>tic</th>\n",
       "      <th>day</th>\n",
       "      <th>macd</th>\n",
       "      <th>boll_ub</th>\n",
       "      <th>boll_lb</th>\n",
       "      <th>rsi_30</th>\n",
       "      <th>cci_30</th>\n",
       "      <th>dx_30</th>\n",
       "      <th>close_30_sma</th>\n",
       "      <th>close_60_sma</th>\n",
       "      <th>turbulence</th>\n",
       "    </tr>\n",
       "  </thead>\n",
       "  <tbody>\n",
       "    <tr>\n",
       "      <th>0</th>\n",
       "      <td>2010-01-04</td>\n",
       "      <td>151.00</td>\n",
       "      <td>151.00</td>\n",
       "      <td>147.00</td>\n",
       "      <td>148.00</td>\n",
       "      <td>1380000.0</td>\n",
       "      <td>ACES</td>\n",
       "      <td>1</td>\n",
       "      <td>0.000000</td>\n",
       "      <td>149.914214</td>\n",
       "      <td>147.085786</td>\n",
       "      <td>100.000000</td>\n",
       "      <td>-66.666667</td>\n",
       "      <td>100.000000</td>\n",
       "      <td>148.000000</td>\n",
       "      <td>148.000000</td>\n",
       "      <td>0.000000</td>\n",
       "    </tr>\n",
       "    <tr>\n",
       "      <th>1</th>\n",
       "      <td>2010-01-04</td>\n",
       "      <td>630.00</td>\n",
       "      <td>630.00</td>\n",
       "      <td>620.00</td>\n",
       "      <td>630.00</td>\n",
       "      <td>162000.0</td>\n",
       "      <td>ADES</td>\n",
       "      <td>1</td>\n",
       "      <td>0.000000</td>\n",
       "      <td>149.914214</td>\n",
       "      <td>147.085786</td>\n",
       "      <td>100.000000</td>\n",
       "      <td>-66.666667</td>\n",
       "      <td>100.000000</td>\n",
       "      <td>630.000000</td>\n",
       "      <td>630.000000</td>\n",
       "      <td>0.000000</td>\n",
       "    </tr>\n",
       "    <tr>\n",
       "      <th>2</th>\n",
       "      <td>2010-01-04</td>\n",
       "      <td>347.87</td>\n",
       "      <td>347.87</td>\n",
       "      <td>343.63</td>\n",
       "      <td>347.87</td>\n",
       "      <td>760195.0</td>\n",
       "      <td>ADHI</td>\n",
       "      <td>1</td>\n",
       "      <td>0.000000</td>\n",
       "      <td>149.914214</td>\n",
       "      <td>147.085786</td>\n",
       "      <td>100.000000</td>\n",
       "      <td>-66.666667</td>\n",
       "      <td>100.000000</td>\n",
       "      <td>347.870000</td>\n",
       "      <td>347.870000</td>\n",
       "      <td>0.000000</td>\n",
       "    </tr>\n",
       "    <tr>\n",
       "      <th>3</th>\n",
       "      <td>2010-01-04</td>\n",
       "      <td>6800.00</td>\n",
       "      <td>6800.00</td>\n",
       "      <td>6800.00</td>\n",
       "      <td>6800.00</td>\n",
       "      <td>17500.0</td>\n",
       "      <td>ADMF</td>\n",
       "      <td>1</td>\n",
       "      <td>0.000000</td>\n",
       "      <td>149.914214</td>\n",
       "      <td>147.085786</td>\n",
       "      <td>100.000000</td>\n",
       "      <td>-66.666667</td>\n",
       "      <td>100.000000</td>\n",
       "      <td>6800.000000</td>\n",
       "      <td>6800.000000</td>\n",
       "      <td>0.000000</td>\n",
       "    </tr>\n",
       "    <tr>\n",
       "      <th>4</th>\n",
       "      <td>2010-01-04</td>\n",
       "      <td>134.00</td>\n",
       "      <td>142.00</td>\n",
       "      <td>134.00</td>\n",
       "      <td>142.00</td>\n",
       "      <td>20006500.0</td>\n",
       "      <td>ADMG</td>\n",
       "      <td>1</td>\n",
       "      <td>0.000000</td>\n",
       "      <td>149.914214</td>\n",
       "      <td>147.085786</td>\n",
       "      <td>100.000000</td>\n",
       "      <td>-66.666667</td>\n",
       "      <td>100.000000</td>\n",
       "      <td>142.000000</td>\n",
       "      <td>142.000000</td>\n",
       "      <td>0.000000</td>\n",
       "    </tr>\n",
       "    <tr>\n",
       "      <th>...</th>\n",
       "      <td>...</td>\n",
       "      <td>...</td>\n",
       "      <td>...</td>\n",
       "      <td>...</td>\n",
       "      <td>...</td>\n",
       "      <td>...</td>\n",
       "      <td>...</td>\n",
       "      <td>...</td>\n",
       "      <td>...</td>\n",
       "      <td>...</td>\n",
       "      <td>...</td>\n",
       "      <td>...</td>\n",
       "      <td>...</td>\n",
       "      <td>...</td>\n",
       "      <td>...</td>\n",
       "      <td>...</td>\n",
       "      <td>...</td>\n",
       "    </tr>\n",
       "    <tr>\n",
       "      <th>362995</th>\n",
       "      <td>2024-11-26</td>\n",
       "      <td>2550.00</td>\n",
       "      <td>2560.00</td>\n",
       "      <td>2510.00</td>\n",
       "      <td>2550.00</td>\n",
       "      <td>1474900.0</td>\n",
       "      <td>TSPC</td>\n",
       "      <td>3630</td>\n",
       "      <td>-21.482045</td>\n",
       "      <td>2718.864030</td>\n",
       "      <td>2547.135970</td>\n",
       "      <td>47.421834</td>\n",
       "      <td>-168.905306</td>\n",
       "      <td>21.868859</td>\n",
       "      <td>2654.333333</td>\n",
       "      <td>2654.666667</td>\n",
       "      <td>249.067994</td>\n",
       "    </tr>\n",
       "    <tr>\n",
       "      <th>362996</th>\n",
       "      <td>2024-11-26</td>\n",
       "      <td>1670.00</td>\n",
       "      <td>1685.00</td>\n",
       "      <td>1665.00</td>\n",
       "      <td>1670.00</td>\n",
       "      <td>1319700.0</td>\n",
       "      <td>ULTJ</td>\n",
       "      <td>3630</td>\n",
       "      <td>-28.982196</td>\n",
       "      <td>1780.892823</td>\n",
       "      <td>1665.107177</td>\n",
       "      <td>39.086598</td>\n",
       "      <td>-101.521955</td>\n",
       "      <td>28.780787</td>\n",
       "      <td>1769.000000</td>\n",
       "      <td>1813.500000</td>\n",
       "      <td>249.067994</td>\n",
       "    </tr>\n",
       "    <tr>\n",
       "      <th>362997</th>\n",
       "      <td>2024-11-26</td>\n",
       "      <td>123.00</td>\n",
       "      <td>123.00</td>\n",
       "      <td>122.00</td>\n",
       "      <td>123.00</td>\n",
       "      <td>284200.0</td>\n",
       "      <td>UNSP</td>\n",
       "      <td>3630</td>\n",
       "      <td>5.733318</td>\n",
       "      <td>142.897927</td>\n",
       "      <td>103.302073</td>\n",
       "      <td>60.280480</td>\n",
       "      <td>39.975513</td>\n",
       "      <td>21.470936</td>\n",
       "      <td>115.433333</td>\n",
       "      <td>100.516667</td>\n",
       "      <td>249.067994</td>\n",
       "    </tr>\n",
       "    <tr>\n",
       "      <th>362998</th>\n",
       "      <td>2024-11-26</td>\n",
       "      <td>129.00</td>\n",
       "      <td>130.00</td>\n",
       "      <td>127.00</td>\n",
       "      <td>129.00</td>\n",
       "      <td>3067800.0</td>\n",
       "      <td>WEHA</td>\n",
       "      <td>3630</td>\n",
       "      <td>-3.676446</td>\n",
       "      <td>146.304369</td>\n",
       "      <td>124.495631</td>\n",
       "      <td>43.942857</td>\n",
       "      <td>-88.149445</td>\n",
       "      <td>25.055273</td>\n",
       "      <td>142.533333</td>\n",
       "      <td>140.466667</td>\n",
       "      <td>249.067994</td>\n",
       "    </tr>\n",
       "    <tr>\n",
       "      <th>362999</th>\n",
       "      <td>2024-11-26</td>\n",
       "      <td>324.00</td>\n",
       "      <td>326.00</td>\n",
       "      <td>304.00</td>\n",
       "      <td>324.00</td>\n",
       "      <td>18459500.0</td>\n",
       "      <td>WIKA</td>\n",
       "      <td>3630</td>\n",
       "      <td>-12.015342</td>\n",
       "      <td>404.962565</td>\n",
       "      <td>270.437435</td>\n",
       "      <td>47.145680</td>\n",
       "      <td>-74.050897</td>\n",
       "      <td>13.903473</td>\n",
       "      <td>355.533333</td>\n",
       "      <td>378.666667</td>\n",
       "      <td>249.067994</td>\n",
       "    </tr>\n",
       "  </tbody>\n",
       "</table>\n",
       "<p>363000 rows × 17 columns</p>\n",
       "</div>"
      ],
      "text/plain": [
       "              date     open     high      low    close      volume   tic  \\\n",
       "0       2010-01-04   151.00   151.00   147.00   148.00   1380000.0  ACES   \n",
       "1       2010-01-04   630.00   630.00   620.00   630.00    162000.0  ADES   \n",
       "2       2010-01-04   347.87   347.87   343.63   347.87    760195.0  ADHI   \n",
       "3       2010-01-04  6800.00  6800.00  6800.00  6800.00     17500.0  ADMF   \n",
       "4       2010-01-04   134.00   142.00   134.00   142.00  20006500.0  ADMG   \n",
       "...            ...      ...      ...      ...      ...         ...   ...   \n",
       "362995  2024-11-26  2550.00  2560.00  2510.00  2550.00   1474900.0  TSPC   \n",
       "362996  2024-11-26  1670.00  1685.00  1665.00  1670.00   1319700.0  ULTJ   \n",
       "362997  2024-11-26   123.00   123.00   122.00   123.00    284200.0  UNSP   \n",
       "362998  2024-11-26   129.00   130.00   127.00   129.00   3067800.0  WEHA   \n",
       "362999  2024-11-26   324.00   326.00   304.00   324.00  18459500.0  WIKA   \n",
       "\n",
       "         day       macd      boll_ub      boll_lb      rsi_30      cci_30  \\\n",
       "0          1   0.000000   149.914214   147.085786  100.000000  -66.666667   \n",
       "1          1   0.000000   149.914214   147.085786  100.000000  -66.666667   \n",
       "2          1   0.000000   149.914214   147.085786  100.000000  -66.666667   \n",
       "3          1   0.000000   149.914214   147.085786  100.000000  -66.666667   \n",
       "4          1   0.000000   149.914214   147.085786  100.000000  -66.666667   \n",
       "...      ...        ...          ...          ...         ...         ...   \n",
       "362995  3630 -21.482045  2718.864030  2547.135970   47.421834 -168.905306   \n",
       "362996  3630 -28.982196  1780.892823  1665.107177   39.086598 -101.521955   \n",
       "362997  3630   5.733318   142.897927   103.302073   60.280480   39.975513   \n",
       "362998  3630  -3.676446   146.304369   124.495631   43.942857  -88.149445   \n",
       "362999  3630 -12.015342   404.962565   270.437435   47.145680  -74.050897   \n",
       "\n",
       "             dx_30  close_30_sma  close_60_sma  turbulence  \n",
       "0       100.000000    148.000000    148.000000    0.000000  \n",
       "1       100.000000    630.000000    630.000000    0.000000  \n",
       "2       100.000000    347.870000    347.870000    0.000000  \n",
       "3       100.000000   6800.000000   6800.000000    0.000000  \n",
       "4       100.000000    142.000000    142.000000    0.000000  \n",
       "...            ...           ...           ...         ...  \n",
       "362995   21.868859   2654.333333   2654.666667  249.067994  \n",
       "362996   28.780787   1769.000000   1813.500000  249.067994  \n",
       "362997   21.470936    115.433333    100.516667  249.067994  \n",
       "362998   25.055273    142.533333    140.466667  249.067994  \n",
       "362999   13.903473    355.533333    378.666667  249.067994  \n",
       "\n",
       "[363000 rows x 17 columns]"
      ]
     },
     "execution_count": 1,
     "metadata": {},
     "output_type": "execute_result"
    }
   ],
   "source": [
    "import pandas as pd\n",
    "# DONT USE THIS PATH BECAUSE ALL VOLUME HERE IS 0 (bug in fetch_data_using_api.py)\n",
    "# processed_data_fname = \"/home/devmiftahul/trading_model/from_finrl-tutorials_git/tuntun_scripts/processed_data/processed_data_135_tickers.csv\"\n",
    "\n",
    "features_csv = \"/home/devmiftahul/trading_model/from_finrl-tutorials_git/tuntun_scripts/processed_data/100_tickers_with_features.csv\"\n",
    "processed = pd.read_csv(features_csv)\n",
    "processed"
   ]
  },
  {
   "cell_type": "code",
   "execution_count": null,
   "id": "56c24a7b-7645-41df-bc4a-d915f2c2a1bb",
   "metadata": {},
   "outputs": [],
   "source": [
    "raw_df = processed.copy()\n",
    "volume_zero_count = raw_df[raw_df['volume'] == 0].groupby('tic').size()\n",
    "sorted_volume_zero_count = volume_zero_count.sort_values(ascending=True)\n",
    "print(f\"SORTED VOLUME ZERO COUNT: {sorted_volume_zero_count}\")\n",
    "top_n_tic = sorted_volume_zero_count.head(100)\n",
    "tickers = top_n_tic.index.tolist()\n",
    "df = raw_df[raw_df[\"tic\"].isin(tickers)]\n",
    "# df"
   ]
  },
  {
   "cell_type": "code",
   "execution_count": 2,
   "id": "dc708d87-af6b-40c4-8363-c8477654f410",
   "metadata": {},
   "outputs": [
    {
     "data": {
      "text/plain": [
       "100"
      ]
     },
     "execution_count": 2,
     "metadata": {},
     "output_type": "execute_result"
    }
   ],
   "source": [
    "tickers = sorted(processed.tic.unique())\n",
    "len(tickers)"
   ]
  },
  {
   "cell_type": "code",
   "execution_count": 3,
   "id": "bdbc3f7b-1845-445d-b54e-738091d71efb",
   "metadata": {},
   "outputs": [
    {
     "data": {
      "text/plain": [
       "3630"
      ]
     },
     "execution_count": 3,
     "metadata": {},
     "output_type": "execute_result"
    }
   ],
   "source": [
    "days = processed[\"day\"].unique()\n",
    "len(days)"
   ]
  },
  {
   "cell_type": "code",
   "execution_count": 4,
   "id": "43b2106d-11c4-4896-ae2f-275a0c6fe2f1",
   "metadata": {},
   "outputs": [
    {
     "name": "stdout",
     "output_type": "stream",
     "text": [
      "Training data range: 2020-01-02 00:00:00 to 2022-12-30 00:00:00\n",
      "Training data shape: (73500, 18)\n",
      "\n",
      "Testing data range: 2023-01-02 00:00:00 to 2023-12-29 00:00:00\n",
      "Testing data shape: (23900, 18)\n"
     ]
    }
   ],
   "source": [
    "import pandas as pd\n",
    "\n",
    "def split_data_based_on_date(df, TRAIN_START_DATE, TRAIN_END_DATE, TEST_START_DATE, TEST_END_DATE):\n",
    "    \"\"\"\n",
    "    Split the DataFrame into training and testing sets based on specified date ranges.\n",
    "    \n",
    "    Parameters:\n",
    "    -----------\n",
    "    df : pandas.DataFrame\n",
    "        Input DataFrame containing a 'dfdate' column with date information\n",
    "    TRAIN_START_DATE : str\n",
    "        Start date for training data (inclusive)\n",
    "    TRAIN_END_DATE : str\n",
    "        End date for training data (inclusive)\n",
    "    TEST_START_DATE : str\n",
    "        Start date for testing data (inclusive)\n",
    "    TEST_END_DATE : str\n",
    "        End date for testing data (inclusive)\n",
    "    \n",
    "    Returns:\n",
    "    --------\n",
    "    train_df : pandas.DataFrame\n",
    "        DataFrame containing training data\n",
    "    test_df : pandas.DataFrame\n",
    "        DataFrame containing testing data\n",
    "    \"\"\"\n",
    "    # Ensure the dfdate column is in datetime format\n",
    "    df['dfdate'] = pd.to_datetime(df['date'])\n",
    "    \n",
    "    # Create boolean masks for training and testing data\n",
    "    train_mask = (df['dfdate'] >= TRAIN_START_DATE) & (df['dfdate'] <= TRAIN_END_DATE)\n",
    "    test_mask = (df['dfdate'] >= TEST_START_DATE) & (df['dfdate'] <= TEST_END_DATE)\n",
    "    \n",
    "    # Split the data\n",
    "    train_df = df[train_mask].copy()\n",
    "    test_df = df[test_mask].copy()\n",
    "    \n",
    "    # Validate the splits\n",
    "    print(f\"Training data range: {train_df['dfdate'].min()} to {train_df['dfdate'].max()}\")\n",
    "    print(f\"Training data shape: {train_df.shape}\")\n",
    "    print(f\"\\nTesting data range: {test_df['dfdate'].min()} to {test_df['dfdate'].max()}\")\n",
    "    print(f\"Testing data shape: {test_df.shape}\")\n",
    "    \n",
    "    return train_df, test_df\n",
    "\n",
    "# Example usage:\n",
    "TRAIN_START_DATE = '2020-01-01'\n",
    "TRAIN_END_DATE = '2022-12-31'\n",
    "TEST_START_DATE = '2023-01-01'\n",
    "TEST_END_DATE = '2023-12-31'\n",
    "train_processed, test_processed = split_data_based_on_date(processed, TRAIN_START_DATE, TRAIN_END_DATE, TEST_START_DATE, TEST_END_DATE)"
   ]
  },
  {
   "cell_type": "code",
   "execution_count": 5,
   "id": "adc82bd9-9253-4f57-9e95-56c02be0cc8d",
   "metadata": {},
   "outputs": [],
   "source": [
    "df_portfolio_train = train_processed\n",
    "df_portfolio_test = test_processed"
   ]
  },
  {
   "cell_type": "code",
   "execution_count": 9,
   "id": "943307c1-30da-44b1-8bb9-878b5fb0c2a4",
   "metadata": {},
   "outputs": [],
   "source": [
    "from finrl.meta.env_portfolio_optimization.env_portfolio_optimization import PortfolioOptimizationEnv\n",
    "df = processed.copy()\n",
    "# df_portfolio_train = df[(df[\"day\"] > 3000) & (df[\"day\"] <= 3500)]\n",
    "# df_portfolio_train = df[df[\"day\"] <= 3500]\n",
    "# df_portfolio_test = df[df[\"day\"] > 3500]\n",
    "TIME_WINDOW = 50\n",
    "features=[\"close\", \"high\", \"low\"]\n",
    "initial_features = len(features)\n",
    "\n",
    "environment_train = PortfolioOptimizationEnv(\n",
    "        df_portfolio_train,\n",
    "        initial_amount=100000,\n",
    "        comission_fee_pct=0.0025,\n",
    "        time_window=TIME_WINDOW,\n",
    "        features=features,\n",
    "        time_column=\"day\",\n",
    "        normalize_df=None, # dataframe is already normalized\n",
    "        tics_in_portfolio=tickers\n",
    "    )\n",
    "environment_test = PortfolioOptimizationEnv(\n",
    "        df_portfolio_test,\n",
    "        initial_amount=100000,\n",
    "        comission_fee_pct=0.0025,\n",
    "        time_window=TIME_WINDOW,\n",
    "        features=features,\n",
    "        time_column=\"day\",\n",
    "        normalize_df=None, # dataframe is already normalized\n",
    "        tics_in_portfolio=tickers\n",
    "    )"
   ]
  },
  {
   "cell_type": "code",
   "execution_count": 8,
   "id": "b8bc6a31-a5cd-4a76-8fac-7b0c08187b87",
   "metadata": {},
   "outputs": [
    {
     "data": {
      "text/plain": [
       "239"
      ]
     },
     "execution_count": 8,
     "metadata": {},
     "output_type": "execute_result"
    }
   ],
   "source": [
    "len(df_portfolio_test[\"day\"].unique())"
   ]
  },
  {
   "cell_type": "code",
   "execution_count": 10,
   "id": "56a442d8-e4ec-4f61-a99c-1e484eca541c",
   "metadata": {},
   "outputs": [
    {
     "name": "stdout",
     "output_type": "stream",
     "text": [
      "cuda:0\n"
     ]
    }
   ],
   "source": [
    "import torch\n",
    "device = 'cuda:0' if torch.cuda.is_available() else 'cpu'\n",
    "print(device)\n",
    "from finrl.agents.portfolio_optimization.architectures import EI3\n",
    "from finrl.agents.portfolio_optimization.models import DRLAgent\n",
    "model_kwargs = {\n",
    "    \"lr\": 0.0001,\n",
    "    \"policy\": EI3,\n",
    "}\n",
    "policy_kwargs = {\n",
    "    \"initial_features\": initial_features,\n",
    "    \"k_short\": 3,\n",
    "    \"k_medium\": 21,\n",
    "    \"conv_mid_features\": 3,\n",
    "    \"conv_final_features\": 20,\n",
    "    \"time_window\": TIME_WINDOW\n",
    "}\n",
    "\n",
    "model = DRLAgent(environment_train).get_model(\"pg\", device, model_kwargs, policy_kwargs)"
   ]
  },
  {
   "cell_type": "code",
   "execution_count": 11,
   "id": "76d8c824-eca8-45c8-8e43-6dbfc1c0d983",
   "metadata": {},
   "outputs": [
    {
     "data": {
      "text/plain": [
       "<finrl.agents.portfolio_optimization.algorithms.PolicyGradient at 0x70a28f907f40>"
      ]
     },
     "execution_count": 11,
     "metadata": {},
     "output_type": "execute_result"
    }
   ],
   "source": [
    "model"
   ]
  },
  {
   "cell_type": "code",
   "execution_count": 12,
   "id": "0e6c3aa6-f7df-41ba-b9f8-9a7197c5ea17",
   "metadata": {},
   "outputs": [
    {
     "name": "stderr",
     "output_type": "stream",
     "text": [
      "  0%|                                                                                                                                                    | 0/10 [00:00<?, ?it/s]"
     ]
    },
    {
     "name": "stdout",
     "output_type": "stream",
     "text": [
      "=================================\n",
      "Initial portfolio value:100000\n",
      "Final portfolio value: 39301.30859375\n",
      "Final accumulative portfolio value: 0.3930130859375\n",
      "Maximum DrawDown: -0.6698761735628076\n",
      "Sharpe ratio: -0.754185060763891\n",
      "=================================\n"
     ]
    },
    {
     "name": "stderr",
     "output_type": "stream",
     "text": [
      " 10%|█████████████▉                                                                                                                             | 1/10 [01:42<15:25, 102.80s/it]"
     ]
    },
    {
     "name": "stdout",
     "output_type": "stream",
     "text": [
      "=================================\n",
      "Initial portfolio value:100000\n",
      "Final portfolio value: 39301.30859375\n",
      "Final accumulative portfolio value: 0.3930130859375\n",
      "Maximum DrawDown: -0.6698761735628076\n",
      "Sharpe ratio: -0.754185060763891\n",
      "=================================\n"
     ]
    },
    {
     "name": "stderr",
     "output_type": "stream",
     "text": [
      " 20%|███████████████████████████▊                                                                                                               | 2/10 [03:26<13:46, 103.31s/it]"
     ]
    },
    {
     "name": "stdout",
     "output_type": "stream",
     "text": [
      "=================================\n",
      "Initial portfolio value:100000\n",
      "Final portfolio value: 39301.30859375\n",
      "Final accumulative portfolio value: 0.3930130859375\n",
      "Maximum DrawDown: -0.6698761735628076\n",
      "Sharpe ratio: -0.754185060763891\n",
      "=================================\n"
     ]
    },
    {
     "name": "stderr",
     "output_type": "stream",
     "text": [
      " 30%|█████████████████████████████████████████▋                                                                                                 | 3/10 [05:10<12:04, 103.47s/it]"
     ]
    },
    {
     "name": "stdout",
     "output_type": "stream",
     "text": [
      "=================================\n",
      "Initial portfolio value:100000\n",
      "Final portfolio value: 39301.30859375\n",
      "Final accumulative portfolio value: 0.3930130859375\n",
      "Maximum DrawDown: -0.6698761735628076\n",
      "Sharpe ratio: -0.754185060763891\n",
      "=================================\n"
     ]
    },
    {
     "name": "stderr",
     "output_type": "stream",
     "text": [
      " 40%|███████████████████████████████████████████████████████▌                                                                                   | 4/10 [06:53<10:20, 103.46s/it]"
     ]
    },
    {
     "name": "stdout",
     "output_type": "stream",
     "text": [
      "=================================\n",
      "Initial portfolio value:100000\n",
      "Final portfolio value: 39301.30859375\n",
      "Final accumulative portfolio value: 0.3930130859375\n",
      "Maximum DrawDown: -0.6698761735628076\n",
      "Sharpe ratio: -0.754185060763891\n",
      "=================================\n"
     ]
    },
    {
     "name": "stderr",
     "output_type": "stream",
     "text": [
      " 50%|█████████████████████████████████████████████████████████████████████▌                                                                     | 5/10 [08:36<08:36, 103.27s/it]"
     ]
    },
    {
     "name": "stdout",
     "output_type": "stream",
     "text": [
      "=================================\n",
      "Initial portfolio value:100000\n",
      "Final portfolio value: 39301.30859375\n",
      "Final accumulative portfolio value: 0.3930130859375\n",
      "Maximum DrawDown: -0.6698761735628076\n",
      "Sharpe ratio: -0.754185060763891\n",
      "=================================\n"
     ]
    },
    {
     "name": "stderr",
     "output_type": "stream",
     "text": [
      " 60%|███████████████████████████████████████████████████████████████████████████████████▍                                                       | 6/10 [10:20<06:53, 103.47s/it]"
     ]
    },
    {
     "name": "stdout",
     "output_type": "stream",
     "text": [
      "=================================\n",
      "Initial portfolio value:100000\n",
      "Final portfolio value: 39301.30859375\n",
      "Final accumulative portfolio value: 0.3930130859375\n",
      "Maximum DrawDown: -0.6698761735628076\n",
      "Sharpe ratio: -0.754185060763891\n",
      "=================================\n"
     ]
    },
    {
     "name": "stderr",
     "output_type": "stream",
     "text": [
      " 70%|█████████████████████████████████████████████████████████████████████████████████████████████████▎                                         | 7/10 [12:04<05:10, 103.66s/it]"
     ]
    },
    {
     "name": "stdout",
     "output_type": "stream",
     "text": [
      "=================================\n",
      "Initial portfolio value:100000\n",
      "Final portfolio value: 39301.30859375\n",
      "Final accumulative portfolio value: 0.3930130859375\n",
      "Maximum DrawDown: -0.6698761735628076\n",
      "Sharpe ratio: -0.754185060763891\n",
      "=================================\n"
     ]
    },
    {
     "name": "stderr",
     "output_type": "stream",
     "text": [
      " 80%|███████████████████████████████████████████████████████████████████████████████████████████████████████████████▏                           | 8/10 [13:48<03:27, 103.85s/it]"
     ]
    },
    {
     "name": "stdout",
     "output_type": "stream",
     "text": [
      "=================================\n",
      "Initial portfolio value:100000\n",
      "Final portfolio value: 39301.30859375\n",
      "Final accumulative portfolio value: 0.3930130859375\n",
      "Maximum DrawDown: -0.6698761735628076\n",
      "Sharpe ratio: -0.754185060763891\n",
      "=================================\n"
     ]
    },
    {
     "name": "stderr",
     "output_type": "stream",
     "text": [
      " 90%|█████████████████████████████████████████████████████████████████████████████████████████████████████████████████████████████              | 9/10 [15:32<01:43, 103.98s/it]"
     ]
    },
    {
     "name": "stdout",
     "output_type": "stream",
     "text": [
      "=================================\n",
      "Initial portfolio value:100000\n",
      "Final portfolio value: 39301.30859375\n",
      "Final accumulative portfolio value: 0.3930130859375\n",
      "Maximum DrawDown: -0.6698761735628076\n",
      "Sharpe ratio: -0.754185060763891\n",
      "=================================\n"
     ]
    },
    {
     "name": "stderr",
     "output_type": "stream",
     "text": [
      "100%|██████████████████████████████████████████████████████████████████████████████████████████████████████████████████████████████████████████| 10/10 [17:16<00:00, 103.66s/it]\n"
     ]
    },
    {
     "data": {
      "text/plain": [
       "<finrl.agents.portfolio_optimization.algorithms.PolicyGradient at 0x70a28f907f40>"
      ]
     },
     "execution_count": 12,
     "metadata": {},
     "output_type": "execute_result"
    }
   ],
   "source": [
    "DRLAgent.train_model(model, episodes=10)"
   ]
  },
  {
   "cell_type": "code",
   "execution_count": 13,
   "id": "d199440f-9e76-47f6-a80d-17429311f03f",
   "metadata": {},
   "outputs": [
    {
     "data": {
      "text/plain": [
       "<finrl.agents.portfolio_optimization.algorithms.PolicyGradient at 0x70a28f907f40>"
      ]
     },
     "execution_count": 13,
     "metadata": {},
     "output_type": "execute_result"
    }
   ],
   "source": [
    "model"
   ]
  },
  {
   "cell_type": "code",
   "execution_count": 14,
   "id": "ea71f7a8-7b7c-4250-a627-9b545dedc0ae",
   "metadata": {},
   "outputs": [],
   "source": [
    "import os\n",
    "d = \"tuntun_api_100_tics_trained_models/ei3\"\n",
    "os.makedirs(d, exist_ok=True)\n",
    "model_path = f\"{d}/policy_EI3.pt\"\n",
    "torch.save(model.train_policy.state_dict(), model_path)"
   ]
  },
  {
   "cell_type": "code",
   "execution_count": 15,
   "id": "dae020e0-7a73-4758-b2c0-e767b87871e6",
   "metadata": {},
   "outputs": [
    {
     "name": "stderr",
     "output_type": "stream",
     "text": [
      "/tmp/ipykernel_2526153/1652683862.py:9: FutureWarning: You are using `torch.load` with `weights_only=False` (the current default value), which uses the default pickle module implicitly. It is possible to construct malicious pickle data which will execute arbitrary code during unpickling (See https://github.com/pytorch/pytorch/blob/main/SECURITY.md#untrusted-models for more details). In a future release, the default value for `weights_only` will be flipped to `True`. This limits the functions that could be executed during unpickling. Arbitrary objects will no longer be allowed to be loaded via this mode unless they are explicitly allowlisted by the user via `torch.serialization.add_safe_globals`. We recommend you start setting `weights_only=True` for any use case where you don't have full control of the loaded file. Please open an issue on GitHub for any issues related to this experimental feature.\n",
      "  policy.load_state_dict(torch.load(model_path))\n"
     ]
    },
    {
     "name": "stdout",
     "output_type": "stream",
     "text": [
      "SELF TEST ENV EPISODE LENGTH 190\n",
      "ENV PORTFOLIO SIZE 100\n",
      "=================================\n",
      "Initial portfolio value:100000\n",
      "Final portfolio value: 75655.765625\n",
      "Final accumulative portfolio value: 0.75655765625\n",
      "Maximum DrawDown: -0.3673337915787871\n",
      "Sharpe ratio: -0.872483643598689\n",
      "=================================\n"
     ]
    }
   ],
   "source": [
    "EI3_results = {\n",
    "    \"train\": environment_train._asset_memory[\"final\"],\n",
    "    \"test\": {},\n",
    "}\n",
    "\n",
    "# instantiate an architecture with the same arguments used in training\n",
    "# and load with load_state_dict.\n",
    "policy = EI3(**policy_kwargs)\n",
    "policy.load_state_dict(torch.load(model_path))\n",
    "\n",
    "# testing\n",
    "DRLAgent.DRL_validation(model, environment_test, policy=policy)\n",
    "EI3_results[\"test\"] = environment_test._asset_memory[\"final\"]"
   ]
  },
  {
   "cell_type": "code",
   "execution_count": 20,
   "id": "e2fb7779-2714-4a07-989e-7f1b300f725d",
   "metadata": {},
   "outputs": [
    {
     "name": "stdout",
     "output_type": "stream",
     "text": [
      "=================================\n",
      "Initial portfolio value:100000\n",
      "Final portfolio value: 102490.953125\n",
      "Final accumulative portfolio value: 1.02490953125\n",
      "Maximum DrawDown: -0.09663606702115723\n",
      "Sharpe ratio: 0.3512318434348457\n",
      "=================================\n"
     ]
    }
   ],
   "source": [
    "UBAH_results = {\n",
    "    \"train\": {},\n",
    "    \"test\": {},\n",
    "}\n",
    "\n",
    "PORTFOLIO_SIZE = len(tickers)\n",
    "\n",
    "# test period\n",
    "terminated = False\n",
    "environment_test.reset()\n",
    "while not terminated:\n",
    "    action = [0] + [1/PORTFOLIO_SIZE] * PORTFOLIO_SIZE\n",
    "    _, _, terminated, _ = environment_test.step(action)\n",
    "UBAH_results[\"test\"] = environment_test._asset_memory[\"final\"]"
   ]
  },
  {
   "cell_type": "code",
   "execution_count": 21,
   "id": "de6d1c8d-dfc9-4e65-9d81-0381c55dce06",
   "metadata": {},
   "outputs": [
    {
     "data": {
      "image/png": "[encoded data removed]",
      "text/plain": [
       "<Figure size 1000x600 with 1 Axes>"
      ]
     },
     "metadata": {},
     "output_type": "display_data"
    }
   ],
   "source": [
    "import matplotlib.pyplot as plt\n",
    "%matplotlib inline \n",
    "\n",
    "plt.plot(UBAH_results[\"test\"], label=\"Buy and Hold\")\n",
    "plt.plot(EI3_results[\"test\"], label=\"EI3\")\n",
    "\n",
    "plt.xlabel(\"Days\")\n",
    "plt.ylabel(\"Portfolio Value\")\n",
    "plt.title(\"Performance in testing period\")\n",
    "plt.legend()\n",
    "\n",
    "plt.show()"
   ]
  }
 ],
 "metadata": {
  "kernelspec": {
   "display_name": "Python 3 (ipykernel)",
   "language": "python",
   "name": "python3"
  },
  "language_info": {
   "codemirror_mode": {
    "name": "ipython",
    "version": 3
   },
   "file_extension": ".py",
   "mimetype": "text/x-python",
   "name": "python",
   "nbconvert_exporter": "python",
   "pygments_lexer": "ipython3",
   "version": "3.10.5"
  }
 },
 "nbformat": 4,
 "nbformat_minor": 5
}
