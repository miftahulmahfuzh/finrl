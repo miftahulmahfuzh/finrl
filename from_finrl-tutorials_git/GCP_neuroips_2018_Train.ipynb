{
 "cells": [
  {
   "cell_type": "code",
   "execution_count": 1,
   "id": "6aba46b9-d96f-46e9-9699-031819c843dd",
   "metadata": {},
   "outputs": [],
   "source": [
    "# Taken from:\n",
    "# https://github.com/AI4Finance-Foundation/FinRL-Tutorials/blob/master/1-Introduction/Stock_NeurIPS2018/Stock_NeurIPS2018_2_Train.ipynb"
   ]
  },
  {
   "cell_type": "code",
   "execution_count": 2,
   "id": "a4212b08-7063-43bf-b62b-7e06008117b6",
   "metadata": {},
   "outputs": [
    {
     "name": "stdout",
     "output_type": "stream",
     "text": [
      "Requirement already satisfied: swig in /home/devmiftahul/.pyenv/versions/3.10.5/envs/finrl/lib/python3.10/site-packages (4.2.1.post0)\n",
      "Requirement already satisfied: wrds in /home/devmiftahul/.pyenv/versions/3.10.5/envs/finrl/lib/python3.10/site-packages (3.2.0)\n",
      "Requirement already satisfied: numpy<1.27,>=1.26 in /home/devmiftahul/.pyenv/versions/3.10.5/envs/finrl/lib/python3.10/site-packages (from wrds) (1.26.4)\n",
      "Requirement already satisfied: packaging<23.3 in /home/devmiftahul/.pyenv/versions/3.10.5/envs/finrl/lib/python3.10/site-packages (from wrds) (23.2)\n",
      "Requirement already satisfied: pandas<2.3,>=2.2 in /home/devmiftahul/.pyenv/versions/3.10.5/envs/finrl/lib/python3.10/site-packages (from wrds) (2.2.3)\n",
      "Requirement already satisfied: psycopg2-binary<2.10,>=2.9 in /home/devmiftahul/.pyenv/versions/3.10.5/envs/finrl/lib/python3.10/site-packages (from wrds) (2.9.10)\n",
      "Requirement already satisfied: scipy<1.13,>=1.12 in /home/devmiftahul/.pyenv/versions/3.10.5/envs/finrl/lib/python3.10/site-packages (from wrds) (1.12.0)\n",
      "Requirement already satisfied: sqlalchemy<2.1,>=2 in /home/devmiftahul/.pyenv/versions/3.10.5/envs/finrl/lib/python3.10/site-packages (from wrds) (2.0.36)\n",
      "Requirement already satisfied: python-dateutil>=2.8.2 in /home/devmiftahul/.pyenv/versions/3.10.5/envs/finrl/lib/python3.10/site-packages (from pandas<2.3,>=2.2->wrds) (2.9.0.post0)\n",
      "Requirement already satisfied: pytz>=2020.1 in /home/devmiftahul/.pyenv/versions/3.10.5/envs/finrl/lib/python3.10/site-packages (from pandas<2.3,>=2.2->wrds) (2024.2)\n",
      "Requirement already satisfied: tzdata>=2022.7 in /home/devmiftahul/.pyenv/versions/3.10.5/envs/finrl/lib/python3.10/site-packages (from pandas<2.3,>=2.2->wrds) (2024.2)\n",
      "Requirement already satisfied: typing-extensions>=4.6.0 in /home/devmiftahul/.pyenv/versions/3.10.5/envs/finrl/lib/python3.10/site-packages (from sqlalchemy<2.1,>=2->wrds) (4.12.2)\n",
      "Requirement already satisfied: greenlet!=0.4.17 in /home/devmiftahul/.pyenv/versions/3.10.5/envs/finrl/lib/python3.10/site-packages (from sqlalchemy<2.1,>=2->wrds) (3.1.1)\n",
      "Requirement already satisfied: six>=1.5 in /home/devmiftahul/.pyenv/versions/3.10.5/envs/finrl/lib/python3.10/site-packages (from python-dateutil>=2.8.2->pandas<2.3,>=2.2->wrds) (1.16.0)\n",
      "Requirement already satisfied: pyportfolioopt in /home/devmiftahul/.pyenv/versions/3.10.5/envs/finrl/lib/python3.10/site-packages (1.5.5)\n",
      "Requirement already satisfied: cvxpy<2.0.0,>=1.1.19 in /home/devmiftahul/.pyenv/versions/3.10.5/envs/finrl/lib/python3.10/site-packages (from pyportfolioopt) (1.6.0)\n",
      "Requirement already satisfied: numpy<2.0.0,>=1.22.4 in /home/devmiftahul/.pyenv/versions/3.10.5/envs/finrl/lib/python3.10/site-packages (from pyportfolioopt) (1.26.4)\n",
      "Requirement already satisfied: pandas>=0.19 in /home/devmiftahul/.pyenv/versions/3.10.5/envs/finrl/lib/python3.10/site-packages (from pyportfolioopt) (2.2.3)\n",
      "Requirement already satisfied: scipy<2.0,>=1.3 in /home/devmiftahul/.pyenv/versions/3.10.5/envs/finrl/lib/python3.10/site-packages (from pyportfolioopt) (1.12.0)\n",
      "Requirement already satisfied: osqp>=0.6.2 in /home/devmiftahul/.pyenv/versions/3.10.5/envs/finrl/lib/python3.10/site-packages (from cvxpy<2.0.0,>=1.1.19->pyportfolioopt) (0.6.7.post3)\n",
      "Requirement already satisfied: clarabel>=0.5.0 in /home/devmiftahul/.pyenv/versions/3.10.5/envs/finrl/lib/python3.10/site-packages (from cvxpy<2.0.0,>=1.1.19->pyportfolioopt) (0.9.0)\n",
      "Requirement already satisfied: scs>=3.2.4.post1 in /home/devmiftahul/.pyenv/versions/3.10.5/envs/finrl/lib/python3.10/site-packages (from cvxpy<2.0.0,>=1.1.19->pyportfolioopt) (3.2.7)\n",
      "Requirement already satisfied: python-dateutil>=2.8.2 in /home/devmiftahul/.pyenv/versions/3.10.5/envs/finrl/lib/python3.10/site-packages (from pandas>=0.19->pyportfolioopt) (2.9.0.post0)\n",
      "Requirement already satisfied: pytz>=2020.1 in /home/devmiftahul/.pyenv/versions/3.10.5/envs/finrl/lib/python3.10/site-packages (from pandas>=0.19->pyportfolioopt) (2024.2)\n",
      "Requirement already satisfied: tzdata>=2022.7 in /home/devmiftahul/.pyenv/versions/3.10.5/envs/finrl/lib/python3.10/site-packages (from pandas>=0.19->pyportfolioopt) (2024.2)\n",
      "Requirement already satisfied: qdldl in /home/devmiftahul/.pyenv/versions/3.10.5/envs/finrl/lib/python3.10/site-packages (from osqp>=0.6.2->cvxpy<2.0.0,>=1.1.19->pyportfolioopt) (0.1.7.post4)\n",
      "Requirement already satisfied: six>=1.5 in /home/devmiftahul/.pyenv/versions/3.10.5/envs/finrl/lib/python3.10/site-packages (from python-dateutil>=2.8.2->pandas>=0.19->pyportfolioopt) (1.16.0)\n",
      "Collecting git+https://github.com/AI4Finance-Foundation/FinRL.git\n",
      "  Cloning https://github.com/AI4Finance-Foundation/FinRL.git to /tmp/pip-req-build-phflbg53\n",
      "  Running command git clone --filter=blob:none --quiet https://github.com/AI4Finance-Foundation/FinRL.git /tmp/pip-req-build-phflbg53\n",
      "  Resolved https://github.com/AI4Finance-Foundation/FinRL.git to commit 0496601ee2824ca675beb5a220afd9109ac02ffa\n",
      "  Installing build dependencies ... \u001b[?25ldone\n",
      "\u001b[?25h  Getting requirements to build wheel ... \u001b[?25ldone\n",
      "\u001b[?25h  Preparing metadata (pyproject.toml) ... \u001b[?25ldone\n",
      "\u001b[?25hCollecting elegantrl@ git+https://github.com/AI4Finance-Foundation/ElegantRL.git#egg=elegantrl (from finrl==0.3.6)\n",
      "  Cloning https://github.com/AI4Finance-Foundation/ElegantRL.git to /tmp/pip-install-dpwudzrw/elegantrl_743ca43ae73e484f8910fa492db24107\n",
      "  Running command git clone --filter=blob:none --quiet https://github.com/AI4Finance-Foundation/ElegantRL.git /tmp/pip-install-dpwudzrw/elegantrl_743ca43ae73e484f8910fa492db24107\n",
      "  Resolved https://github.com/AI4Finance-Foundation/ElegantRL.git to commit 5bca7aeeb73f5779788dd6714a53b59ce880c583\n",
      "  Preparing metadata (setup.py) ... \u001b[?25ldone\n",
      "\u001b[?25hRequirement already satisfied: alpaca-trade-api<4,>=3 in /home/devmiftahul/.pyenv/versions/3.10.5/envs/finrl/lib/python3.10/site-packages (from finrl==0.3.6) (3.2.0)\n",
      "Requirement already satisfied: ccxt<4,>=3 in /home/devmiftahul/.pyenv/versions/3.10.5/envs/finrl/lib/python3.10/site-packages (from finrl==0.3.6) (3.1.60)\n",
      "Requirement already satisfied: exchange-calendars<5,>=4 in /home/devmiftahul/.pyenv/versions/3.10.5/envs/finrl/lib/python3.10/site-packages (from finrl==0.3.6) (4.5.8)\n",
      "Requirement already satisfied: jqdatasdk<2,>=1 in /home/devmiftahul/.pyenv/versions/3.10.5/envs/finrl/lib/python3.10/site-packages (from finrl==0.3.6) (1.9.6)\n",
      "Requirement already satisfied: pyfolio<0.10,>=0.9 in /home/devmiftahul/.pyenv/versions/3.10.5/envs/finrl/lib/python3.10/site-packages (from finrl==0.3.6) (0.9.2)\n",
      "Requirement already satisfied: pyportfolioopt<2,>=1 in /home/devmiftahul/.pyenv/versions/3.10.5/envs/finrl/lib/python3.10/site-packages (from finrl==0.3.6) (1.5.5)\n",
      "Requirement already satisfied: ray<3,>=2 in /home/devmiftahul/.pyenv/versions/3.10.5/envs/finrl/lib/python3.10/site-packages (from ray[default,tune]<3,>=2->finrl==0.3.6) (2.39.0)\n",
      "Requirement already satisfied: scikit-learn<2,>=1 in /home/devmiftahul/.pyenv/versions/3.10.5/envs/finrl/lib/python3.10/site-packages (from finrl==0.3.6) (1.5.2)\n",
      "Requirement already satisfied: stable-baselines3>=2.0.0a5 in /home/devmiftahul/.pyenv/versions/3.10.5/envs/finrl/lib/python3.10/site-packages (from stable-baselines3[extra]>=2.0.0a5->finrl==0.3.6) (2.5.0a0)\n",
      "Requirement already satisfied: stockstats<0.6,>=0.5 in /home/devmiftahul/.pyenv/versions/3.10.5/envs/finrl/lib/python3.10/site-packages (from finrl==0.3.6) (0.5.4)\n",
      "Requirement already satisfied: wrds<4,>=3 in /home/devmiftahul/.pyenv/versions/3.10.5/envs/finrl/lib/python3.10/site-packages (from finrl==0.3.6) (3.2.0)\n",
      "Requirement already satisfied: yfinance<0.3,>=0.2 in /home/devmiftahul/.pyenv/versions/3.10.5/envs/finrl/lib/python3.10/site-packages (from finrl==0.3.6) (0.2.49)\n",
      "Requirement already satisfied: pandas>=0.18.1 in /home/devmiftahul/.pyenv/versions/3.10.5/envs/finrl/lib/python3.10/site-packages (from alpaca-trade-api<4,>=3->finrl==0.3.6) (2.2.3)\n",
      "Requirement already satisfied: numpy>=1.11.1 in /home/devmiftahul/.pyenv/versions/3.10.5/envs/finrl/lib/python3.10/site-packages (from alpaca-trade-api<4,>=3->finrl==0.3.6) (1.26.4)\n",
      "Requirement already satisfied: requests<3,>2 in /home/devmiftahul/.pyenv/versions/3.10.5/envs/finrl/lib/python3.10/site-packages (from alpaca-trade-api<4,>=3->finrl==0.3.6) (2.32.3)\n",
      "Requirement already satisfied: urllib3<2,>1.24 in /home/devmiftahul/.pyenv/versions/3.10.5/envs/finrl/lib/python3.10/site-packages (from alpaca-trade-api<4,>=3->finrl==0.3.6) (1.26.20)\n",
      "Requirement already satisfied: websocket-client<2,>=0.56.0 in /home/devmiftahul/.pyenv/versions/3.10.5/envs/finrl/lib/python3.10/site-packages (from alpaca-trade-api<4,>=3->finrl==0.3.6) (1.8.0)\n",
      "Requirement already satisfied: websockets<11,>=9.0 in /home/devmiftahul/.pyenv/versions/3.10.5/envs/finrl/lib/python3.10/site-packages (from alpaca-trade-api<4,>=3->finrl==0.3.6) (10.4)\n",
      "Requirement already satisfied: msgpack==1.0.3 in /home/devmiftahul/.pyenv/versions/3.10.5/envs/finrl/lib/python3.10/site-packages (from alpaca-trade-api<4,>=3->finrl==0.3.6) (1.0.3)\n",
      "Requirement already satisfied: aiohttp<4,>=3.8.3 in /home/devmiftahul/.pyenv/versions/3.10.5/envs/finrl/lib/python3.10/site-packages (from alpaca-trade-api<4,>=3->finrl==0.3.6) (3.11.4)\n",
      "Requirement already satisfied: PyYAML==6.0.1 in /home/devmiftahul/.pyenv/versions/3.10.5/envs/finrl/lib/python3.10/site-packages (from alpaca-trade-api<4,>=3->finrl==0.3.6) (6.0.1)\n",
      "Requirement already satisfied: deprecation==2.1.0 in /home/devmiftahul/.pyenv/versions/3.10.5/envs/finrl/lib/python3.10/site-packages (from alpaca-trade-api<4,>=3->finrl==0.3.6) (2.1.0)\n",
      "Requirement already satisfied: packaging in /home/devmiftahul/.pyenv/versions/3.10.5/envs/finrl/lib/python3.10/site-packages (from deprecation==2.1.0->alpaca-trade-api<4,>=3->finrl==0.3.6) (23.2)\n",
      "Requirement already satisfied: setuptools>=60.9.0 in /home/devmiftahul/.pyenv/versions/3.10.5/envs/finrl/lib/python3.10/site-packages (from ccxt<4,>=3->finrl==0.3.6) (75.5.0)\n",
      "Requirement already satisfied: certifi>=2018.1.18 in /home/devmiftahul/.pyenv/versions/3.10.5/envs/finrl/lib/python3.10/site-packages (from ccxt<4,>=3->finrl==0.3.6) (2024.8.30)\n",
      "Requirement already satisfied: cryptography>=2.6.1 in /home/devmiftahul/.pyenv/versions/3.10.5/envs/finrl/lib/python3.10/site-packages (from ccxt<4,>=3->finrl==0.3.6) (43.0.3)\n",
      "Requirement already satisfied: aiodns>=1.1.1 in /home/devmiftahul/.pyenv/versions/3.10.5/envs/finrl/lib/python3.10/site-packages (from ccxt<4,>=3->finrl==0.3.6) (3.2.0)\n",
      "Requirement already satisfied: yarl>=1.7.2 in /home/devmiftahul/.pyenv/versions/3.10.5/envs/finrl/lib/python3.10/site-packages (from ccxt<4,>=3->finrl==0.3.6) (1.17.2)\n",
      "Requirement already satisfied: pyluach in /home/devmiftahul/.pyenv/versions/3.10.5/envs/finrl/lib/python3.10/site-packages (from exchange-calendars<5,>=4->finrl==0.3.6) (2.2.0)\n",
      "Requirement already satisfied: toolz in /home/devmiftahul/.pyenv/versions/3.10.5/envs/finrl/lib/python3.10/site-packages (from exchange-calendars<5,>=4->finrl==0.3.6) (1.0.0)\n",
      "Requirement already satisfied: tzdata in /home/devmiftahul/.pyenv/versions/3.10.5/envs/finrl/lib/python3.10/site-packages (from exchange-calendars<5,>=4->finrl==0.3.6) (2024.2)\n",
      "Requirement already satisfied: korean-lunar-calendar in /home/devmiftahul/.pyenv/versions/3.10.5/envs/finrl/lib/python3.10/site-packages (from exchange-calendars<5,>=4->finrl==0.3.6) (0.3.1)\n",
      "Requirement already satisfied: six in /home/devmiftahul/.pyenv/versions/3.10.5/envs/finrl/lib/python3.10/site-packages (from jqdatasdk<2,>=1->finrl==0.3.6) (1.16.0)\n",
      "Requirement already satisfied: SQLAlchemy>=1.2.8 in /home/devmiftahul/.pyenv/versions/3.10.5/envs/finrl/lib/python3.10/site-packages (from jqdatasdk<2,>=1->finrl==0.3.6) (2.0.36)\n",
      "Requirement already satisfied: pymysql>=0.7.6 in /home/devmiftahul/.pyenv/versions/3.10.5/envs/finrl/lib/python3.10/site-packages (from jqdatasdk<2,>=1->finrl==0.3.6) (1.1.1)\n",
      "Requirement already satisfied: thriftpy2!=0.5.1,>=0.3.9 in /home/devmiftahul/.pyenv/versions/3.10.5/envs/finrl/lib/python3.10/site-packages (from jqdatasdk<2,>=1->finrl==0.3.6) (0.5.2)\n",
      "Requirement already satisfied: ipython>=3.2.3 in /home/devmiftahul/.pyenv/versions/3.10.5/envs/finrl/lib/python3.10/site-packages (from pyfolio<0.10,>=0.9->finrl==0.3.6) (8.29.0)\n",
      "Requirement already satisfied: matplotlib>=1.4.0 in /home/devmiftahul/.pyenv/versions/3.10.5/envs/finrl/lib/python3.10/site-packages (from pyfolio<0.10,>=0.9->finrl==0.3.6) (3.9.2)\n",
      "Requirement already satisfied: pytz>=2014.10 in /home/devmiftahul/.pyenv/versions/3.10.5/envs/finrl/lib/python3.10/site-packages (from pyfolio<0.10,>=0.9->finrl==0.3.6) (2024.2)\n",
      "Requirement already satisfied: scipy>=0.14.0 in /home/devmiftahul/.pyenv/versions/3.10.5/envs/finrl/lib/python3.10/site-packages (from pyfolio<0.10,>=0.9->finrl==0.3.6) (1.12.0)\n",
      "Requirement already satisfied: seaborn>=0.7.1 in /home/devmiftahul/.pyenv/versions/3.10.5/envs/finrl/lib/python3.10/site-packages (from pyfolio<0.10,>=0.9->finrl==0.3.6) (0.13.2)\n",
      "Requirement already satisfied: empyrical>=0.5.0 in /home/devmiftahul/.pyenv/versions/3.10.5/envs/finrl/lib/python3.10/site-packages (from pyfolio<0.10,>=0.9->finrl==0.3.6) (0.5.5)\n",
      "Requirement already satisfied: cvxpy<2.0.0,>=1.1.19 in /home/devmiftahul/.pyenv/versions/3.10.5/envs/finrl/lib/python3.10/site-packages (from pyportfolioopt<2,>=1->finrl==0.3.6) (1.6.0)\n",
      "Requirement already satisfied: click>=7.0 in /home/devmiftahul/.pyenv/versions/3.10.5/envs/finrl/lib/python3.10/site-packages (from ray<3,>=2->ray[default,tune]<3,>=2->finrl==0.3.6) (8.1.7)\n",
      "Requirement already satisfied: filelock in /home/devmiftahul/.pyenv/versions/3.10.5/envs/finrl/lib/python3.10/site-packages (from ray<3,>=2->ray[default,tune]<3,>=2->finrl==0.3.6) (3.16.1)\n",
      "Requirement already satisfied: jsonschema in /home/devmiftahul/.pyenv/versions/3.10.5/envs/finrl/lib/python3.10/site-packages (from ray<3,>=2->ray[default,tune]<3,>=2->finrl==0.3.6) (4.23.0)\n",
      "Requirement already satisfied: protobuf!=3.19.5,>=3.15.3 in /home/devmiftahul/.pyenv/versions/3.10.5/envs/finrl/lib/python3.10/site-packages (from ray<3,>=2->ray[default,tune]<3,>=2->finrl==0.3.6) (5.28.3)\n",
      "Requirement already satisfied: aiosignal in /home/devmiftahul/.pyenv/versions/3.10.5/envs/finrl/lib/python3.10/site-packages (from ray<3,>=2->ray[default,tune]<3,>=2->finrl==0.3.6) (1.3.1)\n",
      "Requirement already satisfied: frozenlist in /home/devmiftahul/.pyenv/versions/3.10.5/envs/finrl/lib/python3.10/site-packages (from ray<3,>=2->ray[default,tune]<3,>=2->finrl==0.3.6) (1.5.0)\n",
      "Requirement already satisfied: aiohttp-cors in /home/devmiftahul/.pyenv/versions/3.10.5/envs/finrl/lib/python3.10/site-packages (from ray[default,tune]<3,>=2->finrl==0.3.6) (0.7.0)\n",
      "Requirement already satisfied: colorful in /home/devmiftahul/.pyenv/versions/3.10.5/envs/finrl/lib/python3.10/site-packages (from ray[default,tune]<3,>=2->finrl==0.3.6) (0.5.6)\n",
      "Requirement already satisfied: py-spy>=0.2.0 in /home/devmiftahul/.pyenv/versions/3.10.5/envs/finrl/lib/python3.10/site-packages (from ray[default,tune]<3,>=2->finrl==0.3.6) (0.4.0)\n",
      "Requirement already satisfied: opencensus in /home/devmiftahul/.pyenv/versions/3.10.5/envs/finrl/lib/python3.10/site-packages (from ray[default,tune]<3,>=2->finrl==0.3.6) (0.11.4)\n",
      "Requirement already satisfied: pydantic!=2.0.*,!=2.1.*,!=2.2.*,!=2.3.*,!=2.4.*,<3 in /home/devmiftahul/.pyenv/versions/3.10.5/envs/finrl/lib/python3.10/site-packages (from ray[default,tune]<3,>=2->finrl==0.3.6) (2.9.2)\n",
      "Requirement already satisfied: prometheus-client>=0.7.1 in /home/devmiftahul/.pyenv/versions/3.10.5/envs/finrl/lib/python3.10/site-packages (from ray[default,tune]<3,>=2->finrl==0.3.6) (0.21.0)\n",
      "Requirement already satisfied: smart-open in /home/devmiftahul/.pyenv/versions/3.10.5/envs/finrl/lib/python3.10/site-packages (from ray[default,tune]<3,>=2->finrl==0.3.6) (7.0.5)\n",
      "Requirement already satisfied: virtualenv!=20.21.1,>=20.0.24 in /home/devmiftahul/.pyenv/versions/3.10.5/envs/finrl/lib/python3.10/site-packages (from ray[default,tune]<3,>=2->finrl==0.3.6) (20.27.1)\n",
      "Requirement already satisfied: grpcio>=1.42.0 in /home/devmiftahul/.pyenv/versions/3.10.5/envs/finrl/lib/python3.10/site-packages (from ray[default,tune]<3,>=2->finrl==0.3.6) (1.68.0)\n",
      "Requirement already satisfied: memray in /home/devmiftahul/.pyenv/versions/3.10.5/envs/finrl/lib/python3.10/site-packages (from ray[default,tune]<3,>=2->finrl==0.3.6) (1.14.0)\n",
      "Requirement already satisfied: tensorboardX>=1.9 in /home/devmiftahul/.pyenv/versions/3.10.5/envs/finrl/lib/python3.10/site-packages (from ray[default,tune]<3,>=2->finrl==0.3.6) (2.6.2.2)\n",
      "Requirement already satisfied: pyarrow>=6.0.1 in /home/devmiftahul/.pyenv/versions/3.10.5/envs/finrl/lib/python3.10/site-packages (from ray[default,tune]<3,>=2->finrl==0.3.6) (18.0.0)\n",
      "Requirement already satisfied: fsspec in /home/devmiftahul/.pyenv/versions/3.10.5/envs/finrl/lib/python3.10/site-packages (from ray[default,tune]<3,>=2->finrl==0.3.6) (2024.10.0)\n",
      "Requirement already satisfied: joblib>=1.2.0 in /home/devmiftahul/.pyenv/versions/3.10.5/envs/finrl/lib/python3.10/site-packages (from scikit-learn<2,>=1->finrl==0.3.6) (1.4.2)\n",
      "Requirement already satisfied: threadpoolctl>=3.1.0 in /home/devmiftahul/.pyenv/versions/3.10.5/envs/finrl/lib/python3.10/site-packages (from scikit-learn<2,>=1->finrl==0.3.6) (3.5.0)\n",
      "Requirement already satisfied: gymnasium<1.1.0,>=0.29.1 in /home/devmiftahul/.pyenv/versions/3.10.5/envs/finrl/lib/python3.10/site-packages (from stable-baselines3>=2.0.0a5->stable-baselines3[extra]>=2.0.0a5->finrl==0.3.6) (1.0.0)\n",
      "Requirement already satisfied: torch<3.0,>=2.3 in /home/devmiftahul/.pyenv/versions/3.10.5/envs/finrl/lib/python3.10/site-packages (from stable-baselines3>=2.0.0a5->stable-baselines3[extra]>=2.0.0a5->finrl==0.3.6) (2.5.1)\n",
      "Requirement already satisfied: cloudpickle in /home/devmiftahul/.pyenv/versions/3.10.5/envs/finrl/lib/python3.10/site-packages (from stable-baselines3>=2.0.0a5->stable-baselines3[extra]>=2.0.0a5->finrl==0.3.6) (3.1.0)\n",
      "Requirement already satisfied: opencv-python in /home/devmiftahul/.pyenv/versions/3.10.5/envs/finrl/lib/python3.10/site-packages (from stable-baselines3[extra]>=2.0.0a5->finrl==0.3.6) (4.10.0.84)\n",
      "Requirement already satisfied: pygame in /home/devmiftahul/.pyenv/versions/3.10.5/envs/finrl/lib/python3.10/site-packages (from stable-baselines3[extra]>=2.0.0a5->finrl==0.3.6) (2.6.1)\n",
      "Requirement already satisfied: tensorboard>=2.9.1 in /home/devmiftahul/.pyenv/versions/3.10.5/envs/finrl/lib/python3.10/site-packages (from stable-baselines3[extra]>=2.0.0a5->finrl==0.3.6) (2.18.0)\n",
      "Requirement already satisfied: psutil in /home/devmiftahul/.pyenv/versions/3.10.5/envs/finrl/lib/python3.10/site-packages (from stable-baselines3[extra]>=2.0.0a5->finrl==0.3.6) (6.1.0)\n",
      "Requirement already satisfied: tqdm in /home/devmiftahul/.pyenv/versions/3.10.5/envs/finrl/lib/python3.10/site-packages (from stable-baselines3[extra]>=2.0.0a5->finrl==0.3.6) (4.67.0)\n",
      "Requirement already satisfied: rich in /home/devmiftahul/.pyenv/versions/3.10.5/envs/finrl/lib/python3.10/site-packages (from stable-baselines3[extra]>=2.0.0a5->finrl==0.3.6) (13.9.4)\n",
      "Requirement already satisfied: ale-py>=0.9.0 in /home/devmiftahul/.pyenv/versions/3.10.5/envs/finrl/lib/python3.10/site-packages (from stable-baselines3[extra]>=2.0.0a5->finrl==0.3.6) (0.10.1)\n",
      "Requirement already satisfied: pillow in /home/devmiftahul/.pyenv/versions/3.10.5/envs/finrl/lib/python3.10/site-packages (from stable-baselines3[extra]>=2.0.0a5->finrl==0.3.6) (11.0.0)\n",
      "Requirement already satisfied: psycopg2-binary<2.10,>=2.9 in /home/devmiftahul/.pyenv/versions/3.10.5/envs/finrl/lib/python3.10/site-packages (from wrds<4,>=3->finrl==0.3.6) (2.9.10)\n",
      "Requirement already satisfied: multitasking>=0.0.7 in /home/devmiftahul/.pyenv/versions/3.10.5/envs/finrl/lib/python3.10/site-packages (from yfinance<0.3,>=0.2->finrl==0.3.6) (0.0.11)\n",
      "Requirement already satisfied: lxml>=4.9.1 in /home/devmiftahul/.pyenv/versions/3.10.5/envs/finrl/lib/python3.10/site-packages (from yfinance<0.3,>=0.2->finrl==0.3.6) (5.3.0)\n",
      "Requirement already satisfied: platformdirs>=2.0.0 in /home/devmiftahul/.pyenv/versions/3.10.5/envs/finrl/lib/python3.10/site-packages (from yfinance<0.3,>=0.2->finrl==0.3.6) (4.3.6)\n",
      "Requirement already satisfied: frozendict>=2.3.4 in /home/devmiftahul/.pyenv/versions/3.10.5/envs/finrl/lib/python3.10/site-packages (from yfinance<0.3,>=0.2->finrl==0.3.6) (2.4.6)\n",
      "Requirement already satisfied: peewee>=3.16.2 in /home/devmiftahul/.pyenv/versions/3.10.5/envs/finrl/lib/python3.10/site-packages (from yfinance<0.3,>=0.2->finrl==0.3.6) (3.17.3)\n",
      "Requirement already satisfied: beautifulsoup4>=4.11.1 in /home/devmiftahul/.pyenv/versions/3.10.5/envs/finrl/lib/python3.10/site-packages (from yfinance<0.3,>=0.2->finrl==0.3.6) (4.12.3)\n",
      "Requirement already satisfied: html5lib>=1.1 in /home/devmiftahul/.pyenv/versions/3.10.5/envs/finrl/lib/python3.10/site-packages (from yfinance<0.3,>=0.2->finrl==0.3.6) (1.1)\n",
      "Requirement already satisfied: th in /home/devmiftahul/.pyenv/versions/3.10.5/envs/finrl/lib/python3.10/site-packages (from elegantrl@ git+https://github.com/AI4Finance-Foundation/ElegantRL.git#egg=elegantrl->finrl==0.3.6) (0.4.1)\n",
      "Requirement already satisfied: pycares>=4.0.0 in /home/devmiftahul/.pyenv/versions/3.10.5/envs/finrl/lib/python3.10/site-packages (from aiodns>=1.1.1->ccxt<4,>=3->finrl==0.3.6) (4.4.0)\n",
      "Requirement already satisfied: aiohappyeyeballs>=2.3.0 in /home/devmiftahul/.pyenv/versions/3.10.5/envs/finrl/lib/python3.10/site-packages (from aiohttp<4,>=3.8.3->alpaca-trade-api<4,>=3->finrl==0.3.6) (2.4.3)\n",
      "Requirement already satisfied: attrs>=17.3.0 in /home/devmiftahul/.pyenv/versions/3.10.5/envs/finrl/lib/python3.10/site-packages (from aiohttp<4,>=3.8.3->alpaca-trade-api<4,>=3->finrl==0.3.6) (24.2.0)\n",
      "Requirement already satisfied: multidict<7.0,>=4.5 in /home/devmiftahul/.pyenv/versions/3.10.5/envs/finrl/lib/python3.10/site-packages (from aiohttp<4,>=3.8.3->alpaca-trade-api<4,>=3->finrl==0.3.6) (6.1.0)\n",
      "Requirement already satisfied: propcache>=0.2.0 in /home/devmiftahul/.pyenv/versions/3.10.5/envs/finrl/lib/python3.10/site-packages (from aiohttp<4,>=3.8.3->alpaca-trade-api<4,>=3->finrl==0.3.6) (0.2.0)\n",
      "Requirement already satisfied: async-timeout<6.0,>=4.0 in /home/devmiftahul/.pyenv/versions/3.10.5/envs/finrl/lib/python3.10/site-packages (from aiohttp<4,>=3.8.3->alpaca-trade-api<4,>=3->finrl==0.3.6) (5.0.1)\n",
      "Requirement already satisfied: typing-extensions in /home/devmiftahul/.pyenv/versions/3.10.5/envs/finrl/lib/python3.10/site-packages (from ale-py>=0.9.0->stable-baselines3[extra]>=2.0.0a5->finrl==0.3.6) (4.12.2)\n",
      "Requirement already satisfied: soupsieve>1.2 in /home/devmiftahul/.pyenv/versions/3.10.5/envs/finrl/lib/python3.10/site-packages (from beautifulsoup4>=4.11.1->yfinance<0.3,>=0.2->finrl==0.3.6) (2.6)\n",
      "Requirement already satisfied: cffi>=1.12 in /home/devmiftahul/.pyenv/versions/3.10.5/envs/finrl/lib/python3.10/site-packages (from cryptography>=2.6.1->ccxt<4,>=3->finrl==0.3.6) (1.17.1)\n",
      "Requirement already satisfied: osqp>=0.6.2 in /home/devmiftahul/.pyenv/versions/3.10.5/envs/finrl/lib/python3.10/site-packages (from cvxpy<2.0.0,>=1.1.19->pyportfolioopt<2,>=1->finrl==0.3.6) (0.6.7.post3)\n",
      "Requirement already satisfied: clarabel>=0.5.0 in /home/devmiftahul/.pyenv/versions/3.10.5/envs/finrl/lib/python3.10/site-packages (from cvxpy<2.0.0,>=1.1.19->pyportfolioopt<2,>=1->finrl==0.3.6) (0.9.0)\n",
      "Requirement already satisfied: scs>=3.2.4.post1 in /home/devmiftahul/.pyenv/versions/3.10.5/envs/finrl/lib/python3.10/site-packages (from cvxpy<2.0.0,>=1.1.19->pyportfolioopt<2,>=1->finrl==0.3.6) (3.2.7)\n",
      "Requirement already satisfied: pandas-datareader>=0.2 in /home/devmiftahul/.pyenv/versions/3.10.5/envs/finrl/lib/python3.10/site-packages (from empyrical>=0.5.0->pyfolio<0.10,>=0.9->finrl==0.3.6) (0.10.0)\n",
      "Requirement already satisfied: farama-notifications>=0.0.1 in /home/devmiftahul/.pyenv/versions/3.10.5/envs/finrl/lib/python3.10/site-packages (from gymnasium<1.1.0,>=0.29.1->stable-baselines3>=2.0.0a5->stable-baselines3[extra]>=2.0.0a5->finrl==0.3.6) (0.0.4)\n",
      "Requirement already satisfied: webencodings in /home/devmiftahul/.pyenv/versions/3.10.5/envs/finrl/lib/python3.10/site-packages (from html5lib>=1.1->yfinance<0.3,>=0.2->finrl==0.3.6) (0.5.1)\n",
      "Requirement already satisfied: decorator in /home/devmiftahul/.pyenv/versions/3.10.5/envs/finrl/lib/python3.10/site-packages (from ipython>=3.2.3->pyfolio<0.10,>=0.9->finrl==0.3.6) (5.1.1)\n",
      "Requirement already satisfied: jedi>=0.16 in /home/devmiftahul/.pyenv/versions/3.10.5/envs/finrl/lib/python3.10/site-packages (from ipython>=3.2.3->pyfolio<0.10,>=0.9->finrl==0.3.6) (0.19.2)\n",
      "Requirement already satisfied: matplotlib-inline in /home/devmiftahul/.pyenv/versions/3.10.5/envs/finrl/lib/python3.10/site-packages (from ipython>=3.2.3->pyfolio<0.10,>=0.9->finrl==0.3.6) (0.1.7)\n",
      "Requirement already satisfied: prompt-toolkit<3.1.0,>=3.0.41 in /home/devmiftahul/.pyenv/versions/3.10.5/envs/finrl/lib/python3.10/site-packages (from ipython>=3.2.3->pyfolio<0.10,>=0.9->finrl==0.3.6) (3.0.48)\n",
      "Requirement already satisfied: pygments>=2.4.0 in /home/devmiftahul/.pyenv/versions/3.10.5/envs/finrl/lib/python3.10/site-packages (from ipython>=3.2.3->pyfolio<0.10,>=0.9->finrl==0.3.6) (2.18.0)\n",
      "Requirement already satisfied: stack-data in /home/devmiftahul/.pyenv/versions/3.10.5/envs/finrl/lib/python3.10/site-packages (from ipython>=3.2.3->pyfolio<0.10,>=0.9->finrl==0.3.6) (0.6.3)\n",
      "Requirement already satisfied: traitlets>=5.13.0 in /home/devmiftahul/.pyenv/versions/3.10.5/envs/finrl/lib/python3.10/site-packages (from ipython>=3.2.3->pyfolio<0.10,>=0.9->finrl==0.3.6) (5.14.3)\n",
      "Requirement already satisfied: exceptiongroup in /home/devmiftahul/.pyenv/versions/3.10.5/envs/finrl/lib/python3.10/site-packages (from ipython>=3.2.3->pyfolio<0.10,>=0.9->finrl==0.3.6) (1.2.2)\n",
      "Requirement already satisfied: pexpect>4.3 in /home/devmiftahul/.pyenv/versions/3.10.5/envs/finrl/lib/python3.10/site-packages (from ipython>=3.2.3->pyfolio<0.10,>=0.9->finrl==0.3.6) (4.9.0)\n",
      "Requirement already satisfied: contourpy>=1.0.1 in /home/devmiftahul/.pyenv/versions/3.10.5/envs/finrl/lib/python3.10/site-packages (from matplotlib>=1.4.0->pyfolio<0.10,>=0.9->finrl==0.3.6) (1.3.1)\n",
      "Requirement already satisfied: cycler>=0.10 in /home/devmiftahul/.pyenv/versions/3.10.5/envs/finrl/lib/python3.10/site-packages (from matplotlib>=1.4.0->pyfolio<0.10,>=0.9->finrl==0.3.6) (0.12.1)\n",
      "Requirement already satisfied: fonttools>=4.22.0 in /home/devmiftahul/.pyenv/versions/3.10.5/envs/finrl/lib/python3.10/site-packages (from matplotlib>=1.4.0->pyfolio<0.10,>=0.9->finrl==0.3.6) (4.55.0)\n",
      "Requirement already satisfied: kiwisolver>=1.3.1 in /home/devmiftahul/.pyenv/versions/3.10.5/envs/finrl/lib/python3.10/site-packages (from matplotlib>=1.4.0->pyfolio<0.10,>=0.9->finrl==0.3.6) (1.4.7)\n",
      "Requirement already satisfied: pyparsing>=2.3.1 in /home/devmiftahul/.pyenv/versions/3.10.5/envs/finrl/lib/python3.10/site-packages (from matplotlib>=1.4.0->pyfolio<0.10,>=0.9->finrl==0.3.6) (3.2.0)\n",
      "Requirement already satisfied: python-dateutil>=2.7 in /home/devmiftahul/.pyenv/versions/3.10.5/envs/finrl/lib/python3.10/site-packages (from matplotlib>=1.4.0->pyfolio<0.10,>=0.9->finrl==0.3.6) (2.9.0.post0)\n",
      "Requirement already satisfied: annotated-types>=0.6.0 in /home/devmiftahul/.pyenv/versions/3.10.5/envs/finrl/lib/python3.10/site-packages (from pydantic!=2.0.*,!=2.1.*,!=2.2.*,!=2.3.*,!=2.4.*,<3->ray[default,tune]<3,>=2->finrl==0.3.6) (0.7.0)\n",
      "Requirement already satisfied: pydantic-core==2.23.4 in /home/devmiftahul/.pyenv/versions/3.10.5/envs/finrl/lib/python3.10/site-packages (from pydantic!=2.0.*,!=2.1.*,!=2.2.*,!=2.3.*,!=2.4.*,<3->ray[default,tune]<3,>=2->finrl==0.3.6) (2.23.4)\n",
      "Requirement already satisfied: charset-normalizer<4,>=2 in /home/devmiftahul/.pyenv/versions/3.10.5/envs/finrl/lib/python3.10/site-packages (from requests<3,>2->alpaca-trade-api<4,>=3->finrl==0.3.6) (3.4.0)\n",
      "Requirement already satisfied: idna<4,>=2.5 in /home/devmiftahul/.pyenv/versions/3.10.5/envs/finrl/lib/python3.10/site-packages (from requests<3,>2->alpaca-trade-api<4,>=3->finrl==0.3.6) (3.10)\n",
      "Requirement already satisfied: greenlet!=0.4.17 in /home/devmiftahul/.pyenv/versions/3.10.5/envs/finrl/lib/python3.10/site-packages (from SQLAlchemy>=1.2.8->jqdatasdk<2,>=1->finrl==0.3.6) (3.1.1)\n",
      "Requirement already satisfied: absl-py>=0.4 in /home/devmiftahul/.pyenv/versions/3.10.5/envs/finrl/lib/python3.10/site-packages (from tensorboard>=2.9.1->stable-baselines3[extra]>=2.0.0a5->finrl==0.3.6) (2.1.0)\n",
      "Requirement already satisfied: markdown>=2.6.8 in /home/devmiftahul/.pyenv/versions/3.10.5/envs/finrl/lib/python3.10/site-packages (from tensorboard>=2.9.1->stable-baselines3[extra]>=2.0.0a5->finrl==0.3.6) (3.7)\n",
      "Requirement already satisfied: tensorboard-data-server<0.8.0,>=0.7.0 in /home/devmiftahul/.pyenv/versions/3.10.5/envs/finrl/lib/python3.10/site-packages (from tensorboard>=2.9.1->stable-baselines3[extra]>=2.0.0a5->finrl==0.3.6) (0.7.2)\n",
      "Requirement already satisfied: werkzeug>=1.0.1 in /home/devmiftahul/.pyenv/versions/3.10.5/envs/finrl/lib/python3.10/site-packages (from tensorboard>=2.9.1->stable-baselines3[extra]>=2.0.0a5->finrl==0.3.6) (3.1.3)\n",
      "Requirement already satisfied: Cython>=3.0.10 in /home/devmiftahul/.pyenv/versions/3.10.5/envs/finrl/lib/python3.10/site-packages (from thriftpy2!=0.5.1,>=0.3.9->jqdatasdk<2,>=1->finrl==0.3.6) (3.0.11)\n",
      "Requirement already satisfied: ply<4.0,>=3.4 in /home/devmiftahul/.pyenv/versions/3.10.5/envs/finrl/lib/python3.10/site-packages (from thriftpy2!=0.5.1,>=0.3.9->jqdatasdk<2,>=1->finrl==0.3.6) (3.11)\n",
      "Requirement already satisfied: networkx in /home/devmiftahul/.pyenv/versions/3.10.5/envs/finrl/lib/python3.10/site-packages (from torch<3.0,>=2.3->stable-baselines3>=2.0.0a5->stable-baselines3[extra]>=2.0.0a5->finrl==0.3.6) (3.4.2)\n",
      "Requirement already satisfied: jinja2 in /home/devmiftahul/.pyenv/versions/3.10.5/envs/finrl/lib/python3.10/site-packages (from torch<3.0,>=2.3->stable-baselines3>=2.0.0a5->stable-baselines3[extra]>=2.0.0a5->finrl==0.3.6) (3.1.4)\n",
      "Requirement already satisfied: nvidia-cuda-nvrtc-cu12==12.4.127 in /home/devmiftahul/.pyenv/versions/3.10.5/envs/finrl/lib/python3.10/site-packages (from torch<3.0,>=2.3->stable-baselines3>=2.0.0a5->stable-baselines3[extra]>=2.0.0a5->finrl==0.3.6) (12.4.127)\n",
      "Requirement already satisfied: nvidia-cuda-runtime-cu12==12.4.127 in /home/devmiftahul/.pyenv/versions/3.10.5/envs/finrl/lib/python3.10/site-packages (from torch<3.0,>=2.3->stable-baselines3>=2.0.0a5->stable-baselines3[extra]>=2.0.0a5->finrl==0.3.6) (12.4.127)\n",
      "Requirement already satisfied: nvidia-cuda-cupti-cu12==12.4.127 in /home/devmiftahul/.pyenv/versions/3.10.5/envs/finrl/lib/python3.10/site-packages (from torch<3.0,>=2.3->stable-baselines3>=2.0.0a5->stable-baselines3[extra]>=2.0.0a5->finrl==0.3.6) (12.4.127)\n",
      "Requirement already satisfied: nvidia-cudnn-cu12==9.1.0.70 in /home/devmiftahul/.pyenv/versions/3.10.5/envs/finrl/lib/python3.10/site-packages (from torch<3.0,>=2.3->stable-baselines3>=2.0.0a5->stable-baselines3[extra]>=2.0.0a5->finrl==0.3.6) (9.1.0.70)\n",
      "Requirement already satisfied: nvidia-cublas-cu12==12.4.5.8 in /home/devmiftahul/.pyenv/versions/3.10.5/envs/finrl/lib/python3.10/site-packages (from torch<3.0,>=2.3->stable-baselines3>=2.0.0a5->stable-baselines3[extra]>=2.0.0a5->finrl==0.3.6) (12.4.5.8)\n",
      "Requirement already satisfied: nvidia-cufft-cu12==11.2.1.3 in /home/devmiftahul/.pyenv/versions/3.10.5/envs/finrl/lib/python3.10/site-packages (from torch<3.0,>=2.3->stable-baselines3>=2.0.0a5->stable-baselines3[extra]>=2.0.0a5->finrl==0.3.6) (11.2.1.3)\n",
      "Requirement already satisfied: nvidia-curand-cu12==10.3.5.147 in /home/devmiftahul/.pyenv/versions/3.10.5/envs/finrl/lib/python3.10/site-packages (from torch<3.0,>=2.3->stable-baselines3>=2.0.0a5->stable-baselines3[extra]>=2.0.0a5->finrl==0.3.6) (10.3.5.147)\n",
      "Requirement already satisfied: nvidia-cusolver-cu12==11.6.1.9 in /home/devmiftahul/.pyenv/versions/3.10.5/envs/finrl/lib/python3.10/site-packages (from torch<3.0,>=2.3->stable-baselines3>=2.0.0a5->stable-baselines3[extra]>=2.0.0a5->finrl==0.3.6) (11.6.1.9)\n",
      "Requirement already satisfied: nvidia-cusparse-cu12==12.3.1.170 in /home/devmiftahul/.pyenv/versions/3.10.5/envs/finrl/lib/python3.10/site-packages (from torch<3.0,>=2.3->stable-baselines3>=2.0.0a5->stable-baselines3[extra]>=2.0.0a5->finrl==0.3.6) (12.3.1.170)\n",
      "Requirement already satisfied: nvidia-nccl-cu12==2.21.5 in /home/devmiftahul/.pyenv/versions/3.10.5/envs/finrl/lib/python3.10/site-packages (from torch<3.0,>=2.3->stable-baselines3>=2.0.0a5->stable-baselines3[extra]>=2.0.0a5->finrl==0.3.6) (2.21.5)\n",
      "Requirement already satisfied: nvidia-nvtx-cu12==12.4.127 in /home/devmiftahul/.pyenv/versions/3.10.5/envs/finrl/lib/python3.10/site-packages (from torch<3.0,>=2.3->stable-baselines3>=2.0.0a5->stable-baselines3[extra]>=2.0.0a5->finrl==0.3.6) (12.4.127)\n",
      "Requirement already satisfied: nvidia-nvjitlink-cu12==12.4.127 in /home/devmiftahul/.pyenv/versions/3.10.5/envs/finrl/lib/python3.10/site-packages (from torch<3.0,>=2.3->stable-baselines3>=2.0.0a5->stable-baselines3[extra]>=2.0.0a5->finrl==0.3.6) (12.4.127)\n",
      "Requirement already satisfied: triton==3.1.0 in /home/devmiftahul/.pyenv/versions/3.10.5/envs/finrl/lib/python3.10/site-packages (from torch<3.0,>=2.3->stable-baselines3>=2.0.0a5->stable-baselines3[extra]>=2.0.0a5->finrl==0.3.6) (3.1.0)\n",
      "Requirement already satisfied: sympy==1.13.1 in /home/devmiftahul/.pyenv/versions/3.10.5/envs/finrl/lib/python3.10/site-packages (from torch<3.0,>=2.3->stable-baselines3>=2.0.0a5->stable-baselines3[extra]>=2.0.0a5->finrl==0.3.6) (1.13.1)\n",
      "Requirement already satisfied: mpmath<1.4,>=1.1.0 in /home/devmiftahul/.pyenv/versions/3.10.5/envs/finrl/lib/python3.10/site-packages (from sympy==1.13.1->torch<3.0,>=2.3->stable-baselines3>=2.0.0a5->stable-baselines3[extra]>=2.0.0a5->finrl==0.3.6) (1.3.0)\n",
      "Requirement already satisfied: distlib<1,>=0.3.7 in /home/devmiftahul/.pyenv/versions/3.10.5/envs/finrl/lib/python3.10/site-packages (from virtualenv!=20.21.1,>=20.0.24->ray[default,tune]<3,>=2->finrl==0.3.6) (0.3.9)\n",
      "Requirement already satisfied: jsonschema-specifications>=2023.03.6 in /home/devmiftahul/.pyenv/versions/3.10.5/envs/finrl/lib/python3.10/site-packages (from jsonschema->ray<3,>=2->ray[default,tune]<3,>=2->finrl==0.3.6) (2024.10.1)\n",
      "Requirement already satisfied: referencing>=0.28.4 in /home/devmiftahul/.pyenv/versions/3.10.5/envs/finrl/lib/python3.10/site-packages (from jsonschema->ray<3,>=2->ray[default,tune]<3,>=2->finrl==0.3.6) (0.35.1)\n",
      "Requirement already satisfied: rpds-py>=0.7.1 in /home/devmiftahul/.pyenv/versions/3.10.5/envs/finrl/lib/python3.10/site-packages (from jsonschema->ray<3,>=2->ray[default,tune]<3,>=2->finrl==0.3.6) (0.21.0)\n",
      "Requirement already satisfied: textual>=0.41.0 in /home/devmiftahul/.pyenv/versions/3.10.5/envs/finrl/lib/python3.10/site-packages (from memray->ray[default,tune]<3,>=2->finrl==0.3.6) (0.86.2)\n",
      "Requirement already satisfied: markdown-it-py>=2.2.0 in /home/devmiftahul/.pyenv/versions/3.10.5/envs/finrl/lib/python3.10/site-packages (from rich->stable-baselines3[extra]>=2.0.0a5->finrl==0.3.6) (3.0.0)\n",
      "Requirement already satisfied: opencensus-context>=0.1.3 in /home/devmiftahul/.pyenv/versions/3.10.5/envs/finrl/lib/python3.10/site-packages (from opencensus->ray[default,tune]<3,>=2->finrl==0.3.6) (0.1.3)\n",
      "Requirement already satisfied: google-api-core<3.0.0,>=1.0.0 in /home/devmiftahul/.pyenv/versions/3.10.5/envs/finrl/lib/python3.10/site-packages (from opencensus->ray[default,tune]<3,>=2->finrl==0.3.6) (2.23.0)\n",
      "Requirement already satisfied: wrapt in /home/devmiftahul/.pyenv/versions/3.10.5/envs/finrl/lib/python3.10/site-packages (from smart-open->ray[default,tune]<3,>=2->finrl==0.3.6) (1.16.0)\n",
      "Requirement already satisfied: niltype<2.0,>=0.3 in /home/devmiftahul/.pyenv/versions/3.10.5/envs/finrl/lib/python3.10/site-packages (from th->elegantrl@ git+https://github.com/AI4Finance-Foundation/ElegantRL.git#egg=elegantrl->finrl==0.3.6) (1.0.2)\n",
      "Requirement already satisfied: pycparser in /home/devmiftahul/.pyenv/versions/3.10.5/envs/finrl/lib/python3.10/site-packages (from cffi>=1.12->cryptography>=2.6.1->ccxt<4,>=3->finrl==0.3.6) (2.22)\n",
      "Requirement already satisfied: googleapis-common-protos<2.0.dev0,>=1.56.2 in /home/devmiftahul/.pyenv/versions/3.10.5/envs/finrl/lib/python3.10/site-packages (from google-api-core<3.0.0,>=1.0.0->opencensus->ray[default,tune]<3,>=2->finrl==0.3.6) (1.66.0)\n",
      "Requirement already satisfied: proto-plus<2.0.0dev,>=1.22.3 in /home/devmiftahul/.pyenv/versions/3.10.5/envs/finrl/lib/python3.10/site-packages (from google-api-core<3.0.0,>=1.0.0->opencensus->ray[default,tune]<3,>=2->finrl==0.3.6) (1.25.0)\n",
      "Requirement already satisfied: google-auth<3.0.dev0,>=2.14.1 in /home/devmiftahul/.pyenv/versions/3.10.5/envs/finrl/lib/python3.10/site-packages (from google-api-core<3.0.0,>=1.0.0->opencensus->ray[default,tune]<3,>=2->finrl==0.3.6) (2.36.0)\n",
      "Requirement already satisfied: parso<0.9.0,>=0.8.4 in /home/devmiftahul/.pyenv/versions/3.10.5/envs/finrl/lib/python3.10/site-packages (from jedi>=0.16->ipython>=3.2.3->pyfolio<0.10,>=0.9->finrl==0.3.6) (0.8.4)\n",
      "Requirement already satisfied: MarkupSafe>=2.0 in /home/devmiftahul/.pyenv/versions/3.10.5/envs/finrl/lib/python3.10/site-packages (from jinja2->torch<3.0,>=2.3->stable-baselines3>=2.0.0a5->stable-baselines3[extra]>=2.0.0a5->finrl==0.3.6) (3.0.2)\n",
      "Requirement already satisfied: mdurl~=0.1 in /home/devmiftahul/.pyenv/versions/3.10.5/envs/finrl/lib/python3.10/site-packages (from markdown-it-py>=2.2.0->rich->stable-baselines3[extra]>=2.0.0a5->finrl==0.3.6) (0.1.2)\n",
      "Requirement already satisfied: qdldl in /home/devmiftahul/.pyenv/versions/3.10.5/envs/finrl/lib/python3.10/site-packages (from osqp>=0.6.2->cvxpy<2.0.0,>=1.1.19->pyportfolioopt<2,>=1->finrl==0.3.6) (0.1.7.post4)\n",
      "Requirement already satisfied: ptyprocess>=0.5 in /home/devmiftahul/.pyenv/versions/3.10.5/envs/finrl/lib/python3.10/site-packages (from pexpect>4.3->ipython>=3.2.3->pyfolio<0.10,>=0.9->finrl==0.3.6) (0.7.0)\n",
      "Requirement already satisfied: wcwidth in /home/devmiftahul/.pyenv/versions/3.10.5/envs/finrl/lib/python3.10/site-packages (from prompt-toolkit<3.1.0,>=3.0.41->ipython>=3.2.3->pyfolio<0.10,>=0.9->finrl==0.3.6) (0.2.13)\n",
      "Requirement already satisfied: executing>=1.2.0 in /home/devmiftahul/.pyenv/versions/3.10.5/envs/finrl/lib/python3.10/site-packages (from stack-data->ipython>=3.2.3->pyfolio<0.10,>=0.9->finrl==0.3.6) (2.1.0)\n",
      "Requirement already satisfied: asttokens>=2.1.0 in /home/devmiftahul/.pyenv/versions/3.10.5/envs/finrl/lib/python3.10/site-packages (from stack-data->ipython>=3.2.3->pyfolio<0.10,>=0.9->finrl==0.3.6) (2.4.1)\n",
      "Requirement already satisfied: pure-eval in /home/devmiftahul/.pyenv/versions/3.10.5/envs/finrl/lib/python3.10/site-packages (from stack-data->ipython>=3.2.3->pyfolio<0.10,>=0.9->finrl==0.3.6) (0.2.3)\n",
      "Requirement already satisfied: cachetools<6.0,>=2.0.0 in /home/devmiftahul/.pyenv/versions/3.10.5/envs/finrl/lib/python3.10/site-packages (from google-auth<3.0.dev0,>=2.14.1->google-api-core<3.0.0,>=1.0.0->opencensus->ray[default,tune]<3,>=2->finrl==0.3.6) (5.5.0)\n",
      "Requirement already satisfied: pyasn1-modules>=0.2.1 in /home/devmiftahul/.pyenv/versions/3.10.5/envs/finrl/lib/python3.10/site-packages (from google-auth<3.0.dev0,>=2.14.1->google-api-core<3.0.0,>=1.0.0->opencensus->ray[default,tune]<3,>=2->finrl==0.3.6) (0.4.1)\n",
      "Requirement already satisfied: rsa<5,>=3.1.4 in /home/devmiftahul/.pyenv/versions/3.10.5/envs/finrl/lib/python3.10/site-packages (from google-auth<3.0.dev0,>=2.14.1->google-api-core<3.0.0,>=1.0.0->opencensus->ray[default,tune]<3,>=2->finrl==0.3.6) (4.9)\n",
      "Requirement already satisfied: mdit-py-plugins in /home/devmiftahul/.pyenv/versions/3.10.5/envs/finrl/lib/python3.10/site-packages (from markdown-it-py[linkify,plugins]>=2.1.0->textual>=0.41.0->memray->ray[default,tune]<3,>=2->finrl==0.3.6) (0.4.2)\n",
      "Requirement already satisfied: linkify-it-py<3,>=1 in /home/devmiftahul/.pyenv/versions/3.10.5/envs/finrl/lib/python3.10/site-packages (from markdown-it-py[linkify,plugins]>=2.1.0->textual>=0.41.0->memray->ray[default,tune]<3,>=2->finrl==0.3.6) (2.0.3)\n",
      "Requirement already satisfied: uc-micro-py in /home/devmiftahul/.pyenv/versions/3.10.5/envs/finrl/lib/python3.10/site-packages (from linkify-it-py<3,>=1->markdown-it-py[linkify,plugins]>=2.1.0->textual>=0.41.0->memray->ray[default,tune]<3,>=2->finrl==0.3.6) (1.0.3)\n",
      "Requirement already satisfied: pyasn1<0.7.0,>=0.4.6 in /home/devmiftahul/.pyenv/versions/3.10.5/envs/finrl/lib/python3.10/site-packages (from pyasn1-modules>=0.2.1->google-auth<3.0.dev0,>=2.14.1->google-api-core<3.0.0,>=1.0.0->opencensus->ray[default,tune]<3,>=2->finrl==0.3.6) (0.6.1)\n"
     ]
    }
   ],
   "source": [
    "## install required packages\n",
    "!pip install swig\n",
    "!pip install wrds\n",
    "!pip install pyportfolioopt\n",
    "## install finrl library\n",
    "!pip install git+https://github.com/AI4Finance-Foundation/FinRL.git"
   ]
  },
  {
   "cell_type": "code",
   "execution_count": 1,
   "id": "cd5c539b-bafc-4ed4-bdba-99a18618a5f5",
   "metadata": {},
   "outputs": [
    {
     "name": "stderr",
     "output_type": "stream",
     "text": [
      "2024-11-21 09:33:42.388867: I tensorflow/core/util/port.cc:153] oneDNN custom operations are on. You may see slightly different numerical results due to floating-point round-off errors from different computation orders. To turn them off, set the environment variable `TF_ENABLE_ONEDNN_OPTS=0`.\n",
      "2024-11-21 09:33:42.411565: E external/local_xla/xla/stream_executor/cuda/cuda_fft.cc:477] Unable to register cuFFT factory: Attempting to register factory for plugin cuFFT when one has already been registered\n",
      "WARNING: All log messages before absl::InitializeLog() is called are written to STDERR\n",
      "E0000 00:00:1732156422.435948  176454 cuda_dnn.cc:8310] Unable to register cuDNN factory: Attempting to register factory for plugin cuDNN when one has already been registered\n",
      "E0000 00:00:1732156422.443269  176454 cuda_blas.cc:1418] Unable to register cuBLAS factory: Attempting to register factory for plugin cuBLAS when one has already been registered\n",
      "2024-11-21 09:33:42.477374: I tensorflow/core/platform/cpu_feature_guard.cc:210] This TensorFlow binary is optimized to use available CPU instructions in performance-critical operations.\n",
      "To enable the following instructions: AVX2 AVX512F AVX512_VNNI FMA, in other operations, rebuild TensorFlow with the appropriate compiler flags.\n"
     ]
    }
   ],
   "source": [
    "import os\n",
    "import pandas as pd\n",
    "\n",
    "from finrl.meta.env_stock_trading.env_stocktrading import StockTradingEnv\n",
    "from finrl.agents.stablebaselines3.models import DRLAgent\n",
    "from stable_baselines3.common.logger import configure\n",
    "from finrl import config_tickers\n",
    "from finrl.main import check_and_make_directories\n",
    "from finrl.config import INDICATORS, TRAINED_MODEL_DIR, RESULTS_DIR\n",
    "\n",
    "check_and_make_directories([TRAINED_MODEL_DIR])"
   ]
  },
  {
   "cell_type": "code",
   "execution_count": 2,
   "id": "8a79a137-4f7b-4854-8270-608c1672b79c",
   "metadata": {},
   "outputs": [],
   "source": [
    "train = pd.read_csv('data/train_data.csv')\n",
    "# If you are not using the data generated from part 1 of this tutorial, make sure \n",
    "# it has the columns and index in the form that could be make into the environment. \n",
    "# Then you can comment and skip the following two lines.\n",
    "# train = train.set_index(train.columns[0])\n",
    "# train.index.names = ['']"
   ]
  },
  {
   "cell_type": "code",
   "execution_count": 3,
   "id": "a54847bd-5903-4762-91c0-4fc6b3a9aab2",
   "metadata": {},
   "outputs": [
    {
     "data": {
      "text/plain": [
       "Index(['date', 'tic', 'open', 'high', 'low', 'close', 'volume', 'day', 'macd',\n",
       "       'boll_ub', 'boll_lb', 'rsi_30', 'cci_30', 'dx_30', 'close_30_sma',\n",
       "       'close_60_sma', 'vix', 'turbulence'],\n",
       "      dtype='object')"
      ]
     },
     "execution_count": 3,
     "metadata": {},
     "output_type": "execute_result"
    }
   ],
   "source": [
    "train.columns"
   ]
  },
  {
   "cell_type": "code",
   "execution_count": 4,
   "id": "66affd8a-069c-467d-98de-3dd27f5eaae7",
   "metadata": {},
   "outputs": [],
   "source": [
    "y = sum((train[t].values.tolist() for t in INDICATORS), [])"
   ]
  },
  {
   "cell_type": "code",
   "execution_count": 5,
   "id": "685168c4-92c5-48a4-89b5-6ee87b61eeb2",
   "metadata": {},
   "outputs": [
    {
     "data": {
      "text/plain": [
       "671176"
      ]
     },
     "execution_count": 5,
     "metadata": {},
     "output_type": "execute_result"
    }
   ],
   "source": [
    "len(y)"
   ]
  },
  {
   "cell_type": "code",
   "execution_count": 6,
   "id": "9e2b8a72-0ba3-4827-abfd-3561ef169c71",
   "metadata": {},
   "outputs": [],
   "source": [
    "x = train[\"close\"].values.tolist()"
   ]
  },
  {
   "cell_type": "code",
   "execution_count": 7,
   "id": "87169189-ca9d-4ee8-99ce-eda4a6923bb4",
   "metadata": {},
   "outputs": [
    {
     "data": {
      "text/plain": [
       "3.067142963409424"
      ]
     },
     "execution_count": 7,
     "metadata": {},
     "output_type": "execute_result"
    }
   ],
   "source": [
    "x[0]"
   ]
  },
  {
   "cell_type": "code",
   "execution_count": 8,
   "id": "7c54c809-0921-4abd-95dc-99b87a66f08c",
   "metadata": {},
   "outputs": [
    {
     "name": "stdout",
     "output_type": "stream",
     "text": [
      "Stock Dimension: 29, State Space: 291\n"
     ]
    }
   ],
   "source": [
    "stock_dimension = len(train.tic.unique())\n",
    "state_space = 1 + 2*stock_dimension + len(INDICATORS)*stock_dimension\n",
    "print(f\"Stock Dimension: {stock_dimension}, State Space: {state_space}\")"
   ]
  },
  {
   "cell_type": "code",
   "execution_count": 9,
   "id": "9add1189-82ac-4013-bdf1-9c72eaf12e4b",
   "metadata": {},
   "outputs": [],
   "source": [
    "buy_cost_list = sell_cost_list = [0.001] * stock_dimension\n",
    "num_stock_shares = [0] * stock_dimension\n",
    "env_kwargs = {\n",
    "    \"hmax\": 100,\n",
    "    \"initial_amount\": 1000000,\n",
    "    \"num_stock_shares\": num_stock_shares,\n",
    "    \"buy_cost_pct\": 0.001,\n",
    "    \"sell_cost_pct\": 0.001,\n",
    "    \"state_space\": state_space,\n",
    "    \"stock_dim\": stock_dimension,\n",
    "    \"tech_indicator_list\": INDICATORS,\n",
    "    \"action_space\": stock_dimension,\n",
    "    \"reward_scaling\": 1e-4,\n",
    "    \"print_verbosity\":5\n",
    "\n",
    "}\n",
    "\n",
    "e_train_gym = StockTradingEnv(df = train, **env_kwargs)"
   ]
  },
  {
   "cell_type": "code",
   "execution_count": 10,
   "id": "31799f7a-ae97-44a1-ac23-e10107eff924",
   "metadata": {},
   "outputs": [
    {
     "ename": "ValueError",
     "evalue": "could not broadcast input array from shape (39,) into shape (291,)",
     "output_type": "error",
     "traceback": [
      "\u001b[0;31m---------------------------------------------------------------------------\u001b[0m",
      "\u001b[0;31mValueError\u001b[0m                                Traceback (most recent call last)",
      "Cell \u001b[0;32mIn[10], line 1\u001b[0m\n\u001b[0;32m----> 1\u001b[0m env_train, _ \u001b[38;5;241m=\u001b[39m \u001b[43me_train_gym\u001b[49m\u001b[38;5;241;43m.\u001b[39;49m\u001b[43mget_sb_env\u001b[49m\u001b[43m(\u001b[49m\u001b[43m)\u001b[49m\n\u001b[1;32m      2\u001b[0m \u001b[38;5;28mprint\u001b[39m(\u001b[38;5;28mtype\u001b[39m(env_train))\n",
      "File \u001b[0;32m~/.pyenv/versions/3.10.5/envs/finrl/lib/python3.10/site-packages/finrl/meta/env_stock_trading/env_stocktrading.py:555\u001b[0m, in \u001b[0;36mStockTradingEnv.get_sb_env\u001b[0;34m(self)\u001b[0m\n\u001b[1;32m    553\u001b[0m \u001b[38;5;28;01mdef\u001b[39;00m \u001b[38;5;21mget_sb_env\u001b[39m(\u001b[38;5;28mself\u001b[39m):\n\u001b[1;32m    554\u001b[0m     e \u001b[38;5;241m=\u001b[39m DummyVecEnv([\u001b[38;5;28;01mlambda\u001b[39;00m: \u001b[38;5;28mself\u001b[39m])\n\u001b[0;32m--> 555\u001b[0m     obs \u001b[38;5;241m=\u001b[39m \u001b[43me\u001b[49m\u001b[38;5;241;43m.\u001b[39;49m\u001b[43mreset\u001b[49m\u001b[43m(\u001b[49m\u001b[43m)\u001b[49m\n\u001b[1;32m    556\u001b[0m     \u001b[38;5;28;01mreturn\u001b[39;00m e, obs\n",
      "File \u001b[0;32m~/.pyenv/versions/3.10.5/envs/finrl/lib/python3.10/site-packages/stable_baselines3/common/vec_env/dummy_vec_env.py:79\u001b[0m, in \u001b[0;36mDummyVecEnv.reset\u001b[0;34m(self)\u001b[0m\n\u001b[1;32m     77\u001b[0m     maybe_options \u001b[38;5;241m=\u001b[39m {\u001b[38;5;124m\"\u001b[39m\u001b[38;5;124moptions\u001b[39m\u001b[38;5;124m\"\u001b[39m: \u001b[38;5;28mself\u001b[39m\u001b[38;5;241m.\u001b[39m_options[env_idx]} \u001b[38;5;28;01mif\u001b[39;00m \u001b[38;5;28mself\u001b[39m\u001b[38;5;241m.\u001b[39m_options[env_idx] \u001b[38;5;28;01melse\u001b[39;00m {}\n\u001b[1;32m     78\u001b[0m     obs, \u001b[38;5;28mself\u001b[39m\u001b[38;5;241m.\u001b[39mreset_infos[env_idx] \u001b[38;5;241m=\u001b[39m \u001b[38;5;28mself\u001b[39m\u001b[38;5;241m.\u001b[39menvs[env_idx]\u001b[38;5;241m.\u001b[39mreset(seed\u001b[38;5;241m=\u001b[39m\u001b[38;5;28mself\u001b[39m\u001b[38;5;241m.\u001b[39m_seeds[env_idx], \u001b[38;5;241m*\u001b[39m\u001b[38;5;241m*\u001b[39mmaybe_options)\n\u001b[0;32m---> 79\u001b[0m     \u001b[38;5;28;43mself\u001b[39;49m\u001b[38;5;241;43m.\u001b[39;49m\u001b[43m_save_obs\u001b[49m\u001b[43m(\u001b[49m\u001b[43menv_idx\u001b[49m\u001b[43m,\u001b[49m\u001b[43m \u001b[49m\u001b[43mobs\u001b[49m\u001b[43m)\u001b[49m\n\u001b[1;32m     80\u001b[0m \u001b[38;5;66;03m# Seeds and options are only used once\u001b[39;00m\n\u001b[1;32m     81\u001b[0m \u001b[38;5;28mself\u001b[39m\u001b[38;5;241m.\u001b[39m_reset_seeds()\n",
      "File \u001b[0;32m~/.pyenv/versions/3.10.5/envs/finrl/lib/python3.10/site-packages/stable_baselines3/common/vec_env/dummy_vec_env.py:109\u001b[0m, in \u001b[0;36mDummyVecEnv._save_obs\u001b[0;34m(self, env_idx, obs)\u001b[0m\n\u001b[1;32m    107\u001b[0m \u001b[38;5;28;01mfor\u001b[39;00m key \u001b[38;5;129;01min\u001b[39;00m \u001b[38;5;28mself\u001b[39m\u001b[38;5;241m.\u001b[39mkeys:\n\u001b[1;32m    108\u001b[0m     \u001b[38;5;28;01mif\u001b[39;00m key \u001b[38;5;129;01mis\u001b[39;00m \u001b[38;5;28;01mNone\u001b[39;00m:\n\u001b[0;32m--> 109\u001b[0m         \u001b[38;5;28;43mself\u001b[39;49m\u001b[38;5;241;43m.\u001b[39;49m\u001b[43mbuf_obs\u001b[49m\u001b[43m[\u001b[49m\u001b[43mkey\u001b[49m\u001b[43m]\u001b[49m\u001b[43m[\u001b[49m\u001b[43menv_idx\u001b[49m\u001b[43m]\u001b[49m \u001b[38;5;241m=\u001b[39m obs\n\u001b[1;32m    110\u001b[0m     \u001b[38;5;28;01melse\u001b[39;00m:\n\u001b[1;32m    111\u001b[0m         \u001b[38;5;28mself\u001b[39m\u001b[38;5;241m.\u001b[39mbuf_obs[key][env_idx] \u001b[38;5;241m=\u001b[39m obs[key]\n",
      "\u001b[0;31mValueError\u001b[0m: could not broadcast input array from shape (39,) into shape (291,)"
     ]
    }
   ],
   "source": [
    "env_train, _ = e_train_gym.get_sb_env()\n",
    "print(type(env_train))"
   ]
  },
  {
   "cell_type": "code",
   "execution_count": 11,
   "id": "416b1a94-ec23-4c1e-9a2c-0e53dc3560a4",
   "metadata": {},
   "outputs": [],
   "source": [
    "from stable_baselines3 import A2C, DDPG, PPO, SAC, TD3"
   ]
  },
  {
   "cell_type": "code",
   "execution_count": 12,
   "id": "3267897a-00c9-442b-822c-3104c844acc2",
   "metadata": {},
   "outputs": [],
   "source": [
    "if_using_a2c = True"
   ]
  },
  {
   "cell_type": "code",
   "execution_count": 14,
   "id": "8cb5c5d9-d1fd-48b1-9eb3-477a49aa2f78",
   "metadata": {},
   "outputs": [],
   "source": [
    "TRAINED_MODEL_DIR = \"/home/devmiftahul/trained_models\""
   ]
  },
  {
   "cell_type": "code",
   "execution_count": 15,
   "id": "2463c06e-60e4-48f9-9a9c-19db8536c707",
   "metadata": {},
   "outputs": [
    {
     "data": {
      "text/plain": [
       "'/home/devmiftahul/trained_models'"
      ]
     },
     "execution_count": 15,
     "metadata": {},
     "output_type": "execute_result"
    }
   ],
   "source": [
    "TRAINED_MODEL_DIR"
   ]
  },
  {
   "cell_type": "code",
   "execution_count": 17,
   "id": "7e8c6469-3cf3-4aca-8d55-a2e83ded6a52",
   "metadata": {},
   "outputs": [
    {
     "name": "stderr",
     "output_type": "stream",
     "text": [
      "/home/devmiftahul/.pyenv/versions/3.10.5/envs/finrl/lib/python3.10/site-packages/stable_baselines3/common/on_policy_algorithm.py:150: UserWarning: You are trying to run A2C on the GPU, but it is primarily intended to run on the CPU when not using a CNN policy (you are using ActorCriticPolicy which should be a MlpPolicy). See https://github.com/DLR-RM/stable-baselines3/issues/1245 for more info. You can pass `device='cpu'` or `export CUDA_VISIBLE_DEVICES=` to force using the CPU.Note: The model will train, but the GPU utilization will be poor and the training might take longer than on CPU.\n",
      "  warnings.warn(\n"
     ]
    }
   ],
   "source": [
    "trained_a2c = A2C.load(TRAINED_MODEL_DIR + \"/agent_a2c\") if if_using_a2c else None"
   ]
  },
  {
   "cell_type": "code",
   "execution_count": 19,
   "id": "ce6e6035-42f4-4fd8-a93e-20d9993692ca",
   "metadata": {},
   "outputs": [],
   "source": [
    "INDICATORS = ['macd',\n",
    "               'rsi_30',\n",
    "               'cci_30',\n",
    "               'dx_30']"
   ]
  },
  {
   "cell_type": "code",
   "execution_count": 20,
   "id": "dc677a33-06e1-43a6-96a2-89760ff3b3bd",
   "metadata": {},
   "outputs": [
    {
     "data": {
      "text/plain": [
       "['macd', 'rsi_30', 'cci_30', 'dx_30']"
      ]
     },
     "execution_count": 20,
     "metadata": {},
     "output_type": "execute_result"
    }
   ],
   "source": [
    "INDICATORS"
   ]
  },
  {
   "cell_type": "code",
   "execution_count": 22,
   "id": "c8942b12-8683-421e-aba4-25fb50bbf1c0",
   "metadata": {},
   "outputs": [
    {
     "name": "stderr",
     "output_type": "stream",
     "text": [
      "[*********************100%***********************]  1 of 1 completed\n",
      "[*********************100%***********************]  1 of 1 completed\n",
      "[*********************100%***********************]  1 of 1 completed\n",
      "[*********************100%***********************]  1 of 1 completed\n",
      "[*********************100%***********************]  1 of 1 completed\n",
      "[*********************100%***********************]  1 of 1 completed\n",
      "[*********************100%***********************]  1 of 1 completed\n",
      "[*********************100%***********************]  1 of 1 completed\n",
      "[*********************100%***********************]  1 of 1 completed\n",
      "[*********************100%***********************]  1 of 1 completed\n",
      "[*********************100%***********************]  1 of 1 completed\n",
      "[*********************100%***********************]  1 of 1 completed\n",
      "[*********************100%***********************]  1 of 1 completed\n",
      "[*********************100%***********************]  1 of 1 completed\n",
      "[*********************100%***********************]  1 of 1 completed\n",
      "[*********************100%***********************]  1 of 1 completed\n",
      "[*********************100%***********************]  1 of 1 completed\n",
      "[*********************100%***********************]  1 of 1 completed\n",
      "[*********************100%***********************]  1 of 1 completed\n",
      "[*********************100%***********************]  1 of 1 completed\n",
      "[*********************100%***********************]  1 of 1 completed\n",
      "[*********************100%***********************]  1 of 1 completed\n",
      "[*********************100%***********************]  1 of 1 completed\n",
      "[*********************100%***********************]  1 of 1 completed\n",
      "[*********************100%***********************]  1 of 1 completed\n",
      "[*********************100%***********************]  1 of 1 completed\n",
      "[*********************100%***********************]  1 of 1 completed\n",
      "[*********************100%***********************]  1 of 1 completed\n",
      "[*********************100%***********************]  1 of 1 completed\n",
      "[*********************100%***********************]  1 of 1 completed\n"
     ]
    },
    {
     "name": "stdout",
     "output_type": "stream",
     "text": [
      "Shape of DataFrame:  (97013, 8)\n"
     ]
    }
   ],
   "source": [
    "from finrl.meta.preprocessor.yahoodownloader import YahooDownloader\n",
    "from finrl.config_tickers import DOW_30_TICKER\n",
    "\n",
    "TRAIN_START_DATE = '2010-01-01'\n",
    "TRAIN_END_DATE = '2021-10-01'\n",
    "TEST_START_DATE = '2021-10-01'\n",
    "TEST_END_DATE = '2023-03-01'\n",
    "\n",
    "df = YahooDownloader(start_date = TRAIN_START_DATE,\n",
    "                     end_date = TEST_END_DATE,\n",
    "                     ticker_list = DOW_30_TICKER).fetch_data()"
   ]
  },
  {
   "cell_type": "code",
   "execution_count": 24,
   "id": "2bcdf119-96af-40c4-ab6b-1a840c4c9d26",
   "metadata": {},
   "outputs": [
    {
     "name": "stdout",
     "output_type": "stream",
     "text": [
      "             date        open        high         low       close     volume  \\\n",
      "0      2010-01-04    6.447413    7.643214    7.660714    7.622500  493729600   \n",
      "1      2010-01-04   40.591286   57.720001   57.869999   56.630001    5277400   \n",
      "2      2010-01-04   32.906178   40.919998   41.099998   40.810001    6894300   \n",
      "3      2010-01-04   43.777554   56.180000   56.389999   55.720001    6186700   \n",
      "4      2010-01-04   39.883911   58.549999   59.189999   57.650002    7325600   \n",
      "...           ...         ...         ...         ...         ...        ...   \n",
      "97008  2023-02-28  463.423553  475.940002  483.359985  482.670013    3902100   \n",
      "97009  2023-02-28  216.976074  219.940002  221.770004  220.000000    5385400   \n",
      "97010  2023-02-28   34.428703   38.810001   38.970001   38.700001   16685300   \n",
      "97011  2023-02-28   31.044863   35.529999   35.779999   35.480000    8847000   \n",
      "97012  2023-02-28   46.214359   47.376667   47.549999   47.000000   18054000   \n",
      "\n",
      "        tic  day  \n",
      "0      AAPL    0  \n",
      "1      AMGN    0  \n",
      "2       AXP    0  \n",
      "3        BA    0  \n",
      "4       CAT    0  \n",
      "...     ...  ...  \n",
      "97008   UNH    1  \n",
      "97009     V    1  \n",
      "97010    VZ    1  \n",
      "97011   WBA    1  \n",
      "97012   WMT    1  \n",
      "\n",
      "[97013 rows x 8 columns]\n"
     ]
    }
   ],
   "source": [
    "print(df)"
   ]
  },
  {
   "cell_type": "code",
   "execution_count": 26,
   "id": "e2819397-3702-47fd-a90b-7a1aaa35f57f",
   "metadata": {},
   "outputs": [
    {
     "name": "stdout",
     "output_type": "stream",
     "text": [
      "Successfully added technical indicators\n",
      "Successfully added turbulence index\n"
     ]
    }
   ],
   "source": [
    "from finrl.meta.preprocessor.preprocessors import FeatureEngineer\n",
    "import numpy as np\n",
    "fe = FeatureEngineer(use_technical_indicator=True,\n",
    "                     tech_indicator_list = INDICATORS,\n",
    "                     use_turbulence=True,\n",
    "                     user_defined_feature = False)\n",
    "\n",
    "processed = fe.preprocess_data(df)\n",
    "processed = processed.copy()\n",
    "processed = processed.fillna(0)\n",
    "processed = processed.replace(np.inf,0)"
   ]
  },
  {
   "cell_type": "code",
   "execution_count": 27,
   "id": "f85de163-3434-465f-a7b7-8bacb9a3848f",
   "metadata": {},
   "outputs": [
    {
     "name": "stdout",
     "output_type": "stream",
     "text": [
      "Stock Dimension: 29, State Space: 175\n"
     ]
    }
   ],
   "source": [
    "stock_dimension = len(processed.tic.unique())\n",
    "state_space = 1 + 2*stock_dimension + len(INDICATORS)*stock_dimension\n",
    "print(f\"Stock Dimension: {stock_dimension}, State Space: {state_space}\")"
   ]
  },
  {
   "cell_type": "code",
   "execution_count": 28,
   "id": "88e4513c-1c52-4000-80f0-c51e0129df33",
   "metadata": {},
   "outputs": [],
   "source": [
    "buy_cost_list = sell_cost_list = [0.001] * stock_dimension\n",
    "num_stock_shares = [0] * stock_dimension\n",
    "\n",
    "env_kwargs = {\n",
    "    \"hmax\": 100,\n",
    "    \"initial_amount\": 1000000,\n",
    "    \"num_stock_shares\": num_stock_shares,\n",
    "    \"buy_cost_pct\": buy_cost_list,\n",
    "    \"sell_cost_pct\": sell_cost_list,\n",
    "    \"state_space\": state_space,\n",
    "    \"stock_dim\": stock_dimension,\n",
    "    \"tech_indicator_list\": INDICATORS,\n",
    "    \"action_space\": stock_dimension,\n",
    "    \"reward_scaling\": 1e-4\n",
    "}"
   ]
  },
  {
   "cell_type": "code",
   "execution_count": 30,
   "id": "c5f59da6-2c81-45da-b667-8bba113dc2eb",
   "metadata": {},
   "outputs": [
    {
     "ename": "ValueError",
     "evalue": "could not broadcast input array from shape (35,) into shape (175,)",
     "output_type": "error",
     "traceback": [
      "\u001b[0;31m---------------------------------------------------------------------------\u001b[0m",
      "\u001b[0;31mValueError\u001b[0m                                Traceback (most recent call last)",
      "Cell \u001b[0;32mIn[30], line 2\u001b[0m\n\u001b[1;32m      1\u001b[0m e_trade_gym \u001b[38;5;241m=\u001b[39m StockTradingEnv(df \u001b[38;5;241m=\u001b[39m processed, turbulence_threshold \u001b[38;5;241m=\u001b[39m \u001b[38;5;241m70\u001b[39m,risk_indicator_col\u001b[38;5;241m=\u001b[39m\u001b[38;5;124m'\u001b[39m\u001b[38;5;124mvix\u001b[39m\u001b[38;5;124m'\u001b[39m, \u001b[38;5;241m*\u001b[39m\u001b[38;5;241m*\u001b[39menv_kwargs)\n\u001b[0;32m----> 2\u001b[0m env_trade, obs_trade \u001b[38;5;241m=\u001b[39m \u001b[43me_trade_gym\u001b[49m\u001b[38;5;241;43m.\u001b[39;49m\u001b[43mget_sb_env\u001b[49m\u001b[43m(\u001b[49m\u001b[43m)\u001b[49m\n",
      "File \u001b[0;32m~/.pyenv/versions/3.10.5/envs/finrl/lib/python3.10/site-packages/finrl/meta/env_stock_trading/env_stocktrading.py:555\u001b[0m, in \u001b[0;36mStockTradingEnv.get_sb_env\u001b[0;34m(self)\u001b[0m\n\u001b[1;32m    553\u001b[0m \u001b[38;5;28;01mdef\u001b[39;00m \u001b[38;5;21mget_sb_env\u001b[39m(\u001b[38;5;28mself\u001b[39m):\n\u001b[1;32m    554\u001b[0m     e \u001b[38;5;241m=\u001b[39m DummyVecEnv([\u001b[38;5;28;01mlambda\u001b[39;00m: \u001b[38;5;28mself\u001b[39m])\n\u001b[0;32m--> 555\u001b[0m     obs \u001b[38;5;241m=\u001b[39m \u001b[43me\u001b[49m\u001b[38;5;241;43m.\u001b[39;49m\u001b[43mreset\u001b[49m\u001b[43m(\u001b[49m\u001b[43m)\u001b[49m\n\u001b[1;32m    556\u001b[0m     \u001b[38;5;28;01mreturn\u001b[39;00m e, obs\n",
      "File \u001b[0;32m~/.pyenv/versions/3.10.5/envs/finrl/lib/python3.10/site-packages/stable_baselines3/common/vec_env/dummy_vec_env.py:79\u001b[0m, in \u001b[0;36mDummyVecEnv.reset\u001b[0;34m(self)\u001b[0m\n\u001b[1;32m     77\u001b[0m     maybe_options \u001b[38;5;241m=\u001b[39m {\u001b[38;5;124m\"\u001b[39m\u001b[38;5;124moptions\u001b[39m\u001b[38;5;124m\"\u001b[39m: \u001b[38;5;28mself\u001b[39m\u001b[38;5;241m.\u001b[39m_options[env_idx]} \u001b[38;5;28;01mif\u001b[39;00m \u001b[38;5;28mself\u001b[39m\u001b[38;5;241m.\u001b[39m_options[env_idx] \u001b[38;5;28;01melse\u001b[39;00m {}\n\u001b[1;32m     78\u001b[0m     obs, \u001b[38;5;28mself\u001b[39m\u001b[38;5;241m.\u001b[39mreset_infos[env_idx] \u001b[38;5;241m=\u001b[39m \u001b[38;5;28mself\u001b[39m\u001b[38;5;241m.\u001b[39menvs[env_idx]\u001b[38;5;241m.\u001b[39mreset(seed\u001b[38;5;241m=\u001b[39m\u001b[38;5;28mself\u001b[39m\u001b[38;5;241m.\u001b[39m_seeds[env_idx], \u001b[38;5;241m*\u001b[39m\u001b[38;5;241m*\u001b[39mmaybe_options)\n\u001b[0;32m---> 79\u001b[0m     \u001b[38;5;28;43mself\u001b[39;49m\u001b[38;5;241;43m.\u001b[39;49m\u001b[43m_save_obs\u001b[49m\u001b[43m(\u001b[49m\u001b[43menv_idx\u001b[49m\u001b[43m,\u001b[49m\u001b[43m \u001b[49m\u001b[43mobs\u001b[49m\u001b[43m)\u001b[49m\n\u001b[1;32m     80\u001b[0m \u001b[38;5;66;03m# Seeds and options are only used once\u001b[39;00m\n\u001b[1;32m     81\u001b[0m \u001b[38;5;28mself\u001b[39m\u001b[38;5;241m.\u001b[39m_reset_seeds()\n",
      "File \u001b[0;32m~/.pyenv/versions/3.10.5/envs/finrl/lib/python3.10/site-packages/stable_baselines3/common/vec_env/dummy_vec_env.py:109\u001b[0m, in \u001b[0;36mDummyVecEnv._save_obs\u001b[0;34m(self, env_idx, obs)\u001b[0m\n\u001b[1;32m    107\u001b[0m \u001b[38;5;28;01mfor\u001b[39;00m key \u001b[38;5;129;01min\u001b[39;00m \u001b[38;5;28mself\u001b[39m\u001b[38;5;241m.\u001b[39mkeys:\n\u001b[1;32m    108\u001b[0m     \u001b[38;5;28;01mif\u001b[39;00m key \u001b[38;5;129;01mis\u001b[39;00m \u001b[38;5;28;01mNone\u001b[39;00m:\n\u001b[0;32m--> 109\u001b[0m         \u001b[38;5;28;43mself\u001b[39;49m\u001b[38;5;241;43m.\u001b[39;49m\u001b[43mbuf_obs\u001b[49m\u001b[43m[\u001b[49m\u001b[43mkey\u001b[49m\u001b[43m]\u001b[49m\u001b[43m[\u001b[49m\u001b[43menv_idx\u001b[49m\u001b[43m]\u001b[49m \u001b[38;5;241m=\u001b[39m obs\n\u001b[1;32m    110\u001b[0m     \u001b[38;5;28;01melse\u001b[39;00m:\n\u001b[1;32m    111\u001b[0m         \u001b[38;5;28mself\u001b[39m\u001b[38;5;241m.\u001b[39mbuf_obs[key][env_idx] \u001b[38;5;241m=\u001b[39m obs[key]\n",
      "\u001b[0;31mValueError\u001b[0m: could not broadcast input array from shape (35,) into shape (175,)"
     ]
    }
   ],
   "source": [
    "e_trade_gym = StockTradingEnv(df = processed, turbulence_threshold = 70,risk_indicator_col='vix', **env_kwargs)\n",
    "env_trade, obs_trade = e_trade_gym.get_sb_env()"
   ]
  },
  {
   "cell_type": "code",
   "execution_count": null,
   "id": "a1de17d6-aecd-49c6-9540-c68af6e7c421",
   "metadata": {},
   "outputs": [],
   "source": []
  }
 ],
 "metadata": {
  "kernelspec": {
   "display_name": "Python 3 (ipykernel)",
   "language": "python",
   "name": "python3"
  },
  "language_info": {
   "codemirror_mode": {
    "name": "ipython",
    "version": 3
   },
   "file_extension": ".py",
   "mimetype": "text/x-python",
   "name": "python",
   "nbconvert_exporter": "python",
   "pygments_lexer": "ipython3",
   "version": "3.10.5"
  }
 },
 "nbformat": 4,
 "nbformat_minor": 5
}
