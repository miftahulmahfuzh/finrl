{
 "cells": [
  {
   "cell_type": "code",
   "execution_count": 2,
   "id": "d1ef4834-57ab-49bd-b9bb-95020140ccf0",
   "metadata": {},
   "outputs": [
    {
     "name": "stdout",
     "output_type": "stream",
     "text": [
      "/home/devmiftahul/trading_model/from_finrl-tutorials_git/tuntun_scripts/csv/FAST_api_data_2010-01-01_2024-11-26.csv\n"
     ]
    }
   ],
   "source": [
    "import pandas as pd\n",
    "from glob import glob\n",
    "d = \"/home/devmiftahul/trading_model/from_finrl-tutorials_git/tuntun_scripts/csv/*.csv\"\n",
    "fnames = glob(d)\n",
    "print(fnames[0])"
   ]
  },
  {
   "cell_type": "code",
   "execution_count": 4,
   "id": "da70851f-a8e1-4cd5-af26-c430387006c1",
   "metadata": {},
   "outputs": [],
   "source": [
    "fpath = \"/home/devmiftahul/trading_model/from_finrl-tutorials_git/tuntun_scripts/csv/<TIC>_api_data_2010-01-01_2024-11-26.csv\""
   ]
  },
  {
   "cell_type": "code",
   "execution_count": 11,
   "id": "7b07b072-2489-42ac-844f-e6626a60b93f",
   "metadata": {},
   "outputs": [
    {
     "data": {
      "text/plain": [
       "3627"
      ]
     },
     "execution_count": 11,
     "metadata": {},
     "output_type": "execute_result"
    }
   ],
   "source": [
    "working_tic = \"AALI\"\n",
    "working_path = fpath.replace(\"<TIC>\", working_tic)\n",
    "working_df = pd.read_csv(sample_path)\n",
    "working_dates = sample_df[\"date\"].unique().tolist()\n",
    "len(working_dates)"
   ]
  },
  {
   "cell_type": "code",
   "execution_count": null,
   "id": "99801a8e-fec1-4643-b711-223e9c3bc548",
   "metadata": {},
   "outputs": [],
   "source": [
    "date2day_index = {date: dy for dy, date in enumerate(working_dates, start=1)}\n",
    "date2day_index"
   ]
  },
  {
   "cell_type": "code",
   "execution_count": 6,
   "id": "042227cb-c54d-4ef1-9528-c7b6d8c77775",
   "metadata": {},
   "outputs": [
    {
     "name": "stdout",
     "output_type": "stream",
     "text": [
      "['IBFN', 'ANDI', 'BELL', 'ENVY', 'CBPE', 'BIRD', 'BIKE', 'CHIP', 'BBYB', 'GRPH', 'HRME', 'GOLD', 'BIPI', 'HALO', 'CARS', 'GPSO', 'FOLK', 'CSIS', 'APEX', 'ARII', 'BEER', 'GIAA', 'BIKA', 'DRMA', 'DIGI', 'BINA', 'AMAN', 'APLN', 'BLTZ', 'CAMP', 'DAYA', 'BOLT', 'BANK', 'CSMI', 'GOTO', 'AGII', 'FILM', 'DMAS', 'CSRA', 'CMNT', 'FAPA', 'GRPM', 'HOMI', 'BTPS', 'BYAN', 'BULL', 'BESS', 'BGTG', 'BOLA', 'ALII', 'ATIC', 'ACST', 'ALDO', 'FOOD', 'BALI', 'HOPE', 'ERAA', 'CBUT', 'DNAR', 'FIMP', 'DMND', 'BATR', 'BBSS', 'ATLA', 'GAMA', 'EDGE', 'BSIM', 'AKPI', 'HATM', 'GOLF', 'CGAS', 'HILL', 'HYGN', 'HRUM', 'COCO', 'ASLC', 'DADA', 'CCSI', 'AMIN', 'BRIS', 'ALTO', 'CBMF', 'HAJJ', 'DIVA', 'ELPI', 'HDFA', 'BHAT', 'HKMU', 'HAIS', 'BOGA', 'AVIA', 'AGAR', 'CITY', 'BABY', 'CHEM', 'CANI', 'AWAN', 'GOOD', 'AEGS', 'BAUT', 'ELIT', 'DEWI', 'ASPI', 'DATA', 'ACRO', 'BEEF', 'HOKI', 'DFAM', 'BMAS', 'FORZ', 'CMRY', 'FLMC', 'CLAY', 'ERAL', 'CAKK', 'CASA', 'GOLL', 'BLES', 'BUAH', 'GULA', 'BPII', 'GLOB', 'AREA', 'CLEO', 'BSBK', 'DGNS', 'BAPI', 'BEBS', 'CINT', 'ESIP', 'BSSR', 'DYAN', 'BSML', 'DEAL', 'HUMI', 'CASS', 'GTSI', 'ECII', 'EMTK', 'BUKK', 'AHAP', 'DEPO', 'EPAC', 'BOSS', 'BAIK', 'DMMX', 'DPUM', 'ABMM', 'ENZO', 'HELI', 'FUJI', 'CARE', 'GRIA', 'FIRE', 'DSNG', 'ASSA', 'BELI', 'FWCT', 'GLVA', 'CYBR', 'ASHA', 'BBSI', 'FITT', 'AXIO', 'COAL', 'GEMS', 'ARKO', 'BINO', 'AMOR', 'AYAM', 'ASLI', 'ARTO', 'ARKA', 'BBMD', 'BBRM', 'ENAK', 'BRMS', 'BUKA', 'APII', 'AMMS', 'DOOH', 'EMDE', 'ADCP', 'GHON', 'ADMR', 'CRSN', 'AMAR', 'GTRA', 'BJBR', 'GMFI', 'HBAT', 'ANJT', 'BEST', 'BAJA', 'BREN', 'BOBA', 'DCII', 'HRTA', 'CNMA', 'ESTA', 'DWGL', 'ARCI', 'BBHI', 'BMBL', 'GGRP', 'AKRA', 'EURO', 'CPRI', 'BDKR', 'AYLS', 'HOTL', 'CUAN', 'HDIT', 'HEAL', 'CBRE', 'CASH', 'GWSA', 'ESSA', 'ATAP', 'AGRS', 'ASMI', 'GUNA', 'ARMY', 'BLUE', 'CNTB', 'DUCK', 'BMHS', 'AMMN', 'EAST', 'BJTM', 'FUTR', 'CRAB', 'BUVA', 'BPTR']\n",
      "234\n"
     ]
    }
   ],
   "source": [
    "flist = \"tuntun_scripts/tics_to_repeat_fetch.txt\"\n",
    "list_to_redo_fetch = open(flist).read().splitlines()\n",
    "print(list_to_redo_fetch)\n",
    "print(len(list_to_redo_fetch))"
   ]
  },
  {
   "cell_type": "code",
   "execution_count": 28,
   "id": "fe10691d-d7db-437c-a853-4397ed990a5b",
   "metadata": {},
   "outputs": [],
   "source": [
    "from typing import List, Dict\n",
    "from tqdm import tqdm\n",
    "import requests\n",
    "\n",
    "def get_tic_data_in_range(tic: str, start_date: str, end_date: str):\n",
    "    \"\"\"\n",
    "    Fetches trading data for a specific ticker within a date range.\n",
    "\n",
    "    Args:\n",
    "        tic (str): The ticker symbol.\n",
    "        start_date (str): The start date in YYYY-MM-DD format.\n",
    "        end_date (str): The end date in YYYY-MM-DD format.\n",
    "\n",
    "    Returns:\n",
    "        dict: Trading data for the ticker in the given date range, or an empty dict if the request fails.\n",
    "    \"\"\"\n",
    "    url = 'http://10.192.1.245:8080/orderbook/basic-trading-data'\n",
    "    headers = {'Content-Type': 'application/json'}\n",
    "    data = {\n",
    "        \"secCode\": tic,\n",
    "        \"startDate\": start_date,\n",
    "        \"endDate\": end_date\n",
    "    }\n",
    "\n",
    "    items = []\n",
    "    try:\n",
    "        response = requests.post(url, headers=headers, json=data)\n",
    "        response.raise_for_status()\n",
    "        items = response.json().get(\"data\", [])\n",
    "    except requests.RequestException as e:\n",
    "        print(f\"Error fetching trading data for {tic} on {start_date}: {e}\")\n",
    "        return []\n",
    "    return items\n",
    "\n",
    "def fix_missing_dates(tic: str, current_df: pd.DataFrame, working_dates: List[str], date2day_index: Dict):\n",
    "    # TODO:\n",
    "    current_dates = sorted(current_df[\"date\"].unique())\n",
    "    missing_dates = [d for d in working_dates if d not in current_dates]\n",
    "    print(f\"Processing missing dates in {tic}..\")\n",
    "    for missing_date in tqdm(missing_dates, total=len(missing_dates)):\n",
    "        data = get_tic_data_in_range(tic, missing_date, missing_date)\n",
    "        if not data:\n",
    "            print(f\"Failed to fetch {tic} data for date: {missing_date}\")\n",
    "        data = data[0]\n",
    "        row = {\n",
    "            \"date\": missing_date,\n",
    "            \"open\": data.get(\"openPrice\"),\n",
    "            \"high\": data.get(\"highPrice\"),\n",
    "            \"low\": data.get(\"lowPrice\"),\n",
    "            \"close\": data.get(\"closePrice\"),\n",
    "            \"volume\": data.get(\"totalVolume\"),\n",
    "            \"tic\": tic,\n",
    "            \"day\": date2day_index[missing_date]\n",
    "        }\n",
    "        # rows.append(row)\n",
    "        RESET = False\n",
    "        START_DATE = \"2010-01-01\"\n",
    "        END_DATE = \"2024-11-26\"\n",
    "        CSV_DIR = \"/home/devmiftahul/trading_model/from_finrl-tutorials_git/tuntun_scripts/csv\"\n",
    "        FILENAME = f\"{CSV_DIR}/{tic}_api_data_{START_DATE}_{END_DATE}.csv\"\n",
    "        new_data = pd.DataFrame([row])\n",
    "        # if (existing_data.empty and not os.path.exists(FILENAME)) or RESET:\n",
    "        if (not os.path.exists(FILENAME)) or RESET:\n",
    "            RESET = False\n",
    "            print(f\"FILE NOT FOUND:\\n{FILENAME}\")\n",
    "            # new_data.to_csv(FILENAME, index=False)\n",
    "        else:\n",
    "            new_data.to_csv(FILENAME, mode='a', header=False, index=False)"
   ]
  },
  {
   "cell_type": "code",
   "execution_count": 32,
   "id": "8fc3f526-794e-4d1a-ae22-6ef1750188f7",
   "metadata": {},
   "outputs": [
    {
     "name": "stdout",
     "output_type": "stream",
     "text": [
      "Total row in IBFN: 2408\n",
      "Earliest day to trade IBFN: 2014-12-22\n",
      "Currently, IBFN only has 2408 out of 3627 days\n",
      "Missing 1219 days\n",
      "Processing missing dates in IBFN..\n"
     ]
    },
    {
     "name": "stderr",
     "output_type": "stream",
     "text": [
      "  0%|                                                                                                                                                  | 0/1219 [00:00<?, ?it/s]"
     ]
    },
    {
     "name": "stdout",
     "output_type": "stream",
     "text": [
      "Failed to fetch IBFN data for date: 2010-01-04\n"
     ]
    },
    {
     "name": "stderr",
     "output_type": "stream",
     "text": [
      "\n"
     ]
    },
    {
     "ename": "IndexError",
     "evalue": "list index out of range",
     "output_type": "error",
     "traceback": [
      "\u001b[0;31m---------------------------------------------------------------------------\u001b[0m",
      "\u001b[0;31mIndexError\u001b[0m                                Traceback (most recent call last)",
      "Cell \u001b[0;32mIn[32], line 9\u001b[0m\n\u001b[1;32m      7\u001b[0m \u001b[38;5;28mprint\u001b[39m(\u001b[38;5;124mf\u001b[39m\u001b[38;5;124m\"\u001b[39m\u001b[38;5;124mCurrently, \u001b[39m\u001b[38;5;132;01m{\u001b[39;00mtic\u001b[38;5;132;01m}\u001b[39;00m\u001b[38;5;124m only has \u001b[39m\u001b[38;5;132;01m{\u001b[39;00m\u001b[38;5;28mlen\u001b[39m(current_dates)\u001b[38;5;132;01m}\u001b[39;00m\u001b[38;5;124m out of \u001b[39m\u001b[38;5;132;01m{\u001b[39;00m\u001b[38;5;28mlen\u001b[39m(working_dates)\u001b[38;5;132;01m}\u001b[39;00m\u001b[38;5;124m days\u001b[39m\u001b[38;5;124m\"\u001b[39m)\n\u001b[1;32m      8\u001b[0m \u001b[38;5;28mprint\u001b[39m(\u001b[38;5;124mf\u001b[39m\u001b[38;5;124m\"\u001b[39m\u001b[38;5;124mMissing \u001b[39m\u001b[38;5;132;01m{\u001b[39;00m\u001b[38;5;28mlen\u001b[39m(working_dates)\u001b[38;5;241m-\u001b[39m\u001b[38;5;28mlen\u001b[39m(current_dates)\u001b[38;5;132;01m}\u001b[39;00m\u001b[38;5;124m days\u001b[39m\u001b[38;5;124m\"\u001b[39m)\n\u001b[0;32m----> 9\u001b[0m \u001b[43mfix_missing_dates\u001b[49m\u001b[43m(\u001b[49m\u001b[43mtic\u001b[49m\u001b[43m,\u001b[49m\u001b[43m \u001b[49m\u001b[43mcurrent_df\u001b[49m\u001b[43m,\u001b[49m\u001b[43m \u001b[49m\u001b[43mworking_dates\u001b[49m\u001b[43m,\u001b[49m\u001b[43m \u001b[49m\u001b[43mdate2day_index\u001b[49m\u001b[43m)\u001b[49m\n\u001b[1;32m     10\u001b[0m \u001b[38;5;66;03m# print(current_df)\u001b[39;00m\n",
      "Cell \u001b[0;32mIn[28], line 44\u001b[0m, in \u001b[0;36mfix_missing_dates\u001b[0;34m(tic, current_df, working_dates, date2day_index)\u001b[0m\n\u001b[1;32m     42\u001b[0m \u001b[38;5;28;01mif\u001b[39;00m \u001b[38;5;129;01mnot\u001b[39;00m data:\n\u001b[1;32m     43\u001b[0m     \u001b[38;5;28mprint\u001b[39m(\u001b[38;5;124mf\u001b[39m\u001b[38;5;124m\"\u001b[39m\u001b[38;5;124mFailed to fetch \u001b[39m\u001b[38;5;132;01m{\u001b[39;00mtic\u001b[38;5;132;01m}\u001b[39;00m\u001b[38;5;124m data for date: \u001b[39m\u001b[38;5;132;01m{\u001b[39;00mmissing_date\u001b[38;5;132;01m}\u001b[39;00m\u001b[38;5;124m\"\u001b[39m)\n\u001b[0;32m---> 44\u001b[0m data \u001b[38;5;241m=\u001b[39m \u001b[43mdata\u001b[49m\u001b[43m[\u001b[49m\u001b[38;5;241;43m0\u001b[39;49m\u001b[43m]\u001b[49m\n\u001b[1;32m     45\u001b[0m row \u001b[38;5;241m=\u001b[39m {\n\u001b[1;32m     46\u001b[0m     \u001b[38;5;124m\"\u001b[39m\u001b[38;5;124mdate\u001b[39m\u001b[38;5;124m\"\u001b[39m: missing_date,\n\u001b[1;32m     47\u001b[0m     \u001b[38;5;124m\"\u001b[39m\u001b[38;5;124mopen\u001b[39m\u001b[38;5;124m\"\u001b[39m: data\u001b[38;5;241m.\u001b[39mget(\u001b[38;5;124m\"\u001b[39m\u001b[38;5;124mopenPrice\u001b[39m\u001b[38;5;124m\"\u001b[39m),\n\u001b[0;32m   (...)\u001b[0m\n\u001b[1;32m     53\u001b[0m     \u001b[38;5;124m\"\u001b[39m\u001b[38;5;124mday\u001b[39m\u001b[38;5;124m\"\u001b[39m: date2day_index[missing_date]\n\u001b[1;32m     54\u001b[0m }\n\u001b[1;32m     55\u001b[0m \u001b[38;5;66;03m# rows.append(row)\u001b[39;00m\n",
      "\u001b[0;31mIndexError\u001b[0m: list index out of range"
     ]
    }
   ],
   "source": [
    "for tic in list_to_redo_fetch[:1]:\n",
    "    current_path = fpath.replace(\"<TIC>\", tic)\n",
    "    current_df = pd.read_csv(current_path)\n",
    "    print(f\"Total row in {tic}: {len(current_df)}\")\n",
    "    current_dates = sorted(current_df[\"date\"].unique().tolist())\n",
    "    print(f\"Earliest day to trade {tic}: {current_dates[0]}\")\n",
    "    print(f\"Currently, {tic} only has {len(current_dates)} out of {len(working_dates)} days\")\n",
    "    print(f\"Missing {len(working_dates)-len(current_dates)} days\")\n",
    "    fix_missing_dates(tic, current_df, working_dates, date2day_index)\n",
    "    # print(current_df)"
   ]
  },
  {
   "cell_type": "code",
   "execution_count": null,
   "id": "cad06701-5372-48bf-9419-309bee7a12b6",
   "metadata": {},
   "outputs": [],
   "source": []
  }
 ],
 "metadata": {
  "kernelspec": {
   "display_name": "Python 3 (ipykernel)",
   "language": "python",
   "name": "python3"
  },
  "language_info": {
   "codemirror_mode": {
    "name": "ipython",
    "version": 3
   },
   "file_extension": ".py",
   "mimetype": "text/x-python",
   "name": "python",
   "nbconvert_exporter": "python",
   "pygments_lexer": "ipython3",
   "version": "3.10.5"
  }
 },
 "nbformat": 4,
 "nbformat_minor": 5
}
