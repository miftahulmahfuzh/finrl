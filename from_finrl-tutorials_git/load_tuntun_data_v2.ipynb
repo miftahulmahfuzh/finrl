{
 "cells": [
  {
   "cell_type": "code",
   "execution_count": 1,
   "id": "7b5f581d-4161-4744-bc56-53ca1334dc8a",
   "metadata": {},
   "outputs": [
    {
     "data": {
      "text/html": [
       "<div>\n",
       "<style scoped>\n",
       "    .dataframe tbody tr th:only-of-type {\n",
       "        vertical-align: middle;\n",
       "    }\n",
       "\n",
       "    .dataframe tbody tr th {\n",
       "        vertical-align: top;\n",
       "    }\n",
       "\n",
       "    .dataframe thead th {\n",
       "        text-align: right;\n",
       "    }\n",
       "</style>\n",
       "<table border=\"1\" class=\"dataframe\">\n",
       "  <thead>\n",
       "    <tr style=\"text-align: right;\">\n",
       "      <th></th>\n",
       "      <th>date</th>\n",
       "      <th>open</th>\n",
       "      <th>high</th>\n",
       "      <th>low</th>\n",
       "      <th>close</th>\n",
       "      <th>volume</th>\n",
       "      <th>tic</th>\n",
       "      <th>day</th>\n",
       "    </tr>\n",
       "  </thead>\n",
       "  <tbody>\n",
       "    <tr>\n",
       "      <th>134</th>\n",
       "      <td>2010-05-03</td>\n",
       "      <td>2800.0</td>\n",
       "      <td>2800.0</td>\n",
       "      <td>2800.0</td>\n",
       "      <td>2800.0</td>\n",
       "      <td>0</td>\n",
       "      <td>ALFA</td>\n",
       "      <td>4234</td>\n",
       "    </tr>\n",
       "    <tr>\n",
       "      <th>135</th>\n",
       "      <td>2010-05-03</td>\n",
       "      <td>162.0</td>\n",
       "      <td>162.0</td>\n",
       "      <td>162.0</td>\n",
       "      <td>162.0</td>\n",
       "      <td>500</td>\n",
       "      <td>ANTA</td>\n",
       "      <td>4234</td>\n",
       "    </tr>\n",
       "    <tr>\n",
       "      <th>137</th>\n",
       "      <td>2010-05-03</td>\n",
       "      <td>1050.0</td>\n",
       "      <td>1050.0</td>\n",
       "      <td>1050.0</td>\n",
       "      <td>1050.0</td>\n",
       "      <td>0</td>\n",
       "      <td>DYNA</td>\n",
       "      <td>4234</td>\n",
       "    </tr>\n",
       "    <tr>\n",
       "      <th>142</th>\n",
       "      <td>2010-05-04</td>\n",
       "      <td>2800.0</td>\n",
       "      <td>2800.0</td>\n",
       "      <td>2800.0</td>\n",
       "      <td>2800.0</td>\n",
       "      <td>0</td>\n",
       "      <td>ALFA</td>\n",
       "      <td>4235</td>\n",
       "    </tr>\n",
       "    <tr>\n",
       "      <th>143</th>\n",
       "      <td>2010-05-04</td>\n",
       "      <td>162.0</td>\n",
       "      <td>162.0</td>\n",
       "      <td>162.0</td>\n",
       "      <td>162.0</td>\n",
       "      <td>0</td>\n",
       "      <td>ANTA</td>\n",
       "      <td>4235</td>\n",
       "    </tr>\n",
       "    <tr>\n",
       "      <th>...</th>\n",
       "      <td>...</td>\n",
       "      <td>...</td>\n",
       "      <td>...</td>\n",
       "      <td>...</td>\n",
       "      <td>...</td>\n",
       "      <td>...</td>\n",
       "      <td>...</td>\n",
       "      <td>...</td>\n",
       "    </tr>\n",
       "    <tr>\n",
       "      <th>456815</th>\n",
       "      <td>2021-12-30</td>\n",
       "      <td>840.0</td>\n",
       "      <td>860.0</td>\n",
       "      <td>800.0</td>\n",
       "      <td>800.0</td>\n",
       "      <td>20900</td>\n",
       "      <td>YPAS</td>\n",
       "      <td>7079</td>\n",
       "    </tr>\n",
       "    <tr>\n",
       "      <th>456816</th>\n",
       "      <td>2021-12-30</td>\n",
       "      <td>1410.0</td>\n",
       "      <td>1560.0</td>\n",
       "      <td>1360.0</td>\n",
       "      <td>1510.0</td>\n",
       "      <td>117600</td>\n",
       "      <td>YULE</td>\n",
       "      <td>7079</td>\n",
       "    </tr>\n",
       "    <tr>\n",
       "      <th>456817</th>\n",
       "      <td>2021-12-30</td>\n",
       "      <td>650.0</td>\n",
       "      <td>655.0</td>\n",
       "      <td>625.0</td>\n",
       "      <td>645.0</td>\n",
       "      <td>1667500</td>\n",
       "      <td>ZBRA</td>\n",
       "      <td>7079</td>\n",
       "    </tr>\n",
       "    <tr>\n",
       "      <th>456818</th>\n",
       "      <td>2021-12-30</td>\n",
       "      <td>105.0</td>\n",
       "      <td>107.0</td>\n",
       "      <td>103.0</td>\n",
       "      <td>105.0</td>\n",
       "      <td>933951600</td>\n",
       "      <td>ZINC</td>\n",
       "      <td>7079</td>\n",
       "    </tr>\n",
       "    <tr>\n",
       "      <th>456819</th>\n",
       "      <td>2021-12-30</td>\n",
       "      <td>410.0</td>\n",
       "      <td>414.0</td>\n",
       "      <td>410.0</td>\n",
       "      <td>414.0</td>\n",
       "      <td>196600</td>\n",
       "      <td>ZONE</td>\n",
       "      <td>7079</td>\n",
       "    </tr>\n",
       "  </tbody>\n",
       "</table>\n",
       "<p>373488 rows × 8 columns</p>\n",
       "</div>"
      ],
      "text/plain": [
       "              date    open    high     low   close     volume   tic   day\n",
       "134     2010-05-03  2800.0  2800.0  2800.0  2800.0          0  ALFA  4234\n",
       "135     2010-05-03   162.0   162.0   162.0   162.0        500  ANTA  4234\n",
       "137     2010-05-03  1050.0  1050.0  1050.0  1050.0          0  DYNA  4234\n",
       "142     2010-05-04  2800.0  2800.0  2800.0  2800.0          0  ALFA  4235\n",
       "143     2010-05-04   162.0   162.0   162.0   162.0          0  ANTA  4235\n",
       "...            ...     ...     ...     ...     ...        ...   ...   ...\n",
       "456815  2021-12-30   840.0   860.0   800.0   800.0      20900  YPAS  7079\n",
       "456816  2021-12-30  1410.0  1560.0  1360.0  1510.0     117600  YULE  7079\n",
       "456817  2021-12-30   650.0   655.0   625.0   645.0    1667500  ZBRA  7079\n",
       "456818  2021-12-30   105.0   107.0   103.0   105.0  933951600  ZINC  7079\n",
       "456819  2021-12-30   410.0   414.0   410.0   414.0     196600  ZONE  7079\n",
       "\n",
       "[373488 rows x 8 columns]"
      ]
     },
     "execution_count": 1,
     "metadata": {},
     "output_type": "execute_result"
    }
   ],
   "source": [
    "import pandas as pd\n",
    "raw_df = pd.read_csv(\"../tuntun_data/Daily93Tuntun_2010-2021.csv\")\n",
    "raw_df = raw_df[pd.to_datetime(raw_df['date']) > pd.Timestamp('2009-01-01')]\n",
    "raw_df = raw_df[~raw_df['tic'].str.contains('-')]\n",
    "raw_df = raw_df.drop_duplicates(subset=['date', 'tic'])\n",
    "raw_df"
   ]
  },
  {
   "cell_type": "code",
   "execution_count": 2,
   "id": "e2e7d031-00e0-41a0-b111-710eeda8ab4e",
   "metadata": {},
   "outputs": [
    {
     "data": {
      "text/html": [
       "<div>\n",
       "<style scoped>\n",
       "    .dataframe tbody tr th:only-of-type {\n",
       "        vertical-align: middle;\n",
       "    }\n",
       "\n",
       "    .dataframe tbody tr th {\n",
       "        vertical-align: top;\n",
       "    }\n",
       "\n",
       "    .dataframe thead th {\n",
       "        text-align: right;\n",
       "    }\n",
       "</style>\n",
       "<table border=\"1\" class=\"dataframe\">\n",
       "  <thead>\n",
       "    <tr style=\"text-align: right;\">\n",
       "      <th></th>\n",
       "      <th>date</th>\n",
       "      <th>open</th>\n",
       "      <th>high</th>\n",
       "      <th>low</th>\n",
       "      <th>close</th>\n",
       "      <th>volume</th>\n",
       "      <th>tic</th>\n",
       "      <th>day</th>\n",
       "    </tr>\n",
       "  </thead>\n",
       "  <tbody>\n",
       "    <tr>\n",
       "      <th>0</th>\n",
       "      <td>2010-05-03</td>\n",
       "      <td>2800.0</td>\n",
       "      <td>2800.0</td>\n",
       "      <td>2800.0</td>\n",
       "      <td>2800.0</td>\n",
       "      <td>0</td>\n",
       "      <td>ALFA</td>\n",
       "      <td>1</td>\n",
       "    </tr>\n",
       "    <tr>\n",
       "      <th>1</th>\n",
       "      <td>2010-05-03</td>\n",
       "      <td>162.0</td>\n",
       "      <td>162.0</td>\n",
       "      <td>162.0</td>\n",
       "      <td>162.0</td>\n",
       "      <td>500</td>\n",
       "      <td>ANTA</td>\n",
       "      <td>1</td>\n",
       "    </tr>\n",
       "    <tr>\n",
       "      <th>2</th>\n",
       "      <td>2010-05-03</td>\n",
       "      <td>1050.0</td>\n",
       "      <td>1050.0</td>\n",
       "      <td>1050.0</td>\n",
       "      <td>1050.0</td>\n",
       "      <td>0</td>\n",
       "      <td>DYNA</td>\n",
       "      <td>1</td>\n",
       "    </tr>\n",
       "    <tr>\n",
       "      <th>3</th>\n",
       "      <td>2010-05-04</td>\n",
       "      <td>2800.0</td>\n",
       "      <td>2800.0</td>\n",
       "      <td>2800.0</td>\n",
       "      <td>2800.0</td>\n",
       "      <td>0</td>\n",
       "      <td>ALFA</td>\n",
       "      <td>2</td>\n",
       "    </tr>\n",
       "    <tr>\n",
       "      <th>4</th>\n",
       "      <td>2010-05-04</td>\n",
       "      <td>162.0</td>\n",
       "      <td>162.0</td>\n",
       "      <td>162.0</td>\n",
       "      <td>162.0</td>\n",
       "      <td>0</td>\n",
       "      <td>ANTA</td>\n",
       "      <td>2</td>\n",
       "    </tr>\n",
       "    <tr>\n",
       "      <th>...</th>\n",
       "      <td>...</td>\n",
       "      <td>...</td>\n",
       "      <td>...</td>\n",
       "      <td>...</td>\n",
       "      <td>...</td>\n",
       "      <td>...</td>\n",
       "      <td>...</td>\n",
       "      <td>...</td>\n",
       "    </tr>\n",
       "    <tr>\n",
       "      <th>373483</th>\n",
       "      <td>2021-12-30</td>\n",
       "      <td>222.0</td>\n",
       "      <td>222.0</td>\n",
       "      <td>222.0</td>\n",
       "      <td>222.0</td>\n",
       "      <td>0</td>\n",
       "      <td>GIAA</td>\n",
       "      <td>2435</td>\n",
       "    </tr>\n",
       "    <tr>\n",
       "      <th>373484</th>\n",
       "      <td>2021-12-30</td>\n",
       "      <td>670.0</td>\n",
       "      <td>670.0</td>\n",
       "      <td>660.0</td>\n",
       "      <td>665.0</td>\n",
       "      <td>1904600</td>\n",
       "      <td>GJTL</td>\n",
       "      <td>2435</td>\n",
       "    </tr>\n",
       "    <tr>\n",
       "      <th>373485</th>\n",
       "      <td>2021-12-30</td>\n",
       "      <td>218.0</td>\n",
       "      <td>228.0</td>\n",
       "      <td>214.0</td>\n",
       "      <td>214.0</td>\n",
       "      <td>195700</td>\n",
       "      <td>GLOB</td>\n",
       "      <td>2435</td>\n",
       "    </tr>\n",
       "    <tr>\n",
       "      <th>373486</th>\n",
       "      <td>2021-12-30</td>\n",
       "      <td>50.0</td>\n",
       "      <td>50.0</td>\n",
       "      <td>50.0</td>\n",
       "      <td>50.0</td>\n",
       "      <td>0</td>\n",
       "      <td>KPAL</td>\n",
       "      <td>2435</td>\n",
       "    </tr>\n",
       "    <tr>\n",
       "      <th>373487</th>\n",
       "      <td>2021-12-30</td>\n",
       "      <td>410.0</td>\n",
       "      <td>414.0</td>\n",
       "      <td>410.0</td>\n",
       "      <td>414.0</td>\n",
       "      <td>196600</td>\n",
       "      <td>ZONE</td>\n",
       "      <td>2435</td>\n",
       "    </tr>\n",
       "  </tbody>\n",
       "</table>\n",
       "<p>373488 rows × 8 columns</p>\n",
       "</div>"
      ],
      "text/plain": [
       "             date    open    high     low   close   volume   tic   day\n",
       "0      2010-05-03  2800.0  2800.0  2800.0  2800.0        0  ALFA     1\n",
       "1      2010-05-03   162.0   162.0   162.0   162.0      500  ANTA     1\n",
       "2      2010-05-03  1050.0  1050.0  1050.0  1050.0        0  DYNA     1\n",
       "3      2010-05-04  2800.0  2800.0  2800.0  2800.0        0  ALFA     2\n",
       "4      2010-05-04   162.0   162.0   162.0   162.0        0  ANTA     2\n",
       "...           ...     ...     ...     ...     ...      ...   ...   ...\n",
       "373483 2021-12-30   222.0   222.0   222.0   222.0        0  GIAA  2435\n",
       "373484 2021-12-30   670.0   670.0   660.0   665.0  1904600  GJTL  2435\n",
       "373485 2021-12-30   218.0   228.0   214.0   214.0   195700  GLOB  2435\n",
       "373486 2021-12-30    50.0    50.0    50.0    50.0        0  KPAL  2435\n",
       "373487 2021-12-30   410.0   414.0   410.0   414.0   196600  ZONE  2435\n",
       "\n",
       "[373488 rows x 8 columns]"
      ]
     },
     "execution_count": 2,
     "metadata": {},
     "output_type": "execute_result"
    }
   ],
   "source": [
    "raw_df['date'] = pd.to_datetime(raw_df['date'])\n",
    "raw_df = raw_df.sort_values('date').reset_index(drop=True)\n",
    "date_mapping = {date: i+1 for i, date in enumerate(raw_df['date'].unique())}\n",
    "raw_df['day'] = raw_df['date'].map(date_mapping)\n",
    "raw_df"
   ]
  },
  {
   "cell_type": "code",
   "execution_count": 3,
   "id": "bc5d0241-44d0-4d0d-b87e-b4b407dbcf27",
   "metadata": {},
   "outputs": [
    {
     "data": {
      "text/html": [
       "<div>\n",
       "<style scoped>\n",
       "    .dataframe tbody tr th:only-of-type {\n",
       "        vertical-align: middle;\n",
       "    }\n",
       "\n",
       "    .dataframe tbody tr th {\n",
       "        vertical-align: top;\n",
       "    }\n",
       "\n",
       "    .dataframe thead th {\n",
       "        text-align: right;\n",
       "    }\n",
       "</style>\n",
       "<table border=\"1\" class=\"dataframe\">\n",
       "  <thead>\n",
       "    <tr style=\"text-align: right;\">\n",
       "      <th></th>\n",
       "      <th>date</th>\n",
       "      <th>open</th>\n",
       "      <th>high</th>\n",
       "      <th>low</th>\n",
       "      <th>close</th>\n",
       "      <th>volume</th>\n",
       "      <th>tic</th>\n",
       "      <th>day</th>\n",
       "    </tr>\n",
       "  </thead>\n",
       "  <tbody>\n",
       "    <tr>\n",
       "      <th>19139</th>\n",
       "      <td>2019-12-10</td>\n",
       "      <td>1390.00</td>\n",
       "      <td>1445.00</td>\n",
       "      <td>1390.0</td>\n",
       "      <td>1425.0</td>\n",
       "      <td>50000</td>\n",
       "      <td>PANS</td>\n",
       "      <td>1934</td>\n",
       "    </tr>\n",
       "    <tr>\n",
       "      <th>19140</th>\n",
       "      <td>2019-12-10</td>\n",
       "      <td>1000.00</td>\n",
       "      <td>1000.00</td>\n",
       "      <td>980.0</td>\n",
       "      <td>995.0</td>\n",
       "      <td>229100</td>\n",
       "      <td>PBID</td>\n",
       "      <td>1934</td>\n",
       "    </tr>\n",
       "    <tr>\n",
       "      <th>19141</th>\n",
       "      <td>2019-12-10</td>\n",
       "      <td>437.89</td>\n",
       "      <td>462.02</td>\n",
       "      <td>424.1</td>\n",
       "      <td>424.1</td>\n",
       "      <td>20157</td>\n",
       "      <td>PBRX</td>\n",
       "      <td>1934</td>\n",
       "    </tr>\n",
       "    <tr>\n",
       "      <th>19148</th>\n",
       "      <td>2019-12-10</td>\n",
       "      <td>4310.00</td>\n",
       "      <td>4310.00</td>\n",
       "      <td>3580.0</td>\n",
       "      <td>3580.0</td>\n",
       "      <td>602800</td>\n",
       "      <td>PICO</td>\n",
       "      <td>1934</td>\n",
       "    </tr>\n",
       "    <tr>\n",
       "      <th>19149</th>\n",
       "      <td>2019-12-10</td>\n",
       "      <td>955.00</td>\n",
       "      <td>960.00</td>\n",
       "      <td>955.0</td>\n",
       "      <td>955.0</td>\n",
       "      <td>49200</td>\n",
       "      <td>PJAA</td>\n",
       "      <td>1934</td>\n",
       "    </tr>\n",
       "    <tr>\n",
       "      <th>...</th>\n",
       "      <td>...</td>\n",
       "      <td>...</td>\n",
       "      <td>...</td>\n",
       "      <td>...</td>\n",
       "      <td>...</td>\n",
       "      <td>...</td>\n",
       "      <td>...</td>\n",
       "      <td>...</td>\n",
       "    </tr>\n",
       "    <tr>\n",
       "      <th>373446</th>\n",
       "      <td>2021-12-30</td>\n",
       "      <td>89.00</td>\n",
       "      <td>89.00</td>\n",
       "      <td>87.0</td>\n",
       "      <td>87.0</td>\n",
       "      <td>3064300</td>\n",
       "      <td>GPRA</td>\n",
       "      <td>2435</td>\n",
       "    </tr>\n",
       "    <tr>\n",
       "      <th>373450</th>\n",
       "      <td>2021-12-30</td>\n",
       "      <td>190.00</td>\n",
       "      <td>190.00</td>\n",
       "      <td>182.0</td>\n",
       "      <td>183.0</td>\n",
       "      <td>561400</td>\n",
       "      <td>GWSA</td>\n",
       "      <td>2435</td>\n",
       "    </tr>\n",
       "    <tr>\n",
       "      <th>373467</th>\n",
       "      <td>2021-12-30</td>\n",
       "      <td>530.00</td>\n",
       "      <td>535.00</td>\n",
       "      <td>505.0</td>\n",
       "      <td>510.0</td>\n",
       "      <td>4814600</td>\n",
       "      <td>FITT</td>\n",
       "      <td>2435</td>\n",
       "    </tr>\n",
       "    <tr>\n",
       "      <th>373481</th>\n",
       "      <td>2021-12-30</td>\n",
       "      <td>785.00</td>\n",
       "      <td>795.00</td>\n",
       "      <td>760.0</td>\n",
       "      <td>780.0</td>\n",
       "      <td>65400</td>\n",
       "      <td>GGRP</td>\n",
       "      <td>2435</td>\n",
       "    </tr>\n",
       "    <tr>\n",
       "      <th>373487</th>\n",
       "      <td>2021-12-30</td>\n",
       "      <td>410.00</td>\n",
       "      <td>414.00</td>\n",
       "      <td>410.0</td>\n",
       "      <td>414.0</td>\n",
       "      <td>196600</td>\n",
       "      <td>ZONE</td>\n",
       "      <td>2435</td>\n",
       "    </tr>\n",
       "  </tbody>\n",
       "</table>\n",
       "<p>50200 rows × 8 columns</p>\n",
       "</div>"
      ],
      "text/plain": [
       "             date     open     high     low   close   volume   tic   day\n",
       "19139  2019-12-10  1390.00  1445.00  1390.0  1425.0    50000  PANS  1934\n",
       "19140  2019-12-10  1000.00  1000.00   980.0   995.0   229100  PBID  1934\n",
       "19141  2019-12-10   437.89   462.02   424.1   424.1    20157  PBRX  1934\n",
       "19148  2019-12-10  4310.00  4310.00  3580.0  3580.0   602800  PICO  1934\n",
       "19149  2019-12-10   955.00   960.00   955.0   955.0    49200  PJAA  1934\n",
       "...           ...      ...      ...     ...     ...      ...   ...   ...\n",
       "373446 2021-12-30    89.00    89.00    87.0    87.0  3064300  GPRA  2435\n",
       "373450 2021-12-30   190.00   190.00   182.0   183.0   561400  GWSA  2435\n",
       "373467 2021-12-30   530.00   535.00   505.0   510.0  4814600  FITT  2435\n",
       "373481 2021-12-30   785.00   795.00   760.0   780.0    65400  GGRP  2435\n",
       "373487 2021-12-30   410.00   414.00   410.0   414.0   196600  ZONE  2435\n",
       "\n",
       "[50200 rows x 8 columns]"
      ]
     },
     "execution_count": 3,
     "metadata": {},
     "output_type": "execute_result"
    }
   ],
   "source": [
    "# Step 1: Count rows where 'volume' is 0 for each 'tic'\n",
    "volume_zero_count = raw_df[raw_df['volume'] == 0].groupby('tic').size()\n",
    "\n",
    "# Step 2: Sort the counts in descending order\n",
    "sorted_volume_zero_count = volume_zero_count.sort_values(ascending=True)\n",
    "\n",
    "# Step 3: Get 100 tickers with the least amount of days where its 'volume' is 0\n",
    "top_n_tic = sorted_volume_zero_count.head(100)\n",
    "tickers = top_n_tic.index.tolist()\n",
    "df = raw_df[raw_df[\"tic\"].isin(tickers)]\n",
    "df"
   ]
  },
  {
   "cell_type": "code",
   "execution_count": 4,
   "id": "8ac09fc3-8e90-468a-9fe3-c133cc81c121",
   "metadata": {},
   "outputs": [
    {
     "data": {
      "text/plain": [
       "538"
      ]
     },
     "execution_count": 4,
     "metadata": {},
     "output_type": "execute_result"
    }
   ],
   "source": [
    "len(sorted_volume_zero_count)"
   ]
  },
  {
   "cell_type": "code",
   "execution_count": 28,
   "id": "d34859d7-d118-4bed-b42a-c9cb7125a836",
   "metadata": {},
   "outputs": [],
   "source": [
    "# volume_zero_count_one = sorted_volume_zero_count[sorted_volume_zero_count == 1]\n",
    "# len(volume_zero_count_one)"
   ]
  },
  {
   "cell_type": "code",
   "execution_count": 29,
   "id": "42330cd0-f315-440d-bde0-3f7452d48f90",
   "metadata": {},
   "outputs": [],
   "source": [
    "# volume_zero_count_one_two = sorted_volume_zero_count[sorted_volume_zero_count <= 10]\n",
    "# len(volume_zero_count_one_two)"
   ]
  },
  {
   "cell_type": "code",
   "execution_count": 6,
   "id": "05386ae0-9353-4d62-82c6-a995673f8a6f",
   "metadata": {},
   "outputs": [
    {
     "name": "stdout",
     "output_type": "stream",
     "text": [
      "            date     open     high      low    close  volume   tic  day\n",
      "0     2019-12-10  1390.00  1445.00  1390.00  1425.00   50000  PANS    1\n",
      "1     2019-12-10   272.02   272.02   267.03   269.53  338995  ARTO    1\n",
      "2     2019-12-10    50.00    50.00    50.00    50.00   36700  BAPI    1\n",
      "3     2019-12-10   117.05   117.05   117.05   117.05    1837  BEKS    1\n",
      "4     2019-12-10    64.00    69.00    64.00    67.00  380000  BCIP    1\n",
      "...          ...      ...      ...      ...      ...     ...   ...  ...\n",
      "50195 2021-12-30   990.00   990.00   970.00   970.00   15800  MFMI  502\n",
      "50196 2021-12-30  7600.00  8000.00  7600.00  7800.00   76900  MLBI  502\n",
      "50197 2021-12-30  2480.00  2480.00  2480.00  2480.00       0  MSIN  502\n",
      "50198 2021-12-30   222.00   222.00   218.00   220.00   91500  TOTO  502\n",
      "50199 2021-12-30   410.00   414.00   410.00   414.00  196600  ZONE  502\n",
      "\n",
      "[50200 rows x 8 columns]\n"
     ]
    },
    {
     "name": "stderr",
     "output_type": "stream",
     "text": [
      "/tmp/ipykernel_3130679/2033473014.py:1: SettingWithCopyWarning: \n",
      "A value is trying to be set on a copy of a slice from a DataFrame.\n",
      "Try using .loc[row_indexer,col_indexer] = value instead\n",
      "\n",
      "See the caveats in the documentation: https://pandas.pydata.org/pandas-docs/stable/user_guide/indexing.html#returning-a-view-versus-a-copy\n",
      "  df['date'] = pd.to_datetime(df['date'])\n"
     ]
    }
   ],
   "source": [
    "df['date'] = pd.to_datetime(df['date'])\n",
    "\n",
    "# Sort the DataFrame by 'date' to ensure chronological order\n",
    "df = df.sort_values('date').reset_index(drop=True)\n",
    "\n",
    "# Create a mapping of unique dates to sequential numbers starting from 1\n",
    "date_mapping = {date: i+1 for i, date in enumerate(df['date'].unique())}\n",
    "\n",
    "# Map the 'date' column to the new 'day' values\n",
    "df['day'] = df['date'].map(date_mapping)\n",
    "\n",
    "# Display the first few rows to verify\n",
    "print(df)"
   ]
  },
  {
   "cell_type": "code",
   "execution_count": 10,
   "id": "3c9eaa58-d4e8-474c-8649-edf6b6128817",
   "metadata": {},
   "outputs": [],
   "source": [
    "from finrl.meta.env_portfolio_optimization.env_portfolio_optimization import PortfolioOptimizationEnv\n",
    "df_portfolio_train = df[df[\"day\"] < 442]\n",
    "df_portfolio_test = df[df[\"day\"] >= 442]\n",
    "TIME_WINDOW = 6\n",
    "\n",
    "environment_train = PortfolioOptimizationEnv(\n",
    "        df_portfolio_train,\n",
    "        initial_amount=100000,\n",
    "        comission_fee_pct=0.0025,\n",
    "        time_window=TIME_WINDOW,\n",
    "        features=[\"close\", \"high\", \"low\"],\n",
    "        time_column=\"day\",\n",
    "        normalize_df=None, # dataframe is already normalized\n",
    "        tics_in_portfolio=tickers\n",
    "    )\n",
    "environment_test = PortfolioOptimizationEnv(\n",
    "        df_portfolio_test,\n",
    "        initial_amount=100000,\n",
    "        comission_fee_pct=0.0025,\n",
    "        time_window=TIME_WINDOW,\n",
    "        features=[\"close\", \"high\", \"low\"],\n",
    "        time_column=\"day\",\n",
    "        normalize_df=None, # dataframe is already normalized\n",
    "        tics_in_portfolio=tickers\n",
    "    )"
   ]
  },
  {
   "cell_type": "code",
   "execution_count": 26,
   "id": "77e60d2e-57e2-495c-9076-e2e65f46e437",
   "metadata": {},
   "outputs": [
    {
     "data": {
      "text/html": [
       "<div>\n",
       "<style scoped>\n",
       "    .dataframe tbody tr th:only-of-type {\n",
       "        vertical-align: middle;\n",
       "    }\n",
       "\n",
       "    .dataframe tbody tr th {\n",
       "        vertical-align: top;\n",
       "    }\n",
       "\n",
       "    .dataframe thead th {\n",
       "        text-align: right;\n",
       "    }\n",
       "</style>\n",
       "<table border=\"1\" class=\"dataframe\">\n",
       "  <thead>\n",
       "    <tr style=\"text-align: right;\">\n",
       "      <th></th>\n",
       "      <th>date</th>\n",
       "      <th>open</th>\n",
       "      <th>high</th>\n",
       "      <th>low</th>\n",
       "      <th>close</th>\n",
       "      <th>volume</th>\n",
       "      <th>tic</th>\n",
       "      <th>day</th>\n",
       "    </tr>\n",
       "  </thead>\n",
       "  <tbody>\n",
       "    <tr>\n",
       "      <th>0</th>\n",
       "      <td>2019-12-10</td>\n",
       "      <td>1390.00</td>\n",
       "      <td>1445.00</td>\n",
       "      <td>1390.00</td>\n",
       "      <td>1425.00</td>\n",
       "      <td>50000</td>\n",
       "      <td>PANS</td>\n",
       "      <td>1</td>\n",
       "    </tr>\n",
       "    <tr>\n",
       "      <th>1</th>\n",
       "      <td>2019-12-10</td>\n",
       "      <td>272.02</td>\n",
       "      <td>272.02</td>\n",
       "      <td>267.03</td>\n",
       "      <td>269.53</td>\n",
       "      <td>338995</td>\n",
       "      <td>ARTO</td>\n",
       "      <td>1</td>\n",
       "    </tr>\n",
       "    <tr>\n",
       "      <th>2</th>\n",
       "      <td>2019-12-10</td>\n",
       "      <td>50.00</td>\n",
       "      <td>50.00</td>\n",
       "      <td>50.00</td>\n",
       "      <td>50.00</td>\n",
       "      <td>36700</td>\n",
       "      <td>BAPI</td>\n",
       "      <td>1</td>\n",
       "    </tr>\n",
       "    <tr>\n",
       "      <th>3</th>\n",
       "      <td>2019-12-10</td>\n",
       "      <td>117.05</td>\n",
       "      <td>117.05</td>\n",
       "      <td>117.05</td>\n",
       "      <td>117.05</td>\n",
       "      <td>1837</td>\n",
       "      <td>BEKS</td>\n",
       "      <td>1</td>\n",
       "    </tr>\n",
       "    <tr>\n",
       "      <th>4</th>\n",
       "      <td>2019-12-10</td>\n",
       "      <td>64.00</td>\n",
       "      <td>69.00</td>\n",
       "      <td>64.00</td>\n",
       "      <td>67.00</td>\n",
       "      <td>380000</td>\n",
       "      <td>BCIP</td>\n",
       "      <td>1</td>\n",
       "    </tr>\n",
       "    <tr>\n",
       "      <th>...</th>\n",
       "      <td>...</td>\n",
       "      <td>...</td>\n",
       "      <td>...</td>\n",
       "      <td>...</td>\n",
       "      <td>...</td>\n",
       "      <td>...</td>\n",
       "      <td>...</td>\n",
       "      <td>...</td>\n",
       "    </tr>\n",
       "    <tr>\n",
       "      <th>44095</th>\n",
       "      <td>2021-10-05</td>\n",
       "      <td>50.00</td>\n",
       "      <td>50.00</td>\n",
       "      <td>50.00</td>\n",
       "      <td>50.00</td>\n",
       "      <td>15300</td>\n",
       "      <td>TOPS</td>\n",
       "      <td>441</td>\n",
       "    </tr>\n",
       "    <tr>\n",
       "      <th>44096</th>\n",
       "      <td>2021-10-05</td>\n",
       "      <td>7900.00</td>\n",
       "      <td>8400.00</td>\n",
       "      <td>7850.00</td>\n",
       "      <td>8000.00</td>\n",
       "      <td>87100</td>\n",
       "      <td>MLBI</td>\n",
       "      <td>441</td>\n",
       "    </tr>\n",
       "    <tr>\n",
       "      <th>44097</th>\n",
       "      <td>2021-10-05</td>\n",
       "      <td>368.00</td>\n",
       "      <td>368.00</td>\n",
       "      <td>344.00</td>\n",
       "      <td>346.00</td>\n",
       "      <td>1279400</td>\n",
       "      <td>MICE</td>\n",
       "      <td>441</td>\n",
       "    </tr>\n",
       "    <tr>\n",
       "      <th>44098</th>\n",
       "      <td>2021-10-05</td>\n",
       "      <td>895.00</td>\n",
       "      <td>920.00</td>\n",
       "      <td>870.00</td>\n",
       "      <td>920.00</td>\n",
       "      <td>49700</td>\n",
       "      <td>MFMI</td>\n",
       "      <td>441</td>\n",
       "    </tr>\n",
       "    <tr>\n",
       "      <th>44099</th>\n",
       "      <td>2021-10-05</td>\n",
       "      <td>153.53</td>\n",
       "      <td>161.70</td>\n",
       "      <td>151.90</td>\n",
       "      <td>159.25</td>\n",
       "      <td>31073413</td>\n",
       "      <td>YELO</td>\n",
       "      <td>441</td>\n",
       "    </tr>\n",
       "  </tbody>\n",
       "</table>\n",
       "<p>44100 rows × 8 columns</p>\n",
       "</div>"
      ],
      "text/plain": [
       "            date     open     high      low    close    volume   tic  day\n",
       "0     2019-12-10  1390.00  1445.00  1390.00  1425.00     50000  PANS    1\n",
       "1     2019-12-10   272.02   272.02   267.03   269.53    338995  ARTO    1\n",
       "2     2019-12-10    50.00    50.00    50.00    50.00     36700  BAPI    1\n",
       "3     2019-12-10   117.05   117.05   117.05   117.05      1837  BEKS    1\n",
       "4     2019-12-10    64.00    69.00    64.00    67.00    380000  BCIP    1\n",
       "...          ...      ...      ...      ...      ...       ...   ...  ...\n",
       "44095 2021-10-05    50.00    50.00    50.00    50.00     15300  TOPS  441\n",
       "44096 2021-10-05  7900.00  8400.00  7850.00  8000.00     87100  MLBI  441\n",
       "44097 2021-10-05   368.00   368.00   344.00   346.00   1279400  MICE  441\n",
       "44098 2021-10-05   895.00   920.00   870.00   920.00     49700  MFMI  441\n",
       "44099 2021-10-05   153.53   161.70   151.90   159.25  31073413  YELO  441\n",
       "\n",
       "[44100 rows x 8 columns]"
      ]
     },
     "execution_count": 26,
     "metadata": {},
     "output_type": "execute_result"
    }
   ],
   "source": [
    "df_portfolio_test"
   ]
  },
  {
   "cell_type": "code",
   "execution_count": 39,
   "id": "5f0b2f5c-00b5-4d3d-8f52-eef235ea4b60",
   "metadata": {},
   "outputs": [
    {
     "data": {
      "text/plain": [
       "'cuda:0'"
      ]
     },
     "execution_count": 39,
     "metadata": {},
     "output_type": "execute_result"
    }
   ],
   "source": [
    "import torch\n",
    "device = 'cuda:0' if torch.cuda.is_available() else 'cpu'\n",
    "device"
   ]
  },
  {
   "cell_type": "code",
   "execution_count": 40,
   "id": "c06d7c16-5985-4e2a-a98d-9d6e6e469bad",
   "metadata": {},
   "outputs": [],
   "source": [
    "from finrl.agents.portfolio_optimization.architectures import EIIE, EI3"
   ]
  },
  {
   "cell_type": "code",
   "execution_count": 41,
   "id": "7a333a95-426f-4292-a67b-8bc15c292dad",
   "metadata": {},
   "outputs": [],
   "source": [
    "from finrl.agents.portfolio_optimization.models import DRLAgent\n",
    "model_kwargs = {\n",
    "    \"lr\": 0.001,\n",
    "    \"policy\": EIIE,\n",
    "}\n",
    "policy_kwargs = {\n",
    "    \"initial_features\": 3,\n",
    "    \"k_size\": 3,\n",
    "    \"conv_mid_features\": 2,\n",
    "    \"conv_final_features\": 20,\n",
    "    \"time_window\": 6\n",
    "}\n",
    "\n",
    "model = DRLAgent(environment_train).get_model(\"pg\", device, model_kwargs, policy_kwargs)"
   ]
  },
  {
   "cell_type": "code",
   "execution_count": 14,
   "id": "dfc48d0d-6ea7-4485-835e-14750e80c584",
   "metadata": {},
   "outputs": [
    {
     "name": "stderr",
     "output_type": "stream",
     "text": [
      "  0%|                                                                                                                                                     | 0/2 [00:00<?, ?it/s]"
     ]
    },
    {
     "name": "stdout",
     "output_type": "stream",
     "text": [
      "=================================\n",
      "Initial portfolio value:100000\n",
      "Final portfolio value: 418576.375\n",
      "Final accumulative portfolio value: 4.18576375\n",
      "Maximum DrawDown: -0.3018599524377992\n",
      "Sharpe ratio: 2.964020317009187\n",
      "=================================\n"
     ]
    },
    {
     "name": "stderr",
     "output_type": "stream",
     "text": [
      "findfont: Font family 'Arial' not found.\n",
      "findfont: Font family 'Arial' not found.\n",
      "findfont: Font family 'Arial' not found.\n",
      "findfont: Font family 'Arial' not found.\n",
      "findfont: Font family 'Arial' not found.\n",
      "findfont: Font family 'Arial' not found.\n",
      "findfont: Font family 'Arial' not found.\n",
      "findfont: Font family 'Arial' not found.\n",
      "findfont: Font family 'Arial' not found.\n",
      "findfont: Font family 'Arial' not found.\n",
      "findfont: Font family 'Arial' not found.\n",
      "findfont: Font family 'Arial' not found.\n",
      "findfont: Font family 'Arial' not found.\n",
      "findfont: Font family 'Arial' not found.\n",
      " 50%|██████████████████████████████████████████████████████████████████████▌                                                                      | 1/2 [00:50<00:50, 50.09s/it]"
     ]
    },
    {
     "name": "stdout",
     "output_type": "stream",
     "text": [
      "=================================\n",
      "Initial portfolio value:100000\n",
      "Final portfolio value: 2456800.25\n",
      "Final accumulative portfolio value: 24.5680025\n",
      "Maximum DrawDown: -0.37948977662379124\n",
      "Sharpe ratio: 3.190434600956097\n",
      "=================================\n"
     ]
    },
    {
     "name": "stderr",
     "output_type": "stream",
     "text": [
      "findfont: Font family 'Arial' not found.\n",
      "findfont: Font family 'Arial' not found.\n",
      "findfont: Font family 'Arial' not found.\n",
      "findfont: Font family 'Arial' not found.\n",
      "findfont: Font family 'Arial' not found.\n",
      "findfont: Font family 'Arial' not found.\n",
      "findfont: Font family 'Arial' not found.\n",
      "findfont: Font family 'Arial' not found.\n",
      "findfont: Font family 'Arial' not found.\n",
      "findfont: Font family 'Arial' not found.\n",
      "findfont: Font family 'Arial' not found.\n",
      "findfont: Font family 'Arial' not found.\n",
      "findfont: Font family 'Arial' not found.\n",
      "findfont: Font family 'Arial' not found.\n",
      "100%|█████████████████████████████████████████████████████████████████████████████████████████████████████████████████████████████████████████████| 2/2 [01:39<00:00, 49.65s/it]\n"
     ]
    },
    {
     "data": {
      "text/plain": [
       "<finrl.agents.portfolio_optimization.algorithms.PolicyGradient at 0x7aa75067b9a0>"
      ]
     },
     "execution_count": 14,
     "metadata": {},
     "output_type": "execute_result"
    }
   ],
   "source": [
    "DRLAgent.train_model(model, episodes=100)"
   ]
  },
  {
   "cell_type": "code",
   "execution_count": 17,
   "id": "080143ea-7701-49f9-bf6c-17c6dab39229",
   "metadata": {},
   "outputs": [],
   "source": [
    "import os\n",
    "d = \"trained_models/eiie\"\n",
    "os.makedirs(d, exist_ok=True)\n",
    "model_path = f\"{d}/policy_EIIE.pt\"\n",
    "torch.save(model.train_policy.state_dict(), model_path)"
   ]
  },
  {
   "cell_type": "code",
   "execution_count": 37,
   "id": "38b2221a-d3d5-4789-b530-e9be2cabe27c",
   "metadata": {},
   "outputs": [
    {
     "name": "stderr",
     "output_type": "stream",
     "text": [
      "/tmp/ipykernel_3130679/2279313485.py:9: FutureWarning: You are using `torch.load` with `weights_only=False` (the current default value), which uses the default pickle module implicitly. It is possible to construct malicious pickle data which will execute arbitrary code during unpickling (See https://github.com/pytorch/pytorch/blob/main/SECURITY.md#untrusted-models for more details). In a future release, the default value for `weights_only` will be flipped to `True`. This limits the functions that could be executed during unpickling. Arbitrary objects will no longer be allowed to be loaded via this mode unless they are explicitly allowlisted by the user via `torch.serialization.add_safe_globals`. We recommend you start setting `weights_only=True` for any use case where you don't have full control of the loaded file. Please open an issue on GitHub for any issues related to this experimental feature.\n",
      "  policy.load_state_dict(torch.load(model_path))\n",
      "findfont: Font family 'Arial' not found.\n",
      "findfont: Font family 'Arial' not found.\n"
     ]
    },
    {
     "name": "stdout",
     "output_type": "stream",
     "text": [
      "=================================\n",
      "Initial portfolio value:100000\n",
      "Final portfolio value: 142222.125\n",
      "Final accumulative portfolio value: 1.42222125\n",
      "Maximum DrawDown: -0.18366673755339058\n",
      "Sharpe ratio: 2.8612204234653014\n",
      "=================================\n"
     ]
    },
    {
     "name": "stderr",
     "output_type": "stream",
     "text": [
      "findfont: Font family 'Arial' not found.\n",
      "findfont: Font family 'Arial' not found.\n",
      "findfont: Font family 'Arial' not found.\n",
      "findfont: Font family 'Arial' not found.\n",
      "findfont: Font family 'Arial' not found.\n",
      "findfont: Font family 'Arial' not found.\n",
      "findfont: Font family 'Arial' not found.\n",
      "findfont: Font family 'Arial' not found.\n",
      "findfont: Font family 'Arial' not found.\n",
      "findfont: Font family 'Arial' not found.\n",
      "findfont: Font family 'Arial' not found.\n",
      "findfont: Font family 'Arial' not found.\n"
     ]
    }
   ],
   "source": [
    "EIIE_results = {\n",
    "    \"train\": environment_train._asset_memory[\"final\"],\n",
    "    \"test\": {},\n",
    "}\n",
    "\n",
    "# instantiate an architecture with the same arguments used in training\n",
    "# and load with load_state_dict.\n",
    "policy = EIIE(**policy_kwargs)\n",
    "policy.load_state_dict(torch.load(model_path))\n",
    "\n",
    "# testing\n",
    "DRLAgent.DRL_validation(model, environment_test, policy=policy)\n",
    "EIIE_results[\"test\"] = environment_test._asset_memory[\"final\"]"
   ]
  },
  {
   "cell_type": "code",
   "execution_count": 38,
   "id": "7b0533fb-bfa5-4cd0-bd4b-8bb22c1fb4e5",
   "metadata": {},
   "outputs": [
    {
     "name": "stderr",
     "output_type": "stream",
     "text": [
      "/tmp/ipykernel_3130679/2279313485.py:9: FutureWarning: You are using `torch.load` with `weights_only=False` (the current default value), which uses the default pickle module implicitly. It is possible to construct malicious pickle data which will execute arbitrary code during unpickling (See https://github.com/pytorch/pytorch/blob/main/SECURITY.md#untrusted-models for more details). In a future release, the default value for `weights_only` will be flipped to `True`. This limits the functions that could be executed during unpickling. Arbitrary objects will no longer be allowed to be loaded via this mode unless they are explicitly allowlisted by the user via `torch.serialization.add_safe_globals`. We recommend you start setting `weights_only=True` for any use case where you don't have full control of the loaded file. Please open an issue on GitHub for any issues related to this experimental feature.\n",
      "  policy.load_state_dict(torch.load(model_path))\n",
      "findfont: Font family 'Arial' not found.\n",
      "findfont: Font family 'Arial' not found.\n"
     ]
    },
    {
     "name": "stdout",
     "output_type": "stream",
     "text": [
      "=================================\n",
      "Initial portfolio value:100000\n",
      "Final portfolio value: 142222.125\n",
      "Final accumulative portfolio value: 1.42222125\n",
      "Maximum DrawDown: -0.18366673755339058\n",
      "Sharpe ratio: 2.8612204234653014\n",
      "=================================\n"
     ]
    },
    {
     "name": "stderr",
     "output_type": "stream",
     "text": [
      "findfont: Font family 'Arial' not found.\n",
      "findfont: Font family 'Arial' not found.\n",
      "findfont: Font family 'Arial' not found.\n",
      "findfont: Font family 'Arial' not found.\n",
      "findfont: Font family 'Arial' not found.\n",
      "findfont: Font family 'Arial' not found.\n",
      "findfont: Font family 'Arial' not found.\n",
      "findfont: Font family 'Arial' not found.\n",
      "findfont: Font family 'Arial' not found.\n",
      "findfont: Font family 'Arial' not found.\n",
      "findfont: Font family 'Arial' not found.\n",
      "findfont: Font family 'Arial' not found.\n"
     ]
    }
   ],
   "source": [
    "EIIE_results = {\n",
    "    \"train\": environment_train._asset_memory[\"final\"],\n",
    "    \"test\": {},\n",
    "}\n",
    "\n",
    "# instantiate an architecture with the same arguments used in training\n",
    "# and load with load_state_dict.\n",
    "policy = EIIE(**policy_kwargs)\n",
    "policy.load_state_dict(torch.load(model_path))\n",
    "\n",
    "# testing\n",
    "DRLAgent.DRL_validation(model, environment_test, policy=policy)\n",
    "EIIE_results[\"test\"] = environment_test._asset_memory[\"final\"]"
   ]
  },
  {
   "cell_type": "code",
   "execution_count": 22,
   "id": "10784216-670c-4884-92b9-68bc42196939",
   "metadata": {},
   "outputs": [
    {
     "name": "stdout",
     "output_type": "stream",
     "text": [
      "=================================\n",
      "Initial portfolio value:100000\n",
      "Final portfolio value: 185469.5625\n",
      "Final accumulative portfolio value: 1.854695625\n",
      "Maximum DrawDown: -0.3335524949134868\n",
      "Sharpe ratio: 2.1807030124573705\n",
      "=================================\n"
     ]
    },
    {
     "name": "stderr",
     "output_type": "stream",
     "text": [
      "findfont: Font family 'Arial' not found.\n",
      "findfont: Font family 'Arial' not found.\n",
      "findfont: Font family 'Arial' not found.\n",
      "findfont: Font family 'Arial' not found.\n",
      "findfont: Font family 'Arial' not found.\n",
      "findfont: Font family 'Arial' not found.\n",
      "findfont: Font family 'Arial' not found.\n",
      "findfont: Font family 'Arial' not found.\n",
      "findfont: Font family 'Arial' not found.\n",
      "findfont: Font family 'Arial' not found.\n",
      "findfont: Font family 'Arial' not found.\n",
      "findfont: Font family 'Arial' not found.\n",
      "findfont: Font family 'Arial' not found.\n",
      "findfont: Font family 'Arial' not found.\n",
      "findfont: Font family 'Arial' not found.\n"
     ]
    },
    {
     "name": "stdout",
     "output_type": "stream",
     "text": [
      "=================================\n",
      "Initial portfolio value:100000\n",
      "Final portfolio value: 112216.703125\n",
      "Final accumulative portfolio value: 1.12216703125\n",
      "Maximum DrawDown: -0.02415972951068457\n",
      "Sharpe ratio: 4.917103071190845\n",
      "=================================\n"
     ]
    },
    {
     "name": "stderr",
     "output_type": "stream",
     "text": [
      "findfont: Font family 'Arial' not found.\n",
      "findfont: Font family 'Arial' not found.\n",
      "findfont: Font family 'Arial' not found.\n",
      "findfont: Font family 'Arial' not found.\n",
      "findfont: Font family 'Arial' not found.\n",
      "findfont: Font family 'Arial' not found.\n",
      "findfont: Font family 'Arial' not found.\n",
      "findfont: Font family 'Arial' not found.\n",
      "findfont: Font family 'Arial' not found.\n",
      "findfont: Font family 'Arial' not found.\n",
      "findfont: Font family 'Arial' not found.\n",
      "findfont: Font family 'Arial' not found.\n",
      "findfont: Font family 'Arial' not found.\n"
     ]
    }
   ],
   "source": [
    "UBAH_results = {\n",
    "    \"train\": {},\n",
    "    \"test\": {},\n",
    "}\n",
    "\n",
    "PORTFOLIO_SIZE = len(tickers)\n",
    "\n",
    "# train period\n",
    "terminated = False\n",
    "environment_train.reset()\n",
    "while not terminated:\n",
    "    action = [0] + [1/PORTFOLIO_SIZE] * PORTFOLIO_SIZE\n",
    "    _, _, terminated, _ = environment_train.step(action)\n",
    "UBAH_results[\"train\"] = environment_train._asset_memory[\"final\"]\n",
    "\n",
    "# test period\n",
    "terminated = False\n",
    "environment_test.reset()\n",
    "while not terminated:\n",
    "    action = [0] + [1/PORTFOLIO_SIZE] * PORTFOLIO_SIZE\n",
    "    _, _, terminated, _ = environment_test.step(action)\n",
    "UBAH_results[\"test\"] = environment_test._asset_memory[\"final\"]"
   ]
  },
  {
   "cell_type": "code",
   "execution_count": 35,
   "id": "411878f0-84b2-4fb9-a9f1-49ccecf4d3a6",
   "metadata": {},
   "outputs": [
    {
     "data": {
      "image/png": "[encoded data removed]",
      "text/plain": [
       "<Figure size 1000x600 with 1 Axes>"
      ]
     },
     "metadata": {},
     "output_type": "display_data"
    }
   ],
   "source": [
    "import matplotlib.pyplot as plt\n",
    "%matplotlib inline \n",
    "\n",
    "plt.plot(UBAH_results[\"test\"], label=\"Buy and Hold\")\n",
    "plt.plot(EIIE_results[\"test\"], label=\"EIIE\")\n",
    "\n",
    "plt.xlabel(\"Days\")\n",
    "plt.ylabel(\"Portfolio Value\")\n",
    "plt.title(\"Performance in testing period\")\n",
    "plt.legend()\n",
    "\n",
    "plt.show()"
   ]
  },
  {
   "cell_type": "code",
   "execution_count": 11,
   "id": "7b3abf8c-be24-4a9b-8b22-061cbff59967",
   "metadata": {},
   "outputs": [
    {
     "name": "stdout",
     "output_type": "stream",
     "text": [
      "BEFORE CLEAN:             date     open     high      low    close  volume   tic  day\n",
      "0     2019-12-10  1390.00  1445.00  1390.00  1425.00   50000  PANS    1\n",
      "1     2019-12-10   272.02   272.02   267.03   269.53  338995  ARTO    1\n",
      "2     2019-12-10    50.00    50.00    50.00    50.00   36700  BAPI    1\n",
      "3     2019-12-10   117.05   117.05   117.05   117.05    1837  BEKS    1\n",
      "4     2019-12-10    64.00    69.00    64.00    67.00  380000  BCIP    1\n",
      "...          ...      ...      ...      ...      ...     ...   ...  ...\n",
      "50195 2021-12-30   990.00   990.00   970.00   970.00   15800  MFMI  502\n",
      "50196 2021-12-30  7600.00  8000.00  7600.00  7800.00   76900  MLBI  502\n",
      "50197 2021-12-30  2480.00  2480.00  2480.00  2480.00       0  MSIN  502\n",
      "50198 2021-12-30   222.00   222.00   218.00   220.00   91500  TOTO  502\n",
      "50199 2021-12-30   410.00   414.00   410.00   414.00  196600  ZONE  502\n",
      "\n",
      "[50200 rows x 8 columns]\n",
      "\n",
      "AFTER CLEAN:           date    open    high     low   close     volume   tic  day\n",
      "0   2019-12-10  1025.0  1045.0  1025.0  1040.0      16400  ADES    1\n",
      "0   2019-12-10  1265.0  1275.0  1215.0  1230.0   10488900  ADHI    1\n",
      "0   2019-12-10   168.0   174.0   168.0   169.0    1533600  AGRO    1\n",
      "0   2019-12-10    50.0    59.0    50.0    58.0     491000  AHAP    1\n",
      "0   2019-12-10  1390.0  1415.0  1360.0  1365.0     754400  AKSI    1\n",
      "..         ...     ...     ...     ...     ...        ...   ...  ...\n",
      "501 2021-12-30    62.0    69.0    58.0    60.0  540238000  WOWS  502\n",
      "501 2021-12-30   112.0   121.0   110.0   114.0   61218500  WSBP  502\n",
      "501 2021-12-30   534.0   534.0   530.0   530.0      17500  XIIT  502\n",
      "501 2021-12-30   118.0   153.0   118.0   135.0  583554500  YELO  502\n",
      "501 2021-12-30   410.0   414.0   410.0   414.0     196600  ZONE  502\n",
      "\n",
      "[50200 rows x 8 columns]\n",
      "\n",
      "macd\n"
     ]
    },
    {
     "name": "stderr",
     "output_type": "stream",
     "text": [
      "100%|█████████████████████████████████████████████████████████████████████████████████████████████████████████████████████████████████████████| 100/100 [00:01<00:00, 72.10it/s]\n"
     ]
    },
    {
     "name": "stdout",
     "output_type": "stream",
     "text": [
      "\n",
      "boll_ub\n"
     ]
    },
    {
     "name": "stderr",
     "output_type": "stream",
     "text": [
      "100%|█████████████████████████████████████████████████████████████████████████████████████████████████████████████████████████████████████████| 100/100 [00:01<00:00, 72.20it/s]\n"
     ]
    },
    {
     "name": "stdout",
     "output_type": "stream",
     "text": [
      "\n",
      "boll_lb\n"
     ]
    },
    {
     "name": "stderr",
     "output_type": "stream",
     "text": [
      "100%|█████████████████████████████████████████████████████████████████████████████████████████████████████████████████████████████████████████| 100/100 [00:01<00:00, 72.35it/s]\n"
     ]
    },
    {
     "name": "stdout",
     "output_type": "stream",
     "text": [
      "\n",
      "rsi_30\n"
     ]
    },
    {
     "name": "stderr",
     "output_type": "stream",
     "text": [
      "100%|█████████████████████████████████████████████████████████████████████████████████████████████████████████████████████████████████████████| 100/100 [00:01<00:00, 69.57it/s]\n"
     ]
    },
    {
     "name": "stdout",
     "output_type": "stream",
     "text": [
      "\n",
      "cci_30\n"
     ]
    },
    {
     "name": "stderr",
     "output_type": "stream",
     "text": [
      "100%|█████████████████████████████████████████████████████████████████████████████████████████████████████████████████████████████████████████| 100/100 [00:15<00:00,  6.42it/s]\n"
     ]
    },
    {
     "name": "stdout",
     "output_type": "stream",
     "text": [
      "\n",
      "dx_30\n"
     ]
    },
    {
     "name": "stderr",
     "output_type": "stream",
     "text": [
      "100%|█████████████████████████████████████████████████████████████████████████████████████████████████████████████████████████████████████████| 100/100 [00:02<00:00, 45.14it/s]\n"
     ]
    },
    {
     "name": "stdout",
     "output_type": "stream",
     "text": [
      "\n",
      "close_30_sma\n"
     ]
    },
    {
     "name": "stderr",
     "output_type": "stream",
     "text": [
      "100%|█████████████████████████████████████████████████████████████████████████████████████████████████████████████████████████████████████████| 100/100 [00:01<00:00, 78.00it/s]\n"
     ]
    },
    {
     "name": "stdout",
     "output_type": "stream",
     "text": [
      "\n",
      "close_60_sma\n"
     ]
    },
    {
     "name": "stderr",
     "output_type": "stream",
     "text": [
      "100%|█████████████████████████████████████████████████████████████████████████████████████████████████████████████████████████████████████████| 100/100 [00:01<00:00, 78.14it/s]\n"
     ]
    },
    {
     "name": "stdout",
     "output_type": "stream",
     "text": [
      "Successfully added technical indicators\n",
      "Successfully added turbulence index\n"
     ]
    }
   ],
   "source": [
    "from finrl.meta.preprocessor.preprocessors import FeatureEngineer\n",
    "from finrl.config import INDICATORS\n",
    "import numpy as np\n",
    "fe = FeatureEngineer(use_technical_indicator=True,\n",
    "                     tech_indicator_list = INDICATORS,\n",
    "                     use_turbulence=True,\n",
    "                     user_defined_feature = False)\n",
    "\n",
    "processed = fe.preprocess_data(df)\n",
    "processed = processed.copy()\n",
    "processed = processed.fillna(0)\n",
    "processed = processed.replace(np.inf,0)"
   ]
  },
  {
   "cell_type": "code",
   "execution_count": 13,
   "id": "7e90f957-6e13-4970-99f4-e20d95a5af78",
   "metadata": {},
   "outputs": [],
   "source": [
    "# import os\n",
    "# d = \"tuntun_processed_data\"\n",
    "# os.makedirs(d, exist_ok=True)\n",
    "# processed.to_csv(f\"{d}/tic_100_indicator_8_2020-2021.csv\")"
   ]
  },
  {
   "cell_type": "code",
   "execution_count": null,
   "id": "c7d647f8-96ef-4b79-8579-d57e2d9b77a7",
   "metadata": {},
   "outputs": [],
   "source": []
  },
  {
   "cell_type": "code",
   "execution_count": null,
   "id": "f4b17642-a2b0-49de-9c1d-14280c17a48c",
   "metadata": {},
   "outputs": [],
   "source": []
  }
 ],
 "metadata": {
  "kernelspec": {
   "display_name": "Python 3 (ipykernel)",
   "language": "python",
   "name": "python3"
  },
  "language_info": {
   "codemirror_mode": {
    "name": "ipython",
    "version": 3
   },
   "file_extension": ".py",
   "mimetype": "text/x-python",
   "name": "python",
   "nbconvert_exporter": "python",
   "pygments_lexer": "ipython3",
   "version": "3.10.5"
  }
 },
 "nbformat": 4,
 "nbformat_minor": 5
}
