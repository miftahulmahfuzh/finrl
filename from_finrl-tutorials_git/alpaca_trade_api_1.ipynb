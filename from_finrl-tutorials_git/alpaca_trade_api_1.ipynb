{
 "cells": [
  {
   "cell_type": "code",
   "execution_count": 1,
   "id": "e3d0fabb-ed47-4001-ba16-fe11c9863856",
   "metadata": {},
   "outputs": [],
   "source": [
    "import alpaca_trade_api as tradeapi"
   ]
  },
  {
   "cell_type": "code",
   "execution_count": 2,
   "id": "88f9032b-8916-48dc-b4f1-c68ac9d2b777",
   "metadata": {},
   "outputs": [],
   "source": [
    "API_KEY = \"PKSCD25SIIWWGDU6MA2S\"\n",
    "API_SECRET = \"cm90rIwfwi6kggGJiV7aeviac05wuKeKCLijifEt\"\n",
    "API_BASE_URL = 'https://paper-api.alpaca.markets'\n",
    "data_url = 'wss://data.alpaca.markets'"
   ]
  },
  {
   "cell_type": "code",
   "execution_count": 3,
   "id": "27102465-d674-479c-a857-ea416026f9ce",
   "metadata": {},
   "outputs": [],
   "source": [
    "alpaca = tradeapi.REST(API_KEY, API_SECRET, API_BASE_URL, 'v2')"
   ]
  },
  {
   "cell_type": "code",
   "execution_count": 4,
   "id": "bddac565-86b4-477b-9d10-33fbfb31944f",
   "metadata": {},
   "outputs": [
    {
     "name": "stderr",
     "output_type": "stream",
     "text": [
      "2024-11-22 09:47:10.363070: I tensorflow/core/util/port.cc:153] oneDNN custom operations are on. You may see slightly different numerical results due to floating-point round-off errors from different computation orders. To turn them off, set the environment variable `TF_ENABLE_ONEDNN_OPTS=0`.\n",
      "2024-11-22 09:47:10.384961: E external/local_xla/xla/stream_executor/cuda/cuda_fft.cc:477] Unable to register cuFFT factory: Attempting to register factory for plugin cuFFT when one has already been registered\n",
      "WARNING: All log messages before absl::InitializeLog() is called are written to STDERR\n",
      "E0000 00:00:1732243630.408273  510854 cuda_dnn.cc:8310] Unable to register cuDNN factory: Attempting to register factory for plugin cuDNN when one has already been registered\n",
      "E0000 00:00:1732243630.415519  510854 cuda_blas.cc:1418] Unable to register cuBLAS factory: Attempting to register factory for plugin cuBLAS when one has already been registered\n",
      "2024-11-22 09:47:10.445962: I tensorflow/core/platform/cpu_feature_guard.cc:210] This TensorFlow binary is optimized to use available CPU instructions in performance-critical operations.\n",
      "To enable the following instructions: AVX2 AVX512F AVX512_VNNI FMA, in other operations, rebuild TensorFlow with the appropriate compiler flags.\n"
     ]
    }
   ],
   "source": [
    "from finrl.config_tickers import DOW_30_TICKER"
   ]
  },
  {
   "cell_type": "code",
   "execution_count": 5,
   "id": "c93425b9-7b06-4be9-b9a2-31020fc14c4c",
   "metadata": {},
   "outputs": [],
   "source": [
    "from finrl.config import INDICATORS"
   ]
  },
  {
   "cell_type": "code",
   "execution_count": 6,
   "id": "33379c71-5fae-4ac9-a908-0617d5d1e18f",
   "metadata": {},
   "outputs": [
    {
     "data": {
      "text/plain": [
       "['macd',\n",
       " 'boll_ub',\n",
       " 'boll_lb',\n",
       " 'rsi_30',\n",
       " 'cci_30',\n",
       " 'dx_30',\n",
       " 'close_30_sma',\n",
       " 'close_60_sma']"
      ]
     },
     "execution_count": 6,
     "metadata": {},
     "output_type": "execute_result"
    }
   ],
   "source": [
    "INDICATORS"
   ]
  },
  {
   "cell_type": "code",
   "execution_count": 7,
   "id": "1215478e-5401-4e66-92b0-f3b139310310",
   "metadata": {},
   "outputs": [],
   "source": [
    "import numpy as np"
   ]
  },
  {
   "cell_type": "code",
   "execution_count": 8,
   "id": "29d4a6fd-f4f0-4e7a-97ae-a56ff0c88a25",
   "metadata": {},
   "outputs": [],
   "source": [
    "ticker_list = DOW_30_TICKER"
   ]
  },
  {
   "cell_type": "code",
   "execution_count": 9,
   "id": "3c00a1e9-19da-4d37-8b91-271c15bb876e",
   "metadata": {},
   "outputs": [],
   "source": [
    "stocks = np.asarray([0] * len(ticker_list))"
   ]
  },
  {
   "cell_type": "code",
   "execution_count": 10,
   "id": "ec92f5f1-d342-4c95-b3bb-42655c57ecd4",
   "metadata": {},
   "outputs": [
    {
     "data": {
      "text/plain": [
       "array([0, 0, 0, 0, 0, 0, 0, 0, 0, 0, 0, 0, 0, 0, 0, 0, 0, 0, 0, 0, 0, 0,\n",
       "       0, 0, 0, 0, 0, 0, 0, 0])"
      ]
     },
     "execution_count": 10,
     "metadata": {},
     "output_type": "execute_result"
    }
   ],
   "source": [
    "stocks"
   ]
  },
  {
   "cell_type": "code",
   "execution_count": 11,
   "id": "f9ee72d4-2d90-4c7c-b4a5-fbd450cf1ca4",
   "metadata": {},
   "outputs": [],
   "source": [
    "import pandas as pd"
   ]
  },
  {
   "cell_type": "code",
   "execution_count": 12,
   "id": "4f0c193f-6c14-4016-a496-bc59de13fed0",
   "metadata": {},
   "outputs": [],
   "source": [
    "stocks_df = pd.DataFrame(stocks, columns=['stocks'], index=ticker_list)"
   ]
  },
  {
   "cell_type": "code",
   "execution_count": 13,
   "id": "21865a9a-d4f2-45ca-98bf-611a83921f08",
   "metadata": {},
   "outputs": [
    {
     "data": {
      "text/html": [
       "<div>\n",
       "<style scoped>\n",
       "    .dataframe tbody tr th:only-of-type {\n",
       "        vertical-align: middle;\n",
       "    }\n",
       "\n",
       "    .dataframe tbody tr th {\n",
       "        vertical-align: top;\n",
       "    }\n",
       "\n",
       "    .dataframe thead th {\n",
       "        text-align: right;\n",
       "    }\n",
       "</style>\n",
       "<table border=\"1\" class=\"dataframe\">\n",
       "  <thead>\n",
       "    <tr style=\"text-align: right;\">\n",
       "      <th></th>\n",
       "      <th>stocks</th>\n",
       "    </tr>\n",
       "  </thead>\n",
       "  <tbody>\n",
       "    <tr>\n",
       "      <th>AXP</th>\n",
       "      <td>0</td>\n",
       "    </tr>\n",
       "    <tr>\n",
       "      <th>AMGN</th>\n",
       "      <td>0</td>\n",
       "    </tr>\n",
       "    <tr>\n",
       "      <th>AAPL</th>\n",
       "      <td>0</td>\n",
       "    </tr>\n",
       "    <tr>\n",
       "      <th>BA</th>\n",
       "      <td>0</td>\n",
       "    </tr>\n",
       "    <tr>\n",
       "      <th>CAT</th>\n",
       "      <td>0</td>\n",
       "    </tr>\n",
       "    <tr>\n",
       "      <th>CSCO</th>\n",
       "      <td>0</td>\n",
       "    </tr>\n",
       "    <tr>\n",
       "      <th>CVX</th>\n",
       "      <td>0</td>\n",
       "    </tr>\n",
       "    <tr>\n",
       "      <th>GS</th>\n",
       "      <td>0</td>\n",
       "    </tr>\n",
       "    <tr>\n",
       "      <th>HD</th>\n",
       "      <td>0</td>\n",
       "    </tr>\n",
       "    <tr>\n",
       "      <th>HON</th>\n",
       "      <td>0</td>\n",
       "    </tr>\n",
       "    <tr>\n",
       "      <th>IBM</th>\n",
       "      <td>0</td>\n",
       "    </tr>\n",
       "    <tr>\n",
       "      <th>INTC</th>\n",
       "      <td>0</td>\n",
       "    </tr>\n",
       "    <tr>\n",
       "      <th>JNJ</th>\n",
       "      <td>0</td>\n",
       "    </tr>\n",
       "    <tr>\n",
       "      <th>KO</th>\n",
       "      <td>0</td>\n",
       "    </tr>\n",
       "    <tr>\n",
       "      <th>JPM</th>\n",
       "      <td>0</td>\n",
       "    </tr>\n",
       "    <tr>\n",
       "      <th>MCD</th>\n",
       "      <td>0</td>\n",
       "    </tr>\n",
       "    <tr>\n",
       "      <th>MMM</th>\n",
       "      <td>0</td>\n",
       "    </tr>\n",
       "    <tr>\n",
       "      <th>MRK</th>\n",
       "      <td>0</td>\n",
       "    </tr>\n",
       "    <tr>\n",
       "      <th>MSFT</th>\n",
       "      <td>0</td>\n",
       "    </tr>\n",
       "    <tr>\n",
       "      <th>NKE</th>\n",
       "      <td>0</td>\n",
       "    </tr>\n",
       "    <tr>\n",
       "      <th>PG</th>\n",
       "      <td>0</td>\n",
       "    </tr>\n",
       "    <tr>\n",
       "      <th>TRV</th>\n",
       "      <td>0</td>\n",
       "    </tr>\n",
       "    <tr>\n",
       "      <th>UNH</th>\n",
       "      <td>0</td>\n",
       "    </tr>\n",
       "    <tr>\n",
       "      <th>CRM</th>\n",
       "      <td>0</td>\n",
       "    </tr>\n",
       "    <tr>\n",
       "      <th>VZ</th>\n",
       "      <td>0</td>\n",
       "    </tr>\n",
       "    <tr>\n",
       "      <th>V</th>\n",
       "      <td>0</td>\n",
       "    </tr>\n",
       "    <tr>\n",
       "      <th>WBA</th>\n",
       "      <td>0</td>\n",
       "    </tr>\n",
       "    <tr>\n",
       "      <th>WMT</th>\n",
       "      <td>0</td>\n",
       "    </tr>\n",
       "    <tr>\n",
       "      <th>DIS</th>\n",
       "      <td>0</td>\n",
       "    </tr>\n",
       "    <tr>\n",
       "      <th>DOW</th>\n",
       "      <td>0</td>\n",
       "    </tr>\n",
       "  </tbody>\n",
       "</table>\n",
       "</div>"
      ],
      "text/plain": [
       "      stocks\n",
       "AXP        0\n",
       "AMGN       0\n",
       "AAPL       0\n",
       "BA         0\n",
       "CAT        0\n",
       "CSCO       0\n",
       "CVX        0\n",
       "GS         0\n",
       "HD         0\n",
       "HON        0\n",
       "IBM        0\n",
       "INTC       0\n",
       "JNJ        0\n",
       "KO         0\n",
       "JPM        0\n",
       "MCD        0\n",
       "MMM        0\n",
       "MRK        0\n",
       "MSFT       0\n",
       "NKE        0\n",
       "PG         0\n",
       "TRV        0\n",
       "UNH        0\n",
       "CRM        0\n",
       "VZ         0\n",
       "V          0\n",
       "WBA        0\n",
       "WMT        0\n",
       "DIS        0\n",
       "DOW        0"
      ]
     },
     "execution_count": 13,
     "metadata": {},
     "output_type": "execute_result"
    }
   ],
   "source": [
    "stocks_df"
   ]
  },
  {
   "cell_type": "code",
   "execution_count": 14,
   "id": "f6051cf2-e186-4325-b329-9c85a881a188",
   "metadata": {},
   "outputs": [
    {
     "data": {
      "text/plain": [
       "'100000'"
      ]
     },
     "execution_count": 14,
     "metadata": {},
     "output_type": "execute_result"
    }
   ],
   "source": [
    "alpaca.get_account().last_equity"
   ]
  },
  {
   "cell_type": "code",
   "execution_count": 15,
   "id": "4f6343b6-c209-4181-9f6f-1eb735dba4c0",
   "metadata": {},
   "outputs": [
    {
     "data": {
      "text/plain": [
       "'100000'"
      ]
     },
     "execution_count": 15,
     "metadata": {},
     "output_type": "execute_result"
    }
   ],
   "source": [
    "alpaca.get_account().cash"
   ]
  },
  {
   "cell_type": "code",
   "execution_count": 16,
   "id": "7e05dfa6-6337-474e-af23-5b052c258474",
   "metadata": {},
   "outputs": [
    {
     "data": {
      "text/plain": [
       "[]"
      ]
     },
     "execution_count": 16,
     "metadata": {},
     "output_type": "execute_result"
    }
   ],
   "source": [
    "alpaca.list_positions()"
   ]
  },
  {
   "cell_type": "code",
   "execution_count": 17,
   "id": "29016c35-247a-4fdd-b33a-f983bc3b8c6f",
   "metadata": {},
   "outputs": [
    {
     "data": {
      "text/plain": [
       "[]"
      ]
     },
     "execution_count": 17,
     "metadata": {},
     "output_type": "execute_result"
    }
   ],
   "source": [
    "alpaca.list_orders(status=\"open\")"
   ]
  },
  {
   "cell_type": "code",
   "execution_count": 18,
   "id": "75d6ff1f-c69f-46c1-8657-19fb4988d155",
   "metadata": {},
   "outputs": [
    {
     "data": {
      "text/plain": [
       "[]"
      ]
     },
     "execution_count": 18,
     "metadata": {},
     "output_type": "execute_result"
    }
   ],
   "source": [
    "alpaca.list_orders()"
   ]
  },
  {
   "cell_type": "code",
   "execution_count": 19,
   "id": "46d52b7f-2a0f-490a-a581-792448119dcc",
   "metadata": {},
   "outputs": [
    {
     "data": {
      "text/plain": [
       "False"
      ]
     },
     "execution_count": 19,
     "metadata": {},
     "output_type": "execute_result"
    }
   ],
   "source": [
    "alpaca.get_clock().is_open"
   ]
  },
  {
   "cell_type": "code",
   "execution_count": 21,
   "id": "dfd72dcb-52b4-4288-a886-0d76953a1468",
   "metadata": {},
   "outputs": [
    {
     "data": {
      "text/plain": [
       "Clock({   'is_open': False,\n",
       "    'next_close': '2024-11-22T16:00:00-05:00',\n",
       "    'next_open': '2024-11-22T09:30:00-05:00',\n",
       "    'timestamp': '2024-11-21T21:47:39.313034494-05:00'})"
      ]
     },
     "execution_count": 21,
     "metadata": {},
     "output_type": "execute_result"
    }
   ],
   "source": [
    "alpaca.get_clock()"
   ]
  },
  {
   "cell_type": "code",
   "execution_count": 29,
   "id": "d2717186-7e06-4dca-b9db-4a7cdef54d21",
   "metadata": {},
   "outputs": [],
   "source": [
    "import datetime"
   ]
  },
  {
   "cell_type": "code",
   "execution_count": 30,
   "id": "a61176d7-9a1d-4984-9b90-bbd2d949b5ef",
   "metadata": {},
   "outputs": [],
   "source": [
    "openingTime = clock.next_open.replace(tzinfo=datetime.timezone.utc).timestamp()"
   ]
  },
  {
   "cell_type": "code",
   "execution_count": 31,
   "id": "21a5a98f-0f5e-4db6-b964-88821f6b1fa0",
   "metadata": {},
   "outputs": [
    {
     "data": {
      "text/plain": [
       "1732181400.0"
      ]
     },
     "execution_count": 31,
     "metadata": {},
     "output_type": "execute_result"
    }
   ],
   "source": [
    "openingTime"
   ]
  },
  {
   "cell_type": "code",
   "execution_count": 33,
   "id": "c3b70e00-a1c0-4f48-8dd6-6caacbee7422",
   "metadata": {},
   "outputs": [],
   "source": [
    "from datetime import timezone, datetime\n",
    "from zoneinfo import ZoneInfo\n",
    "\n",
    "# Get the clock object from Alpaca\n",
    "clock = alpaca.get_clock()\n",
    "\n",
    "# Convert next_close and current timestamp to Jakarta time (WIB)\n",
    "jakarta_tz = ZoneInfo(\"Asia/Jakarta\")\n",
    "closingTime = clock.next_close.replace(tzinfo=timezone.utc).astimezone(jakarta_tz).timestamp()\n",
    "currTime = clock.timestamp.replace(tzinfo=timezone.utc).astimezone(jakarta_tz).timestamp()\n",
    "\n",
    "# Calculate time to close\n",
    "timeToClose = closingTime - currTime"
   ]
  },
  {
   "cell_type": "code",
   "execution_count": 35,
   "id": "93c37b2a-dc84-4a4f-8282-4848071c79aa",
   "metadata": {},
   "outputs": [
    {
     "data": {
      "text/plain": [
       "46569.84979009628"
      ]
     },
     "execution_count": 35,
     "metadata": {},
     "output_type": "execute_result"
    }
   ],
   "source": [
    "timeToClose"
   ]
  },
  {
   "cell_type": "code",
   "execution_count": null,
   "id": "272e8edb-dc2b-4c8e-a124-70f8992b4d8e",
   "metadata": {},
   "outputs": [],
   "source": []
  }
 ],
 "metadata": {
  "kernelspec": {
   "display_name": "Python 3 (ipykernel)",
   "language": "python",
   "name": "python3"
  },
  "language_info": {
   "codemirror_mode": {
    "name": "ipython",
    "version": 3
   },
   "file_extension": ".py",
   "mimetype": "text/x-python",
   "name": "python",
   "nbconvert_exporter": "python",
   "pygments_lexer": "ipython3",
   "version": "3.10.5"
  }
 },
 "nbformat": 4,
 "nbformat_minor": 5
}
