{
 "cells": [
  {
   "cell_type": "code",
   "execution_count": 1,
   "id": "a23c4f24-999d-4958-8eb7-8b90cf9dd4dd",
   "metadata": {},
   "outputs": [],
   "source": [
    "# TAKEN FROM : https://github.com/AI4Finance-Foundation/FinRL/blob/master/examples/FinRL_GPM_Demo.ipynb"
   ]
  },
  {
   "cell_type": "code",
   "execution_count": null,
   "id": "392b3ecb-5edc-48d1-813a-d4893619f675",
   "metadata": {},
   "outputs": [],
   "source": [
    "!pip install quantstats"
   ]
  },
  {
   "cell_type": "code",
   "execution_count": null,
   "id": "601077fc-91d7-438c-8adf-e3c7e876e309",
   "metadata": {},
   "outputs": [],
   "source": [
    "!pip install torch-geometric"
   ]
  },
  {
   "cell_type": "code",
   "execution_count": null,
   "id": "f918673c-0be9-4a48-9323-042e56179b32",
   "metadata": {},
   "outputs": [],
   "source": [
    "!pip install gym"
   ]
  },
  {
   "cell_type": "code",
   "execution_count": 3,
   "id": "2ab51ede-a3d3-4b15-89eb-19f26948448a",
   "metadata": {},
   "outputs": [],
   "source": [
    "import logging\n",
    "logging.getLogger('matplotlib.font_manager').disabled = True"
   ]
  },
  {
   "cell_type": "code",
   "execution_count": 4,
   "id": "bfbbd483-70ff-4ec5-a53f-172126260423",
   "metadata": {},
   "outputs": [
    {
     "name": "stderr",
     "output_type": "stream",
     "text": [
      "2024-12-03 13:03:43.954845: I tensorflow/core/util/port.cc:153] oneDNN custom operations are on. You may see slightly different numerical results due to floating-point round-off errors from different computation orders. To turn them off, set the environment variable `TF_ENABLE_ONEDNN_OPTS=0`.\n",
      "2024-12-03 13:03:43.978100: E external/local_xla/xla/stream_executor/cuda/cuda_fft.cc:477] Unable to register cuFFT factory: Attempting to register factory for plugin cuFFT when one has already been registered\n",
      "WARNING: All log messages before absl::InitializeLog() is called are written to STDERR\n",
      "E0000 00:00:1733205824.002345  622064 cuda_dnn.cc:8310] Unable to register cuDNN factory: Attempting to register factory for plugin cuDNN when one has already been registered\n",
      "E0000 00:00:1733205824.009969  622064 cuda_blas.cc:1418] Unable to register cuBLAS factory: Attempting to register factory for plugin cuBLAS when one has already been registered\n",
      "2024-12-03 13:03:44.042329: I tensorflow/core/platform/cpu_feature_guard.cc:210] This TensorFlow binary is optimized to use available CPU instructions in performance-critical operations.\n",
      "To enable the following instructions: AVX2 AVX512F AVX512_VNNI FMA, in other operations, rebuild TensorFlow with the appropriate compiler flags.\n"
     ]
    }
   ],
   "source": [
    "import torch\n",
    "\n",
    "import numpy as np\n",
    "import pandas as pd\n",
    "\n",
    "from torch_geometric.utils import k_hop_subgraph\n",
    "\n",
    "from finrl.meta.preprocessor.yahoodownloader import YahooDownloader\n",
    "from finrl.meta.env_portfolio_optimization.env_portfolio_optimization import PortfolioOptimizationEnv\n",
    "from finrl.agents.portfolio_optimization.models import DRLAgent\n",
    "from finrl.agents.portfolio_optimization.architectures import GPM\n",
    "\n",
    "device = 'cuda:0' if torch.cuda.is_available() else 'cpu'"
   ]
  },
  {
   "cell_type": "code",
   "execution_count": null,
   "id": "02af9c46-6f1f-4a41-bd96-8b6c32a948d6",
   "metadata": {},
   "outputs": [],
   "source": [
    "!curl -L -O https://github.com/C4i0kun/Temporal_Relational_Stock_Ranking_FinRL/archive/refs/heads/main.zip\n",
    "# !unzip Temporal_Relational_Stock_Ranking_FinRL-main.zip"
   ]
  },
  {
   "cell_type": "code",
   "execution_count": 12,
   "id": "94028854-e516-4e5f-af55-b1af9ace8805",
   "metadata": {
    "scrolled": true
   },
   "outputs": [
    {
     "name": "stdout",
     "output_type": "stream",
     "text": [
      "Archive:  main.zip\n",
      "b0a94b8166432fd6440899e8111aaef24f5cff62\n",
      "   creating: Temporal_Relational_Stock_Ranking_FinRL-main/\n",
      " extracting: Temporal_Relational_Stock_Ranking_FinRL-main/.gitignore  \n",
      "  inflating: Temporal_Relational_Stock_Ranking_FinRL-main/LICENSE  \n",
      "  inflating: Temporal_Relational_Stock_Ranking_FinRL-main/README.md  \n",
      "   creating: Temporal_Relational_Stock_Ranking_FinRL-main/relational_data/\n",
      "   creating: Temporal_Relational_Stock_Ranking_FinRL-main/relational_data/edge_indexes/\n",
      "  inflating: Temporal_Relational_Stock_Ranking_FinRL-main/relational_data/edge_indexes/NASDAQ_sector_industry_edge_index.npy  \n",
      "  inflating: Temporal_Relational_Stock_Ranking_FinRL-main/relational_data/edge_indexes/NASDAQ_wikidata_edge_index.npy  \n",
      "  inflating: Temporal_Relational_Stock_Ranking_FinRL-main/relational_data/edge_indexes/NYSE_sector_industry_edge_index.npy  \n",
      "  inflating: Temporal_Relational_Stock_Ranking_FinRL-main/relational_data/edge_indexes/NYSE_wikidata_edge_index.npy  \n",
      "   creating: Temporal_Relational_Stock_Ranking_FinRL-main/relational_data/edge_types/\n",
      "  inflating: Temporal_Relational_Stock_Ranking_FinRL-main/relational_data/edge_types/NASDAQ_sector_industry_edge_type.npy  \n",
      "  inflating: Temporal_Relational_Stock_Ranking_FinRL-main/relational_data/edge_types/NASDAQ_wikidata_edge_type.npy  \n",
      "  inflating: Temporal_Relational_Stock_Ranking_FinRL-main/relational_data/edge_types/NYSE_sector_industry_edge_type.npy  \n",
      "  inflating: Temporal_Relational_Stock_Ranking_FinRL-main/relational_data/edge_types/NYSE_wikidata_edge_type.npy  \n",
      "   creating: Temporal_Relational_Stock_Ranking_FinRL-main/relational_data/gephi_visualizations/\n",
      "  inflating: Temporal_Relational_Stock_Ranking_FinRL-main/relational_data/gephi_visualizations/NASDAQ_sector_industry.gexf  \n",
      "  inflating: Temporal_Relational_Stock_Ranking_FinRL-main/relational_data/gephi_visualizations/NASDAQ_wikidata.gexf  \n",
      "  inflating: Temporal_Relational_Stock_Ranking_FinRL-main/relational_data/gephi_visualizations/NYSE_sector_industry.gexf  \n",
      "  inflating: Temporal_Relational_Stock_Ranking_FinRL-main/relational_data/gephi_visualizations/NYSE_wikidata.gexf  \n",
      "  inflating: Temporal_Relational_Stock_Ranking_FinRL-main/requirements.txt  \n",
      "   creating: Temporal_Relational_Stock_Ranking_FinRL-main/scripts/\n",
      "  inflating: Temporal_Relational_Stock_Ranking_FinRL-main/scripts/generate_sector_industry_data.ipynb  \n",
      "  inflating: Temporal_Relational_Stock_Ranking_FinRL-main/scripts/generate_temporal_data.ipynb  \n",
      "  inflating: Temporal_Relational_Stock_Ranking_FinRL-main/scripts/generate_wikidata_data.ipynb  \n",
      "   creating: Temporal_Relational_Stock_Ranking_FinRL-main/temporal_data/\n",
      " extracting: Temporal_Relational_Stock_Ranking_FinRL-main/temporal_data/temporal_data_processed.tar.gz  \n",
      " extracting: Temporal_Relational_Stock_Ranking_FinRL-main/temporal_data/temporal_data_raw.tar.gz  \n",
      "NASDAQ_temporal_data.csv\n",
      "NYSE_temporal_data.csv\n"
     ]
    }
   ],
   "source": [
    "!unzip main.zip\n",
    "!mv Temporal_Relational_Stock_Ranking_FinRL-main Temporal_Relational_Stock_Ranking_FinRL\n",
    "!tar -xzvf Temporal_Relational_Stock_Ranking_FinRL/temporal_data/temporal_data_processed.tar.gz -C Temporal_Relational_Stock_Ranking_FinRL/temporal_data"
   ]
  },
  {
   "cell_type": "code",
   "execution_count": 5,
   "id": "c7d13af4-48da-4a06-9fc6-5b7d5a88cd66",
   "metadata": {},
   "outputs": [
    {
     "data": {
      "text/html": [
       "<div>\n",
       "<style scoped>\n",
       "    .dataframe tbody tr th:only-of-type {\n",
       "        vertical-align: middle;\n",
       "    }\n",
       "\n",
       "    .dataframe tbody tr th {\n",
       "        vertical-align: top;\n",
       "    }\n",
       "\n",
       "    .dataframe thead th {\n",
       "        text-align: right;\n",
       "    }\n",
       "</style>\n",
       "<table border=\"1\" class=\"dataframe\">\n",
       "  <thead>\n",
       "    <tr style=\"text-align: right;\">\n",
       "      <th></th>\n",
       "      <th>day</th>\n",
       "      <th>open</th>\n",
       "      <th>high</th>\n",
       "      <th>low</th>\n",
       "      <th>close</th>\n",
       "      <th>volume</th>\n",
       "      <th>tic</th>\n",
       "    </tr>\n",
       "  </thead>\n",
       "  <tbody>\n",
       "    <tr>\n",
       "      <th>0</th>\n",
       "      <td>0</td>\n",
       "      <td>0.270533</td>\n",
       "      <td>0.269522</td>\n",
       "      <td>0.267237</td>\n",
       "      <td>0.263333</td>\n",
       "      <td>0.275333</td>\n",
       "      <td>AABA</td>\n",
       "    </tr>\n",
       "    <tr>\n",
       "      <th>1</th>\n",
       "      <td>0</td>\n",
       "      <td>0.238730</td>\n",
       "      <td>0.237522</td>\n",
       "      <td>0.239888</td>\n",
       "      <td>0.240502</td>\n",
       "      <td>0.248031</td>\n",
       "      <td>AAON</td>\n",
       "    </tr>\n",
       "    <tr>\n",
       "      <th>2</th>\n",
       "      <td>0</td>\n",
       "      <td>0.424556</td>\n",
       "      <td>0.424768</td>\n",
       "      <td>0.429769</td>\n",
       "      <td>0.442628</td>\n",
       "      <td>0.445018</td>\n",
       "      <td>AAPL</td>\n",
       "    </tr>\n",
       "    <tr>\n",
       "      <th>3</th>\n",
       "      <td>0</td>\n",
       "      <td>0.650667</td>\n",
       "      <td>0.648412</td>\n",
       "      <td>0.634492</td>\n",
       "      <td>0.631473</td>\n",
       "      <td>0.667839</td>\n",
       "      <td>AAWW</td>\n",
       "    </tr>\n",
       "    <tr>\n",
       "      <th>4</th>\n",
       "      <td>0</td>\n",
       "      <td>0.766565</td>\n",
       "      <td>0.761693</td>\n",
       "      <td>0.759330</td>\n",
       "      <td>0.750061</td>\n",
       "      <td>0.788157</td>\n",
       "      <td>AAXJ</td>\n",
       "    </tr>\n",
       "    <tr>\n",
       "      <th>...</th>\n",
       "      <td>...</td>\n",
       "      <td>...</td>\n",
       "      <td>...</td>\n",
       "      <td>...</td>\n",
       "      <td>...</td>\n",
       "      <td>...</td>\n",
       "      <td>...</td>\n",
       "    </tr>\n",
       "    <tr>\n",
       "      <th>1277365</th>\n",
       "      <td>1244</td>\n",
       "      <td>0.909992</td>\n",
       "      <td>0.918809</td>\n",
       "      <td>0.912345</td>\n",
       "      <td>0.922698</td>\n",
       "      <td>0.913021</td>\n",
       "      <td>ZBRA</td>\n",
       "    </tr>\n",
       "    <tr>\n",
       "      <th>1277366</th>\n",
       "      <td>1244</td>\n",
       "      <td>0.660990</td>\n",
       "      <td>0.648907</td>\n",
       "      <td>0.636086</td>\n",
       "      <td>0.630816</td>\n",
       "      <td>0.665167</td>\n",
       "      <td>ZEUS</td>\n",
       "    </tr>\n",
       "    <tr>\n",
       "      <th>1277367</th>\n",
       "      <td>1244</td>\n",
       "      <td>0.981600</td>\n",
       "      <td>0.961674</td>\n",
       "      <td>0.926768</td>\n",
       "      <td>0.914257</td>\n",
       "      <td>0.984345</td>\n",
       "      <td>ZION</td>\n",
       "    </tr>\n",
       "    <tr>\n",
       "      <th>1277368</th>\n",
       "      <td>1244</td>\n",
       "      <td>0.980227</td>\n",
       "      <td>0.974903</td>\n",
       "      <td>0.960225</td>\n",
       "      <td>0.964956</td>\n",
       "      <td>0.997580</td>\n",
       "      <td>ZIV</td>\n",
       "    </tr>\n",
       "    <tr>\n",
       "      <th>1277369</th>\n",
       "      <td>1244</td>\n",
       "      <td>0.509179</td>\n",
       "      <td>0.500725</td>\n",
       "      <td>0.475543</td>\n",
       "      <td>0.459018</td>\n",
       "      <td>0.512077</td>\n",
       "      <td>ZUMZ</td>\n",
       "    </tr>\n",
       "  </tbody>\n",
       "</table>\n",
       "<p>1277370 rows × 7 columns</p>\n",
       "</div>"
      ],
      "text/plain": [
       "          day      open      high       low     close    volume   tic\n",
       "0           0  0.270533  0.269522  0.267237  0.263333  0.275333  AABA\n",
       "1           0  0.238730  0.237522  0.239888  0.240502  0.248031  AAON\n",
       "2           0  0.424556  0.424768  0.429769  0.442628  0.445018  AAPL\n",
       "3           0  0.650667  0.648412  0.634492  0.631473  0.667839  AAWW\n",
       "4           0  0.766565  0.761693  0.759330  0.750061  0.788157  AAXJ\n",
       "...       ...       ...       ...       ...       ...       ...   ...\n",
       "1277365  1244  0.909992  0.918809  0.912345  0.922698  0.913021  ZBRA\n",
       "1277366  1244  0.660990  0.648907  0.636086  0.630816  0.665167  ZEUS\n",
       "1277367  1244  0.981600  0.961674  0.926768  0.914257  0.984345  ZION\n",
       "1277368  1244  0.980227  0.974903  0.960225  0.964956  0.997580   ZIV\n",
       "1277369  1244  0.509179  0.500725  0.475543  0.459018  0.512077  ZUMZ\n",
       "\n",
       "[1277370 rows x 7 columns]"
      ]
     },
     "execution_count": 5,
     "metadata": {},
     "output_type": "execute_result"
    }
   ],
   "source": [
    "nasdaq_temporal = pd.read_csv(\"Temporal_Relational_Stock_Ranking_FinRL/temporal_data/NASDAQ_temporal_data.csv\")\n",
    "nasdaq_temporal"
   ]
  },
  {
   "cell_type": "code",
   "execution_count": 6,
   "id": "0daf62d3-9c9e-4a13-a06b-38da60e19d78",
   "metadata": {},
   "outputs": [
    {
     "data": {
      "text/plain": [
       "array([[   0,   15,    0, ..., 1021, 1014, 1024],\n",
       "       [  15,    0,   18, ..., 1011, 1024, 1014]])"
      ]
     },
     "execution_count": 6,
     "metadata": {},
     "output_type": "execute_result"
    }
   ],
   "source": [
    "nasdaq_edge_index = np.load(\"Temporal_Relational_Stock_Ranking_FinRL/relational_data/edge_indexes/NASDAQ_sector_industry_edge_index.npy\")\n",
    "nasdaq_edge_index"
   ]
  },
  {
   "cell_type": "code",
   "execution_count": 7,
   "id": "71264dee-e4b5-4168-b3c9-0c04a8671645",
   "metadata": {},
   "outputs": [
    {
     "data": {
      "text/plain": [
       "array([ 0,  0,  0, ...,  1, 26, 26])"
      ]
     },
     "execution_count": 7,
     "metadata": {},
     "output_type": "execute_result"
    }
   ],
   "source": [
    "nasdaq_edge_type = np.load(\"Temporal_Relational_Stock_Ranking_FinRL/relational_data/edge_types/NASDAQ_sector_industry_edge_type.npy\")\n",
    "nasdaq_edge_type"
   ]
  },
  {
   "cell_type": "code",
   "execution_count": 8,
   "id": "417a3ddf-290f-4feb-a6e7-1f6f3f523664",
   "metadata": {},
   "outputs": [
    {
     "data": {
      "text/plain": [
       "[2, 185, 215, 310, 395, 464, 596, 603, 637, 768, 1014]"
      ]
     },
     "execution_count": 8,
     "metadata": {},
     "output_type": "execute_result"
    }
   ],
   "source": [
    "list_of_stocks = nasdaq_temporal[\"tic\"].unique().tolist()\n",
    "tics_in_portfolio = [\"AAPL\", \"CMCSA\", \"CSCO\", \"FB\", \"HBAN\", \"INTC\", \"MSFT\", \"MU\", \"NVDA\", \"QQQ\", \"XIV\"]\n",
    "\n",
    "portfolio_nodes = []\n",
    "for tic in tics_in_portfolio:\n",
    "    portfolio_nodes.append(list_of_stocks.index(tic))\n",
    "portfolio_nodes"
   ]
  },
  {
   "cell_type": "code",
   "execution_count": 9,
   "id": "a4c0a5f5-0a88-4ffa-8229-26c6c9d0dd37",
   "metadata": {},
   "outputs": [],
   "source": [
    "nodes_kept, new_edge_index, nodes_to_select, edge_mask = k_hop_subgraph(\n",
    "    torch.LongTensor(portfolio_nodes),\n",
    "    2,\n",
    "    torch.from_numpy(nasdaq_edge_index),\n",
    "    relabel_nodes=True,\n",
    ")"
   ]
  },
  {
   "cell_type": "code",
   "execution_count": 10,
   "id": "10ab8990-af9d-4a26-a590-e80345c12983",
   "metadata": {},
   "outputs": [
    {
     "data": {
      "text/html": [
       "<div>\n",
       "<style scoped>\n",
       "    .dataframe tbody tr th:only-of-type {\n",
       "        vertical-align: middle;\n",
       "    }\n",
       "\n",
       "    .dataframe tbody tr th {\n",
       "        vertical-align: top;\n",
       "    }\n",
       "\n",
       "    .dataframe thead th {\n",
       "        text-align: right;\n",
       "    }\n",
       "</style>\n",
       "<table border=\"1\" class=\"dataframe\">\n",
       "  <thead>\n",
       "    <tr style=\"text-align: right;\">\n",
       "      <th></th>\n",
       "      <th>day</th>\n",
       "      <th>open</th>\n",
       "      <th>high</th>\n",
       "      <th>low</th>\n",
       "      <th>close</th>\n",
       "      <th>volume</th>\n",
       "      <th>tic</th>\n",
       "    </tr>\n",
       "  </thead>\n",
       "  <tbody>\n",
       "    <tr>\n",
       "      <th>2</th>\n",
       "      <td>0</td>\n",
       "      <td>0.424556</td>\n",
       "      <td>0.424768</td>\n",
       "      <td>0.429769</td>\n",
       "      <td>0.442628</td>\n",
       "      <td>0.445018</td>\n",
       "      <td>AAPL</td>\n",
       "    </tr>\n",
       "    <tr>\n",
       "      <th>4</th>\n",
       "      <td>0</td>\n",
       "      <td>0.766565</td>\n",
       "      <td>0.761693</td>\n",
       "      <td>0.759330</td>\n",
       "      <td>0.750061</td>\n",
       "      <td>0.788157</td>\n",
       "      <td>AAXJ</td>\n",
       "    </tr>\n",
       "    <tr>\n",
       "      <th>7</th>\n",
       "      <td>0</td>\n",
       "      <td>0.244700</td>\n",
       "      <td>0.244212</td>\n",
       "      <td>0.238217</td>\n",
       "      <td>0.231041</td>\n",
       "      <td>0.251322</td>\n",
       "      <td>ABCB</td>\n",
       "    </tr>\n",
       "    <tr>\n",
       "      <th>8</th>\n",
       "      <td>0</td>\n",
       "      <td>0.689403</td>\n",
       "      <td>0.698864</td>\n",
       "      <td>0.695715</td>\n",
       "      <td>0.675068</td>\n",
       "      <td>0.708124</td>\n",
       "      <td>ABCO</td>\n",
       "    </tr>\n",
       "    <tr>\n",
       "      <th>13</th>\n",
       "      <td>0</td>\n",
       "      <td>0.566419</td>\n",
       "      <td>0.564621</td>\n",
       "      <td>0.563147</td>\n",
       "      <td>0.560503</td>\n",
       "      <td>0.579132</td>\n",
       "      <td>ACIW</td>\n",
       "    </tr>\n",
       "    <tr>\n",
       "      <th>...</th>\n",
       "      <td>...</td>\n",
       "      <td>...</td>\n",
       "      <td>...</td>\n",
       "      <td>...</td>\n",
       "      <td>...</td>\n",
       "      <td>...</td>\n",
       "      <td>...</td>\n",
       "    </tr>\n",
       "    <tr>\n",
       "      <th>1277358</th>\n",
       "      <td>1244</td>\n",
       "      <td>0.923544</td>\n",
       "      <td>0.922537</td>\n",
       "      <td>0.896003</td>\n",
       "      <td>0.888519</td>\n",
       "      <td>0.966042</td>\n",
       "      <td>XIV</td>\n",
       "    </tr>\n",
       "    <tr>\n",
       "      <th>1277359</th>\n",
       "      <td>1244</td>\n",
       "      <td>0.919490</td>\n",
       "      <td>0.931946</td>\n",
       "      <td>0.950966</td>\n",
       "      <td>0.960872</td>\n",
       "      <td>0.920000</td>\n",
       "      <td>XLNX</td>\n",
       "    </tr>\n",
       "    <tr>\n",
       "      <th>1277361</th>\n",
       "      <td>1244</td>\n",
       "      <td>0.736906</td>\n",
       "      <td>0.747264</td>\n",
       "      <td>0.744030</td>\n",
       "      <td>0.745198</td>\n",
       "      <td>0.743781</td>\n",
       "      <td>YNDX</td>\n",
       "    </tr>\n",
       "    <tr>\n",
       "      <th>1277367</th>\n",
       "      <td>1244</td>\n",
       "      <td>0.981600</td>\n",
       "      <td>0.961674</td>\n",
       "      <td>0.926768</td>\n",
       "      <td>0.914257</td>\n",
       "      <td>0.984345</td>\n",
       "      <td>ZION</td>\n",
       "    </tr>\n",
       "    <tr>\n",
       "      <th>1277368</th>\n",
       "      <td>1244</td>\n",
       "      <td>0.980227</td>\n",
       "      <td>0.974903</td>\n",
       "      <td>0.960225</td>\n",
       "      <td>0.964956</td>\n",
       "      <td>0.997580</td>\n",
       "      <td>ZIV</td>\n",
       "    </tr>\n",
       "  </tbody>\n",
       "</table>\n",
       "<p>517920 rows × 7 columns</p>\n",
       "</div>"
      ],
      "text/plain": [
       "          day      open      high       low     close    volume   tic\n",
       "2           0  0.424556  0.424768  0.429769  0.442628  0.445018  AAPL\n",
       "4           0  0.766565  0.761693  0.759330  0.750061  0.788157  AAXJ\n",
       "7           0  0.244700  0.244212  0.238217  0.231041  0.251322  ABCB\n",
       "8           0  0.689403  0.698864  0.695715  0.675068  0.708124  ABCO\n",
       "13          0  0.566419  0.564621  0.563147  0.560503  0.579132  ACIW\n",
       "...       ...       ...       ...       ...       ...       ...   ...\n",
       "1277358  1244  0.923544  0.922537  0.896003  0.888519  0.966042   XIV\n",
       "1277359  1244  0.919490  0.931946  0.950966  0.960872  0.920000  XLNX\n",
       "1277361  1244  0.736906  0.747264  0.744030  0.745198  0.743781  YNDX\n",
       "1277367  1244  0.981600  0.961674  0.926768  0.914257  0.984345  ZION\n",
       "1277368  1244  0.980227  0.974903  0.960225  0.964956  0.997580   ZIV\n",
       "\n",
       "[517920 rows x 7 columns]"
      ]
     },
     "execution_count": 10,
     "metadata": {},
     "output_type": "execute_result"
    }
   ],
   "source": [
    "# reduce temporal data\n",
    "nodes_kept = nodes_kept.tolist()\n",
    "nasdaq_temporal[\"tic_id\"], _ = pd.factorize(nasdaq_temporal[\"tic\"], sort=True)\n",
    "nasdaq_temporal = nasdaq_temporal[nasdaq_temporal[\"tic_id\"].isin(nodes_kept)]\n",
    "nasdaq_temporal = nasdaq_temporal.drop(columns=\"tic_id\")\n",
    "nasdaq_temporal"
   ]
  },
  {
   "cell_type": "code",
   "execution_count": 11,
   "id": "8de0a290-9dda-434f-8745-2a9de86421ae",
   "metadata": {},
   "outputs": [
    {
     "data": {
      "text/plain": [
       "tensor([0, 0, 0,  ..., 2, 6, 6])"
      ]
     },
     "execution_count": 11,
     "metadata": {},
     "output_type": "execute_result"
    }
   ],
   "source": [
    "# reduce edge type\n",
    "new_edge_type = torch.from_numpy(nasdaq_edge_type)[edge_mask]\n",
    "_, new_edge_type = torch.unique(new_edge_type, return_inverse=True)\n",
    "new_edge_type"
   ]
  },
  {
   "cell_type": "code",
   "execution_count": 12,
   "id": "461adc22-57da-4c24-b906-280e62b69534",
   "metadata": {},
   "outputs": [],
   "source": [
    "df_portfolio = nasdaq_temporal[[\"day\", \"tic\", \"close\", \"high\", \"low\"]]\n",
    "\n",
    "df_portfolio_train = df_portfolio[df_portfolio[\"day\"] < 979]\n",
    "df_portfolio_test = df_portfolio[df_portfolio[\"day\"] >= 979]\n",
    "\n",
    "environment_train = PortfolioOptimizationEnv(\n",
    "        df_portfolio_train,\n",
    "        initial_amount=100000,\n",
    "        comission_fee_pct=0.0025,\n",
    "        time_window=50,\n",
    "        features=[\"close\", \"high\", \"low\"],\n",
    "        time_column=\"day\",\n",
    "        normalize_df=None, # dataframe is already normalized\n",
    "        tics_in_portfolio=tics_in_portfolio\n",
    "    )\n",
    "\n",
    "environment_test = PortfolioOptimizationEnv(\n",
    "        df_portfolio_test,\n",
    "        initial_amount=100000,\n",
    "        comission_fee_pct=0.0025,\n",
    "        time_window=50,\n",
    "        features=[\"close\", \"high\", \"low\"],\n",
    "        time_column=\"day\",\n",
    "        normalize_df=None, # dataframe is already normalized\n",
    "        tics_in_portfolio=tics_in_portfolio\n",
    "    )"
   ]
  },
  {
   "cell_type": "code",
   "execution_count": 13,
   "id": "f99aba06-1162-4f16-b79d-f4d90293a5c3",
   "metadata": {},
   "outputs": [],
   "source": [
    "model_kwargs = {\n",
    "    \"lr\": 0.01,\n",
    "    \"policy\": GPM,\n",
    "}\n",
    "\n",
    "# here, we can set GPM's parameters\n",
    "policy_kwargs = {\n",
    "    \"edge_index\": new_edge_index,\n",
    "    \"edge_type\": new_edge_type,\n",
    "    \"nodes_to_select\": nodes_to_select\n",
    "}\n",
    "\n",
    "model = DRLAgent(environment_train).get_model(\"pg\", device, model_kwargs, policy_kwargs)"
   ]
  },
  {
   "cell_type": "code",
   "execution_count": 15,
   "id": "d38f3d4d-0c7c-4bbd-872b-8882ce33c110",
   "metadata": {},
   "outputs": [
    {
     "name": "stderr",
     "output_type": "stream",
     "text": [
      "  0%|                                                                                                                                                     | 0/2 [00:02<?, ?it/s]\n"
     ]
    },
    {
     "ename": "ValueError",
     "evalue": "operands could not be broadcast together with shapes (12,) (417,) ",
     "output_type": "error",
     "traceback": [
      "\u001b[0;31m---------------------------------------------------------------------------\u001b[0m",
      "\u001b[0;31mValueError\u001b[0m                                Traceback (most recent call last)",
      "Cell \u001b[0;32mIn[15], line 1\u001b[0m\n\u001b[0;32m----> 1\u001b[0m \u001b[43mDRLAgent\u001b[49m\u001b[38;5;241;43m.\u001b[39;49m\u001b[43mtrain_model\u001b[49m\u001b[43m(\u001b[49m\u001b[43mmodel\u001b[49m\u001b[43m,\u001b[49m\u001b[43m \u001b[49m\u001b[43mepisodes\u001b[49m\u001b[38;5;241;43m=\u001b[39;49m\u001b[38;5;241;43m2\u001b[39;49m\u001b[43m)\u001b[49m\n",
      "File \u001b[0;32m~/.pyenv/versions/3.10.5/envs/finrl/lib/python3.10/site-packages/finrl/agents/portfolio_optimization/models.py:80\u001b[0m, in \u001b[0;36mDRLAgent.train_model\u001b[0;34m(model, episodes)\u001b[0m\n\u001b[1;32m     69\u001b[0m \u001b[38;5;129m@staticmethod\u001b[39m\n\u001b[1;32m     70\u001b[0m \u001b[38;5;28;01mdef\u001b[39;00m \u001b[38;5;21mtrain_model\u001b[39m(model, episodes\u001b[38;5;241m=\u001b[39m\u001b[38;5;241m100\u001b[39m):\n\u001b[1;32m     71\u001b[0m \u001b[38;5;250m    \u001b[39m\u001b[38;5;124;03m\"\"\"Trains portfolio optimization model.\u001b[39;00m\n\u001b[1;32m     72\u001b[0m \n\u001b[1;32m     73\u001b[0m \u001b[38;5;124;03m    Args:\u001b[39;00m\n\u001b[0;32m   (...)\u001b[0m\n\u001b[1;32m     78\u001b[0m \u001b[38;5;124;03m        An instance of the trained model.\u001b[39;00m\n\u001b[1;32m     79\u001b[0m \u001b[38;5;124;03m    \"\"\"\u001b[39;00m\n\u001b[0;32m---> 80\u001b[0m     \u001b[43mmodel\u001b[49m\u001b[38;5;241;43m.\u001b[39;49m\u001b[43mtrain\u001b[49m\u001b[43m(\u001b[49m\u001b[43mepisodes\u001b[49m\u001b[43m)\u001b[49m\n\u001b[1;32m     81\u001b[0m     \u001b[38;5;28;01mreturn\u001b[39;00m model\n",
      "File \u001b[0;32m~/.pyenv/versions/3.10.5/envs/finrl/lib/python3.10/site-packages/finrl/agents/portfolio_optimization/algorithms.py:120\u001b[0m, in \u001b[0;36mPolicyGradient.train\u001b[0;34m(self, episodes)\u001b[0m\n\u001b[1;32m    117\u001b[0m \u001b[38;5;28mself\u001b[39m\u001b[38;5;241m.\u001b[39mtrain_pvm\u001b[38;5;241m.\u001b[39madd(action)\n\u001b[1;32m    119\u001b[0m \u001b[38;5;66;03m# run simulation step\u001b[39;00m\n\u001b[0;32m--> 120\u001b[0m next_obs, reward, done, info \u001b[38;5;241m=\u001b[39m \u001b[38;5;28;43mself\u001b[39;49m\u001b[38;5;241;43m.\u001b[39;49m\u001b[43mtrain_env\u001b[49m\u001b[38;5;241;43m.\u001b[39;49m\u001b[43mstep\u001b[49m\u001b[43m(\u001b[49m\u001b[43maction\u001b[49m\u001b[43m)\u001b[49m\n\u001b[1;32m    122\u001b[0m \u001b[38;5;66;03m# add experience to replay buffer\u001b[39;00m\n\u001b[1;32m    123\u001b[0m exp \u001b[38;5;241m=\u001b[39m (obs, last_action, info[\u001b[38;5;124m\"\u001b[39m\u001b[38;5;124mprice_variation\u001b[39m\u001b[38;5;124m\"\u001b[39m], info[\u001b[38;5;124m\"\u001b[39m\u001b[38;5;124mtrf_mu\u001b[39m\u001b[38;5;124m\"\u001b[39m])\n",
      "File \u001b[0;32m~/.pyenv/versions/3.10.5/envs/finrl/lib/python3.10/site-packages/finrl/meta/env_portfolio_optimization/env_portfolio_optimization.py:340\u001b[0m, in \u001b[0;36mPortfolioOptimizationEnv.step\u001b[0;34m(self, actions)\u001b[0m\n\u001b[1;32m    337\u001b[0m \u001b[38;5;28mself\u001b[39m\u001b[38;5;241m.\u001b[39m_asset_memory[\u001b[38;5;124m\"\u001b[39m\u001b[38;5;124minitial\u001b[39m\u001b[38;5;124m\"\u001b[39m]\u001b[38;5;241m.\u001b[39mappend(\u001b[38;5;28mself\u001b[39m\u001b[38;5;241m.\u001b[39m_portfolio_value)\n\u001b[1;32m    339\u001b[0m \u001b[38;5;66;03m# time passes and time variation changes the portfolio distribution\u001b[39;00m\n\u001b[0;32m--> 340\u001b[0m portfolio \u001b[38;5;241m=\u001b[39m \u001b[38;5;28mself\u001b[39m\u001b[38;5;241m.\u001b[39m_portfolio_value \u001b[38;5;241m*\u001b[39m (\u001b[43mweights\u001b[49m\u001b[43m \u001b[49m\u001b[38;5;241;43m*\u001b[39;49m\u001b[43m \u001b[49m\u001b[38;5;28;43mself\u001b[39;49m\u001b[38;5;241;43m.\u001b[39;49m\u001b[43m_price_variation\u001b[49m)\n\u001b[1;32m    342\u001b[0m \u001b[38;5;66;03m# calculate new portfolio value and weights\u001b[39;00m\n\u001b[1;32m    343\u001b[0m \u001b[38;5;28mself\u001b[39m\u001b[38;5;241m.\u001b[39m_portfolio_value \u001b[38;5;241m=\u001b[39m np\u001b[38;5;241m.\u001b[39msum(portfolio)\n",
      "\u001b[0;31mValueError\u001b[0m: operands could not be broadcast together with shapes (12,) (417,) "
     ]
    }
   ],
   "source": [
    "DRLAgent.train_model(model, episodes=2)"
   ]
  },
  {
   "cell_type": "code",
   "execution_count": 25,
   "id": "a68c5105-1ab2-4f27-8ad7-533c4d647f75",
   "metadata": {},
   "outputs": [],
   "source": [
    "import os\n",
    "os.makedirs(\"trained_models/gpm\", exist_ok=True)"
   ]
  },
  {
   "cell_type": "code",
   "execution_count": 28,
   "id": "6a61e927-fc54-4356-b2a7-7fe3e8ddf555",
   "metadata": {},
   "outputs": [],
   "source": [
    "model_path = \"trained_models/gpm/policy_GPM.pt\"\n",
    "torch.save(model.train_policy.state_dict(), model_path)"
   ]
  },
  {
   "cell_type": "code",
   "execution_count": 29,
   "id": "57ae85b4-d697-4605-be23-4995559cea95",
   "metadata": {},
   "outputs": [
    {
     "name": "stderr",
     "output_type": "stream",
     "text": [
      "/tmp/ipykernel_192805/1315644402.py:9: FutureWarning: You are using `torch.load` with `weights_only=False` (the current default value), which uses the default pickle module implicitly. It is possible to construct malicious pickle data which will execute arbitrary code during unpickling (See https://github.com/pytorch/pytorch/blob/main/SECURITY.md#untrusted-models for more details). In a future release, the default value for `weights_only` will be flipped to `True`. This limits the functions that could be executed during unpickling. Arbitrary objects will no longer be allowed to be loaded via this mode unless they are explicitly allowlisted by the user via `torch.serialization.add_safe_globals`. We recommend you start setting `weights_only=True` for any use case where you don't have full control of the loaded file. Please open an issue on GitHub for any issues related to this experimental feature.\n",
      "  policy.load_state_dict(torch.load(model_path))\n"
     ]
    },
    {
     "name": "stdout",
     "output_type": "stream",
     "text": [
      "=================================\n",
      "Initial portfolio value:100000\n",
      "Final portfolio value: 195532.875\n",
      "Final accumulative portfolio value: 1.95532875\n",
      "Maximum DrawDown: -0.002415319038007957\n",
      "Sharpe ratio: 18.154722805059585\n",
      "=================================\n"
     ]
    }
   ],
   "source": [
    "GPM_results = {\n",
    "    \"train\": environment_train._asset_memory[\"final\"],\n",
    "    \"test\": {},\n",
    "}\n",
    "\n",
    "# instantiate an architecture with the same arguments used in training\n",
    "# and load with load_state_dict.\n",
    "policy = GPM(new_edge_index, new_edge_type, nodes_to_select, device=device)\n",
    "policy.load_state_dict(torch.load(model_path))\n",
    "\n",
    "# testing\n",
    "DRLAgent.DRL_validation(model, environment_test, policy=policy)\n",
    "GPM_results[\"test\"] = environment_test._asset_memory[\"final\"]"
   ]
  },
  {
   "cell_type": "code",
   "execution_count": 30,
   "id": "e9909189-0b5b-4af4-9e59-36cfb64a9717",
   "metadata": {},
   "outputs": [
    {
     "name": "stdout",
     "output_type": "stream",
     "text": [
      "=================================\n",
      "Initial portfolio value:100000\n",
      "Final portfolio value: 210066.515625\n",
      "Final accumulative portfolio value: 2.10066515625\n",
      "Maximum DrawDown: -0.1770357694310173\n",
      "Sharpe ratio: 6.126976338415281\n",
      "=================================\n",
      "=================================\n",
      "Initial portfolio value:100000\n",
      "Final portfolio value: 140385.78125\n",
      "Final accumulative portfolio value: 1.4038578125\n",
      "Maximum DrawDown: -0.001439125798492591\n",
      "Sharpe ratio: 23.930156872458472\n",
      "=================================\n"
     ]
    }
   ],
   "source": [
    "UBAH_results = {\n",
    "    \"train\": {},\n",
    "    \"test\": {},\n",
    "}\n",
    "\n",
    "PORTFOLIO_SIZE = len(tics_in_portfolio)\n",
    "\n",
    "# train period\n",
    "terminated = False\n",
    "environment_train.reset()\n",
    "while not terminated:\n",
    "    action = [0] + [1/PORTFOLIO_SIZE] * PORTFOLIO_SIZE\n",
    "    _, _, terminated, _ = environment_train.step(action)\n",
    "UBAH_results[\"train\"] = environment_train._asset_memory[\"final\"]\n",
    "\n",
    "# test period\n",
    "terminated = False\n",
    "environment_test.reset()\n",
    "while not terminated:\n",
    "    action = [0] + [1/PORTFOLIO_SIZE] * PORTFOLIO_SIZE\n",
    "    _, _, terminated, _ = environment_test.step(action)\n",
    "UBAH_results[\"test\"] = environment_test._asset_memory[\"final\"]"
   ]
  },
  {
   "cell_type": "code",
   "execution_count": 31,
   "id": "0a662a85-ae71-4d64-b0ec-ed23aed1e13d",
   "metadata": {},
   "outputs": [
    {
     "data": {
      "image/png": "[encoded data removed]",
      "text/plain": [
       "<Figure size 1000x600 with 1 Axes>"
      ]
     },
     "metadata": {},
     "output_type": "display_data"
    }
   ],
   "source": [
    "import matplotlib.pyplot as plt\n",
    "%matplotlib inline \n",
    "\n",
    "plt.plot(UBAH_results[\"train\"], label=\"Buy and Hold\")\n",
    "plt.plot(GPM_results[\"train\"], label=\"GPM\")\n",
    "\n",
    "plt.xlabel(\"Days\")\n",
    "plt.ylabel(\"Portfolio Value\")\n",
    "plt.title(\"Performance in training period\")\n",
    "plt.legend()\n",
    "\n",
    "plt.show()"
   ]
  },
  {
   "cell_type": "code",
   "execution_count": 32,
   "id": "c86e70dd-9488-4b3a-954a-9409f25c6e4e",
   "metadata": {},
   "outputs": [
    {
     "data": {
      "image/png": "[encoded data removed]",
      "text/plain": [
       "<Figure size 1000x600 with 1 Axes>"
      ]
     },
     "metadata": {},
     "output_type": "display_data"
    }
   ],
   "source": [
    "plt.plot(UBAH_results[\"test\"], label=\"Buy and Hold\")\n",
    "plt.plot(GPM_results[\"test\"], label=\"GPM\")\n",
    "\n",
    "plt.xlabel(\"Days\")\n",
    "plt.ylabel(\"Portfolio Value\")\n",
    "plt.title(\"Performance in testing period\")\n",
    "plt.legend()\n",
    "\n",
    "plt.show()"
   ]
  },
  {
   "cell_type": "code",
   "execution_count": null,
   "id": "8b5a9a3b-4a4a-438c-ad76-890508b61b1e",
   "metadata": {},
   "outputs": [],
   "source": []
  }
 ],
 "metadata": {
  "kernelspec": {
   "display_name": "Python 3 (ipykernel)",
   "language": "python",
   "name": "python3"
  },
  "language_info": {
   "codemirror_mode": {
    "name": "ipython",
    "version": 3
   },
   "file_extension": ".py",
   "mimetype": "text/x-python",
   "name": "python",
   "nbconvert_exporter": "python",
   "pygments_lexer": "ipython3",
   "version": "3.10.5"
  }
 },
 "nbformat": 4,
 "nbformat_minor": 5
}
