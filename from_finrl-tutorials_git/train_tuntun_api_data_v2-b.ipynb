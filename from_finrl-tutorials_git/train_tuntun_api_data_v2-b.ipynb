{
 "cells": [
  {
   "cell_type": "code",
   "execution_count": 6,
   "id": "4cf3d72e-de37-42b5-88ec-106999b6afc9",
   "metadata": {},
   "outputs": [
    {
     "data": {
      "text/html": [
       "<div>\n",
       "<style scoped>\n",
       "    .dataframe tbody tr th:only-of-type {\n",
       "        vertical-align: middle;\n",
       "    }\n",
       "\n",
       "    .dataframe tbody tr th {\n",
       "        vertical-align: top;\n",
       "    }\n",
       "\n",
       "    .dataframe thead th {\n",
       "        text-align: right;\n",
       "    }\n",
       "</style>\n",
       "<table border=\"1\" class=\"dataframe\">\n",
       "  <thead>\n",
       "    <tr style=\"text-align: right;\">\n",
       "      <th></th>\n",
       "      <th>date</th>\n",
       "      <th>open</th>\n",
       "      <th>high</th>\n",
       "      <th>low</th>\n",
       "      <th>close</th>\n",
       "      <th>volume</th>\n",
       "      <th>tic</th>\n",
       "      <th>day</th>\n",
       "      <th>macd</th>\n",
       "      <th>boll_ub</th>\n",
       "      <th>boll_lb</th>\n",
       "      <th>rsi_30</th>\n",
       "      <th>cci_30</th>\n",
       "      <th>dx_30</th>\n",
       "      <th>close_30_sma</th>\n",
       "      <th>close_60_sma</th>\n",
       "      <th>turbulence</th>\n",
       "    </tr>\n",
       "  </thead>\n",
       "  <tbody>\n",
       "    <tr>\n",
       "      <th>0</th>\n",
       "      <td>2010-01-04</td>\n",
       "      <td>151.00</td>\n",
       "      <td>151.00</td>\n",
       "      <td>147.00</td>\n",
       "      <td>148.00</td>\n",
       "      <td>1380000.0</td>\n",
       "      <td>ACES</td>\n",
       "      <td>1</td>\n",
       "      <td>0.000000</td>\n",
       "      <td>149.914214</td>\n",
       "      <td>147.085786</td>\n",
       "      <td>100.000000</td>\n",
       "      <td>-66.666667</td>\n",
       "      <td>100.000000</td>\n",
       "      <td>148.000000</td>\n",
       "      <td>148.000000</td>\n",
       "      <td>0.000000</td>\n",
       "    </tr>\n",
       "    <tr>\n",
       "      <th>1</th>\n",
       "      <td>2010-01-04</td>\n",
       "      <td>630.00</td>\n",
       "      <td>630.00</td>\n",
       "      <td>620.00</td>\n",
       "      <td>630.00</td>\n",
       "      <td>162000.0</td>\n",
       "      <td>ADES</td>\n",
       "      <td>1</td>\n",
       "      <td>0.000000</td>\n",
       "      <td>149.914214</td>\n",
       "      <td>147.085786</td>\n",
       "      <td>100.000000</td>\n",
       "      <td>-66.666667</td>\n",
       "      <td>100.000000</td>\n",
       "      <td>630.000000</td>\n",
       "      <td>630.000000</td>\n",
       "      <td>0.000000</td>\n",
       "    </tr>\n",
       "    <tr>\n",
       "      <th>2</th>\n",
       "      <td>2010-01-04</td>\n",
       "      <td>347.87</td>\n",
       "      <td>347.87</td>\n",
       "      <td>343.63</td>\n",
       "      <td>347.87</td>\n",
       "      <td>760195.0</td>\n",
       "      <td>ADHI</td>\n",
       "      <td>1</td>\n",
       "      <td>0.000000</td>\n",
       "      <td>149.914214</td>\n",
       "      <td>147.085786</td>\n",
       "      <td>100.000000</td>\n",
       "      <td>-66.666667</td>\n",
       "      <td>100.000000</td>\n",
       "      <td>347.870000</td>\n",
       "      <td>347.870000</td>\n",
       "      <td>0.000000</td>\n",
       "    </tr>\n",
       "    <tr>\n",
       "      <th>3</th>\n",
       "      <td>2010-01-04</td>\n",
       "      <td>6800.00</td>\n",
       "      <td>6800.00</td>\n",
       "      <td>6800.00</td>\n",
       "      <td>6800.00</td>\n",
       "      <td>17500.0</td>\n",
       "      <td>ADMF</td>\n",
       "      <td>1</td>\n",
       "      <td>0.000000</td>\n",
       "      <td>149.914214</td>\n",
       "      <td>147.085786</td>\n",
       "      <td>100.000000</td>\n",
       "      <td>-66.666667</td>\n",
       "      <td>100.000000</td>\n",
       "      <td>6800.000000</td>\n",
       "      <td>6800.000000</td>\n",
       "      <td>0.000000</td>\n",
       "    </tr>\n",
       "    <tr>\n",
       "      <th>4</th>\n",
       "      <td>2010-01-04</td>\n",
       "      <td>134.00</td>\n",
       "      <td>142.00</td>\n",
       "      <td>134.00</td>\n",
       "      <td>142.00</td>\n",
       "      <td>20006500.0</td>\n",
       "      <td>ADMG</td>\n",
       "      <td>1</td>\n",
       "      <td>0.000000</td>\n",
       "      <td>149.914214</td>\n",
       "      <td>147.085786</td>\n",
       "      <td>100.000000</td>\n",
       "      <td>-66.666667</td>\n",
       "      <td>100.000000</td>\n",
       "      <td>142.000000</td>\n",
       "      <td>142.000000</td>\n",
       "      <td>0.000000</td>\n",
       "    </tr>\n",
       "    <tr>\n",
       "      <th>...</th>\n",
       "      <td>...</td>\n",
       "      <td>...</td>\n",
       "      <td>...</td>\n",
       "      <td>...</td>\n",
       "      <td>...</td>\n",
       "      <td>...</td>\n",
       "      <td>...</td>\n",
       "      <td>...</td>\n",
       "      <td>...</td>\n",
       "      <td>...</td>\n",
       "      <td>...</td>\n",
       "      <td>...</td>\n",
       "      <td>...</td>\n",
       "      <td>...</td>\n",
       "      <td>...</td>\n",
       "      <td>...</td>\n",
       "      <td>...</td>\n",
       "    </tr>\n",
       "    <tr>\n",
       "      <th>362995</th>\n",
       "      <td>2024-11-26</td>\n",
       "      <td>2550.00</td>\n",
       "      <td>2560.00</td>\n",
       "      <td>2510.00</td>\n",
       "      <td>2550.00</td>\n",
       "      <td>1474900.0</td>\n",
       "      <td>TSPC</td>\n",
       "      <td>3630</td>\n",
       "      <td>-21.482045</td>\n",
       "      <td>2718.864030</td>\n",
       "      <td>2547.135970</td>\n",
       "      <td>47.421834</td>\n",
       "      <td>-168.905306</td>\n",
       "      <td>21.868859</td>\n",
       "      <td>2654.333333</td>\n",
       "      <td>2654.666667</td>\n",
       "      <td>249.067994</td>\n",
       "    </tr>\n",
       "    <tr>\n",
       "      <th>362996</th>\n",
       "      <td>2024-11-26</td>\n",
       "      <td>1670.00</td>\n",
       "      <td>1685.00</td>\n",
       "      <td>1665.00</td>\n",
       "      <td>1670.00</td>\n",
       "      <td>1319700.0</td>\n",
       "      <td>ULTJ</td>\n",
       "      <td>3630</td>\n",
       "      <td>-28.982196</td>\n",
       "      <td>1780.892823</td>\n",
       "      <td>1665.107177</td>\n",
       "      <td>39.086598</td>\n",
       "      <td>-101.521955</td>\n",
       "      <td>28.780787</td>\n",
       "      <td>1769.000000</td>\n",
       "      <td>1813.500000</td>\n",
       "      <td>249.067994</td>\n",
       "    </tr>\n",
       "    <tr>\n",
       "      <th>362997</th>\n",
       "      <td>2024-11-26</td>\n",
       "      <td>123.00</td>\n",
       "      <td>123.00</td>\n",
       "      <td>122.00</td>\n",
       "      <td>123.00</td>\n",
       "      <td>284200.0</td>\n",
       "      <td>UNSP</td>\n",
       "      <td>3630</td>\n",
       "      <td>5.733318</td>\n",
       "      <td>142.897927</td>\n",
       "      <td>103.302073</td>\n",
       "      <td>60.280480</td>\n",
       "      <td>39.975513</td>\n",
       "      <td>21.470936</td>\n",
       "      <td>115.433333</td>\n",
       "      <td>100.516667</td>\n",
       "      <td>249.067994</td>\n",
       "    </tr>\n",
       "    <tr>\n",
       "      <th>362998</th>\n",
       "      <td>2024-11-26</td>\n",
       "      <td>129.00</td>\n",
       "      <td>130.00</td>\n",
       "      <td>127.00</td>\n",
       "      <td>129.00</td>\n",
       "      <td>3067800.0</td>\n",
       "      <td>WEHA</td>\n",
       "      <td>3630</td>\n",
       "      <td>-3.676446</td>\n",
       "      <td>146.304369</td>\n",
       "      <td>124.495631</td>\n",
       "      <td>43.942857</td>\n",
       "      <td>-88.149445</td>\n",
       "      <td>25.055273</td>\n",
       "      <td>142.533333</td>\n",
       "      <td>140.466667</td>\n",
       "      <td>249.067994</td>\n",
       "    </tr>\n",
       "    <tr>\n",
       "      <th>362999</th>\n",
       "      <td>2024-11-26</td>\n",
       "      <td>324.00</td>\n",
       "      <td>326.00</td>\n",
       "      <td>304.00</td>\n",
       "      <td>324.00</td>\n",
       "      <td>18459500.0</td>\n",
       "      <td>WIKA</td>\n",
       "      <td>3630</td>\n",
       "      <td>-12.015342</td>\n",
       "      <td>404.962565</td>\n",
       "      <td>270.437435</td>\n",
       "      <td>47.145680</td>\n",
       "      <td>-74.050897</td>\n",
       "      <td>13.903473</td>\n",
       "      <td>355.533333</td>\n",
       "      <td>378.666667</td>\n",
       "      <td>249.067994</td>\n",
       "    </tr>\n",
       "  </tbody>\n",
       "</table>\n",
       "<p>363000 rows × 17 columns</p>\n",
       "</div>"
      ],
      "text/plain": [
       "              date     open     high      low    close      volume   tic  \\\n",
       "0       2010-01-04   151.00   151.00   147.00   148.00   1380000.0  ACES   \n",
       "1       2010-01-04   630.00   630.00   620.00   630.00    162000.0  ADES   \n",
       "2       2010-01-04   347.87   347.87   343.63   347.87    760195.0  ADHI   \n",
       "3       2010-01-04  6800.00  6800.00  6800.00  6800.00     17500.0  ADMF   \n",
       "4       2010-01-04   134.00   142.00   134.00   142.00  20006500.0  ADMG   \n",
       "...            ...      ...      ...      ...      ...         ...   ...   \n",
       "362995  2024-11-26  2550.00  2560.00  2510.00  2550.00   1474900.0  TSPC   \n",
       "362996  2024-11-26  1670.00  1685.00  1665.00  1670.00   1319700.0  ULTJ   \n",
       "362997  2024-11-26   123.00   123.00   122.00   123.00    284200.0  UNSP   \n",
       "362998  2024-11-26   129.00   130.00   127.00   129.00   3067800.0  WEHA   \n",
       "362999  2024-11-26   324.00   326.00   304.00   324.00  18459500.0  WIKA   \n",
       "\n",
       "         day       macd      boll_ub      boll_lb      rsi_30      cci_30  \\\n",
       "0          1   0.000000   149.914214   147.085786  100.000000  -66.666667   \n",
       "1          1   0.000000   149.914214   147.085786  100.000000  -66.666667   \n",
       "2          1   0.000000   149.914214   147.085786  100.000000  -66.666667   \n",
       "3          1   0.000000   149.914214   147.085786  100.000000  -66.666667   \n",
       "4          1   0.000000   149.914214   147.085786  100.000000  -66.666667   \n",
       "...      ...        ...          ...          ...         ...         ...   \n",
       "362995  3630 -21.482045  2718.864030  2547.135970   47.421834 -168.905306   \n",
       "362996  3630 -28.982196  1780.892823  1665.107177   39.086598 -101.521955   \n",
       "362997  3630   5.733318   142.897927   103.302073   60.280480   39.975513   \n",
       "362998  3630  -3.676446   146.304369   124.495631   43.942857  -88.149445   \n",
       "362999  3630 -12.015342   404.962565   270.437435   47.145680  -74.050897   \n",
       "\n",
       "             dx_30  close_30_sma  close_60_sma  turbulence  \n",
       "0       100.000000    148.000000    148.000000    0.000000  \n",
       "1       100.000000    630.000000    630.000000    0.000000  \n",
       "2       100.000000    347.870000    347.870000    0.000000  \n",
       "3       100.000000   6800.000000   6800.000000    0.000000  \n",
       "4       100.000000    142.000000    142.000000    0.000000  \n",
       "...            ...           ...           ...         ...  \n",
       "362995   21.868859   2654.333333   2654.666667  249.067994  \n",
       "362996   28.780787   1769.000000   1813.500000  249.067994  \n",
       "362997   21.470936    115.433333    100.516667  249.067994  \n",
       "362998   25.055273    142.533333    140.466667  249.067994  \n",
       "362999   13.903473    355.533333    378.666667  249.067994  \n",
       "\n",
       "[363000 rows x 17 columns]"
      ]
     },
     "execution_count": 6,
     "metadata": {},
     "output_type": "execute_result"
    }
   ],
   "source": [
    "import pandas as pd\n",
    "# DONT USE THIS PATH BECAUSE ALL VOLUME HERE IS 0 (bug in fetch_data_using_api.py)\n",
    "# processed_data_fname = \"/home/devmiftahul/trading_model/from_finrl-tutorials_git/tuntun_scripts/processed_data/processed_data_135_tickers.csv\"\n",
    "\n",
    "features_csv = \"/home/devmiftahul/trading_model/from_finrl-tutorials_git/tuntun_scripts/processed_data/100_tickers_with_features.csv\"\n",
    "processed = pd.read_csv(features_csv)\n",
    "processed"
   ]
  },
  {
   "cell_type": "code",
   "execution_count": 7,
   "id": "246baa2b-bd8d-4e67-a1bb-f187092f6052",
   "metadata": {},
   "outputs": [
    {
     "data": {
      "text/plain": [
       "100"
      ]
     },
     "execution_count": 7,
     "metadata": {},
     "output_type": "execute_result"
    }
   ],
   "source": [
    "tickers = sorted(processed.tic.unique())\n",
    "len(tickers)"
   ]
  },
  {
   "cell_type": "code",
   "execution_count": 14,
   "id": "9cbf6ace-1866-40f1-9205-fbdcfed8acca",
   "metadata": {},
   "outputs": [
    {
     "data": {
      "text/plain": [
       "3630"
      ]
     },
     "execution_count": 14,
     "metadata": {},
     "output_type": "execute_result"
    }
   ],
   "source": [
    "days = processed[\"day\"].unique()\n",
    "len(days)"
   ]
  },
  {
   "cell_type": "code",
   "execution_count": null,
   "id": "b0db0268-bece-4eef-906d-3441372373e0",
   "metadata": {},
   "outputs": [],
   "source": [
    "# this snippet check what day it is that has the date 2024-09-01 # it is 3570\n",
    "x = processed.copy()\n",
    "x[\"date\"] = pd.to_datetime(processed[\"date\"])\n",
    "target_date = pd.to_datetime(\"2024-09-01\")\n",
    "result = x[x[\"date\"] > target_date]\n",
    "result"
   ]
  },
  {
   "cell_type": "code",
   "execution_count": 16,
   "id": "79b88cd3-30e7-45c5-84f1-13d4b506bc1d",
   "metadata": {
    "scrolled": true
   },
   "outputs": [
    {
     "data": {
      "text/html": [
       "<div>\n",
       "<style scoped>\n",
       "    .dataframe tbody tr th:only-of-type {\n",
       "        vertical-align: middle;\n",
       "    }\n",
       "\n",
       "    .dataframe tbody tr th {\n",
       "        vertical-align: top;\n",
       "    }\n",
       "\n",
       "    .dataframe thead th {\n",
       "        text-align: right;\n",
       "    }\n",
       "</style>\n",
       "<table border=\"1\" class=\"dataframe\">\n",
       "  <thead>\n",
       "    <tr style=\"text-align: right;\">\n",
       "      <th></th>\n",
       "      <th>date</th>\n",
       "      <th>open</th>\n",
       "      <th>high</th>\n",
       "      <th>low</th>\n",
       "      <th>close</th>\n",
       "      <th>volume</th>\n",
       "      <th>tic</th>\n",
       "      <th>day</th>\n",
       "      <th>macd</th>\n",
       "      <th>boll_ub</th>\n",
       "      <th>boll_lb</th>\n",
       "      <th>rsi_30</th>\n",
       "      <th>cci_30</th>\n",
       "      <th>dx_30</th>\n",
       "      <th>close_30_sma</th>\n",
       "      <th>close_60_sma</th>\n",
       "      <th>turbulence</th>\n",
       "    </tr>\n",
       "  </thead>\n",
       "  <tbody>\n",
       "    <tr>\n",
       "      <th>0</th>\n",
       "      <td>2010-01-04</td>\n",
       "      <td>151.00</td>\n",
       "      <td>151.00</td>\n",
       "      <td>147.00</td>\n",
       "      <td>148.00</td>\n",
       "      <td>1380000.0</td>\n",
       "      <td>ACES</td>\n",
       "      <td>1</td>\n",
       "      <td>0.000000</td>\n",
       "      <td>149.914214</td>\n",
       "      <td>147.085786</td>\n",
       "      <td>100.000000</td>\n",
       "      <td>-66.666667</td>\n",
       "      <td>100.000000</td>\n",
       "      <td>148.000000</td>\n",
       "      <td>148.000000</td>\n",
       "      <td>0.00000</td>\n",
       "    </tr>\n",
       "    <tr>\n",
       "      <th>1</th>\n",
       "      <td>2010-01-04</td>\n",
       "      <td>630.00</td>\n",
       "      <td>630.00</td>\n",
       "      <td>620.00</td>\n",
       "      <td>630.00</td>\n",
       "      <td>162000.0</td>\n",
       "      <td>ADES</td>\n",
       "      <td>1</td>\n",
       "      <td>0.000000</td>\n",
       "      <td>149.914214</td>\n",
       "      <td>147.085786</td>\n",
       "      <td>100.000000</td>\n",
       "      <td>-66.666667</td>\n",
       "      <td>100.000000</td>\n",
       "      <td>630.000000</td>\n",
       "      <td>630.000000</td>\n",
       "      <td>0.00000</td>\n",
       "    </tr>\n",
       "    <tr>\n",
       "      <th>2</th>\n",
       "      <td>2010-01-04</td>\n",
       "      <td>347.87</td>\n",
       "      <td>347.87</td>\n",
       "      <td>343.63</td>\n",
       "      <td>347.87</td>\n",
       "      <td>760195.0</td>\n",
       "      <td>ADHI</td>\n",
       "      <td>1</td>\n",
       "      <td>0.000000</td>\n",
       "      <td>149.914214</td>\n",
       "      <td>147.085786</td>\n",
       "      <td>100.000000</td>\n",
       "      <td>-66.666667</td>\n",
       "      <td>100.000000</td>\n",
       "      <td>347.870000</td>\n",
       "      <td>347.870000</td>\n",
       "      <td>0.00000</td>\n",
       "    </tr>\n",
       "    <tr>\n",
       "      <th>3</th>\n",
       "      <td>2010-01-04</td>\n",
       "      <td>6800.00</td>\n",
       "      <td>6800.00</td>\n",
       "      <td>6800.00</td>\n",
       "      <td>6800.00</td>\n",
       "      <td>17500.0</td>\n",
       "      <td>ADMF</td>\n",
       "      <td>1</td>\n",
       "      <td>0.000000</td>\n",
       "      <td>149.914214</td>\n",
       "      <td>147.085786</td>\n",
       "      <td>100.000000</td>\n",
       "      <td>-66.666667</td>\n",
       "      <td>100.000000</td>\n",
       "      <td>6800.000000</td>\n",
       "      <td>6800.000000</td>\n",
       "      <td>0.00000</td>\n",
       "    </tr>\n",
       "    <tr>\n",
       "      <th>4</th>\n",
       "      <td>2010-01-04</td>\n",
       "      <td>134.00</td>\n",
       "      <td>142.00</td>\n",
       "      <td>134.00</td>\n",
       "      <td>142.00</td>\n",
       "      <td>20006500.0</td>\n",
       "      <td>ADMG</td>\n",
       "      <td>1</td>\n",
       "      <td>0.000000</td>\n",
       "      <td>149.914214</td>\n",
       "      <td>147.085786</td>\n",
       "      <td>100.000000</td>\n",
       "      <td>-66.666667</td>\n",
       "      <td>100.000000</td>\n",
       "      <td>142.000000</td>\n",
       "      <td>142.000000</td>\n",
       "      <td>0.00000</td>\n",
       "    </tr>\n",
       "    <tr>\n",
       "      <th>...</th>\n",
       "      <td>...</td>\n",
       "      <td>...</td>\n",
       "      <td>...</td>\n",
       "      <td>...</td>\n",
       "      <td>...</td>\n",
       "      <td>...</td>\n",
       "      <td>...</td>\n",
       "      <td>...</td>\n",
       "      <td>...</td>\n",
       "      <td>...</td>\n",
       "      <td>...</td>\n",
       "      <td>...</td>\n",
       "      <td>...</td>\n",
       "      <td>...</td>\n",
       "      <td>...</td>\n",
       "      <td>...</td>\n",
       "      <td>...</td>\n",
       "    </tr>\n",
       "    <tr>\n",
       "      <th>349995</th>\n",
       "      <td>2024-05-21</td>\n",
       "      <td>2060.00</td>\n",
       "      <td>2080.00</td>\n",
       "      <td>2020.00</td>\n",
       "      <td>2020.00</td>\n",
       "      <td>1565900.0</td>\n",
       "      <td>TSPC</td>\n",
       "      <td>3500</td>\n",
       "      <td>25.356638</td>\n",
       "      <td>2100.174842</td>\n",
       "      <td>1864.825158</td>\n",
       "      <td>54.163418</td>\n",
       "      <td>97.990135</td>\n",
       "      <td>19.618702</td>\n",
       "      <td>1967.666667</td>\n",
       "      <td>1980.166667</td>\n",
       "      <td>194.39245</td>\n",
       "    </tr>\n",
       "    <tr>\n",
       "      <th>349996</th>\n",
       "      <td>2024-05-21</td>\n",
       "      <td>1875.00</td>\n",
       "      <td>1890.00</td>\n",
       "      <td>1855.00</td>\n",
       "      <td>1880.00</td>\n",
       "      <td>5485000.0</td>\n",
       "      <td>ULTJ</td>\n",
       "      <td>3500</td>\n",
       "      <td>17.323748</td>\n",
       "      <td>1992.048304</td>\n",
       "      <td>1788.451696</td>\n",
       "      <td>52.804674</td>\n",
       "      <td>-23.163904</td>\n",
       "      <td>23.998870</td>\n",
       "      <td>1885.333333</td>\n",
       "      <td>1792.166667</td>\n",
       "      <td>194.39245</td>\n",
       "    </tr>\n",
       "    <tr>\n",
       "      <th>349997</th>\n",
       "      <td>2024-05-21</td>\n",
       "      <td>84.00</td>\n",
       "      <td>84.00</td>\n",
       "      <td>84.00</td>\n",
       "      <td>84.00</td>\n",
       "      <td>151300.0</td>\n",
       "      <td>UNSP</td>\n",
       "      <td>3500</td>\n",
       "      <td>-1.409831</td>\n",
       "      <td>86.362525</td>\n",
       "      <td>66.137475</td>\n",
       "      <td>43.634299</td>\n",
       "      <td>68.464459</td>\n",
       "      <td>0.099996</td>\n",
       "      <td>78.233333</td>\n",
       "      <td>94.666667</td>\n",
       "      <td>194.39245</td>\n",
       "    </tr>\n",
       "    <tr>\n",
       "      <th>349998</th>\n",
       "      <td>2024-05-21</td>\n",
       "      <td>109.00</td>\n",
       "      <td>111.00</td>\n",
       "      <td>109.00</td>\n",
       "      <td>110.00</td>\n",
       "      <td>1257700.0</td>\n",
       "      <td>WEHA</td>\n",
       "      <td>3500</td>\n",
       "      <td>-8.153094</td>\n",
       "      <td>114.578866</td>\n",
       "      <td>104.321134</td>\n",
       "      <td>32.492642</td>\n",
       "      <td>-45.870162</td>\n",
       "      <td>45.509480</td>\n",
       "      <td>119.566667</td>\n",
       "      <td>144.850000</td>\n",
       "      <td>194.39245</td>\n",
       "    </tr>\n",
       "    <tr>\n",
       "      <th>349999</th>\n",
       "      <td>2024-05-21</td>\n",
       "      <td>127.00</td>\n",
       "      <td>130.00</td>\n",
       "      <td>120.00</td>\n",
       "      <td>121.00</td>\n",
       "      <td>18395600.0</td>\n",
       "      <td>WIKA</td>\n",
       "      <td>3500</td>\n",
       "      <td>-25.462798</td>\n",
       "      <td>227.886206</td>\n",
       "      <td>99.213794</td>\n",
       "      <td>8.660295</td>\n",
       "      <td>-111.943355</td>\n",
       "      <td>99.583350</td>\n",
       "      <td>186.633333</td>\n",
       "      <td>213.316667</td>\n",
       "      <td>194.39245</td>\n",
       "    </tr>\n",
       "  </tbody>\n",
       "</table>\n",
       "<p>350000 rows × 17 columns</p>\n",
       "</div>"
      ],
      "text/plain": [
       "              date     open     high      low    close      volume   tic  \\\n",
       "0       2010-01-04   151.00   151.00   147.00   148.00   1380000.0  ACES   \n",
       "1       2010-01-04   630.00   630.00   620.00   630.00    162000.0  ADES   \n",
       "2       2010-01-04   347.87   347.87   343.63   347.87    760195.0  ADHI   \n",
       "3       2010-01-04  6800.00  6800.00  6800.00  6800.00     17500.0  ADMF   \n",
       "4       2010-01-04   134.00   142.00   134.00   142.00  20006500.0  ADMG   \n",
       "...            ...      ...      ...      ...      ...         ...   ...   \n",
       "349995  2024-05-21  2060.00  2080.00  2020.00  2020.00   1565900.0  TSPC   \n",
       "349996  2024-05-21  1875.00  1890.00  1855.00  1880.00   5485000.0  ULTJ   \n",
       "349997  2024-05-21    84.00    84.00    84.00    84.00    151300.0  UNSP   \n",
       "349998  2024-05-21   109.00   111.00   109.00   110.00   1257700.0  WEHA   \n",
       "349999  2024-05-21   127.00   130.00   120.00   121.00  18395600.0  WIKA   \n",
       "\n",
       "         day       macd      boll_ub      boll_lb      rsi_30      cci_30  \\\n",
       "0          1   0.000000   149.914214   147.085786  100.000000  -66.666667   \n",
       "1          1   0.000000   149.914214   147.085786  100.000000  -66.666667   \n",
       "2          1   0.000000   149.914214   147.085786  100.000000  -66.666667   \n",
       "3          1   0.000000   149.914214   147.085786  100.000000  -66.666667   \n",
       "4          1   0.000000   149.914214   147.085786  100.000000  -66.666667   \n",
       "...      ...        ...          ...          ...         ...         ...   \n",
       "349995  3500  25.356638  2100.174842  1864.825158   54.163418   97.990135   \n",
       "349996  3500  17.323748  1992.048304  1788.451696   52.804674  -23.163904   \n",
       "349997  3500  -1.409831    86.362525    66.137475   43.634299   68.464459   \n",
       "349998  3500  -8.153094   114.578866   104.321134   32.492642  -45.870162   \n",
       "349999  3500 -25.462798   227.886206    99.213794    8.660295 -111.943355   \n",
       "\n",
       "             dx_30  close_30_sma  close_60_sma  turbulence  \n",
       "0       100.000000    148.000000    148.000000     0.00000  \n",
       "1       100.000000    630.000000    630.000000     0.00000  \n",
       "2       100.000000    347.870000    347.870000     0.00000  \n",
       "3       100.000000   6800.000000   6800.000000     0.00000  \n",
       "4       100.000000    142.000000    142.000000     0.00000  \n",
       "...            ...           ...           ...         ...  \n",
       "349995   19.618702   1967.666667   1980.166667   194.39245  \n",
       "349996   23.998870   1885.333333   1792.166667   194.39245  \n",
       "349997    0.099996     78.233333     94.666667   194.39245  \n",
       "349998   45.509480    119.566667    144.850000   194.39245  \n",
       "349999   99.583350    186.633333    213.316667   194.39245  \n",
       "\n",
       "[350000 rows x 17 columns]"
      ]
     },
     "execution_count": 16,
     "metadata": {},
     "output_type": "execute_result"
    }
   ],
   "source": [
    "df_portfolio_train"
   ]
  },
  {
   "cell_type": "code",
   "execution_count": 15,
   "id": "907f14da-ed4e-428e-bab5-736031ce8960",
   "metadata": {},
   "outputs": [
    {
     "name": "stderr",
     "output_type": "stream",
     "text": [
      "2024-11-29 16:42:33.047130: I tensorflow/core/util/port.cc:153] oneDNN custom operations are on. You may see slightly different numerical results due to floating-point round-off errors from different computation orders. To turn them off, set the environment variable `TF_ENABLE_ONEDNN_OPTS=0`.\n",
      "2024-11-29 16:42:33.066561: E external/local_xla/xla/stream_executor/cuda/cuda_fft.cc:477] Unable to register cuFFT factory: Attempting to register factory for plugin cuFFT when one has already been registered\n",
      "WARNING: All log messages before absl::InitializeLog() is called are written to STDERR\n",
      "E0000 00:00:1732873353.085850  825158 cuda_dnn.cc:8310] Unable to register cuDNN factory: Attempting to register factory for plugin cuDNN when one has already been registered\n",
      "E0000 00:00:1732873353.092074  825158 cuda_blas.cc:1418] Unable to register cuBLAS factory: Attempting to register factory for plugin cuBLAS when one has already been registered\n",
      "2024-11-29 16:42:33.123041: I tensorflow/core/platform/cpu_feature_guard.cc:210] This TensorFlow binary is optimized to use available CPU instructions in performance-critical operations.\n",
      "To enable the following instructions: AVX2 AVX512F AVX512_VNNI FMA, in other operations, rebuild TensorFlow with the appropriate compiler flags.\n"
     ]
    }
   ],
   "source": [
    "from finrl.meta.env_portfolio_optimization.env_portfolio_optimization import PortfolioOptimizationEnv\n",
    "df = processed.copy()\n",
    "# df_portfolio_train = df[(df[\"day\"] > 3000) & (df[\"day\"] <= 3500)]\n",
    "df_portfolio_train = df[df[\"day\"] <= 3500]\n",
    "df_portfolio_test = df[df[\"day\"] > 3500]\n",
    "TIME_WINDOW = 63\n",
    "features=[\"close\", \"high\", \"low\"]\n",
    "initial_features = len(features)\n",
    "\n",
    "environment_train = PortfolioOptimizationEnv(\n",
    "        df_portfolio_train,\n",
    "        initial_amount=100000,\n",
    "        comission_fee_pct=0.0025,\n",
    "        time_window=TIME_WINDOW,\n",
    "        features=features,\n",
    "        time_column=\"day\",\n",
    "        normalize_df=None, # dataframe is already normalized\n",
    "        tics_in_portfolio=tickers\n",
    "    )\n",
    "environment_test = PortfolioOptimizationEnv(\n",
    "        df_portfolio_test,\n",
    "        initial_amount=100000,\n",
    "        comission_fee_pct=0.0025,\n",
    "        time_window=TIME_WINDOW,\n",
    "        features=features,\n",
    "        time_column=\"day\",\n",
    "        normalize_df=None, # dataframe is already normalized\n",
    "        tics_in_portfolio=tickers\n",
    "    )"
   ]
  },
  {
   "cell_type": "code",
   "execution_count": 23,
   "id": "b9cb17cf-2332-41a2-8aaa-417b42682b1b",
   "metadata": {},
   "outputs": [
    {
     "data": {
      "text/plain": [
       "130"
      ]
     },
     "execution_count": 23,
     "metadata": {},
     "output_type": "execute_result"
    }
   ],
   "source": [
    "# df_portfolio_test\n",
    "len(df_portfolio_test[\"day\"].unique())"
   ]
  },
  {
   "cell_type": "code",
   "execution_count": 18,
   "id": "22ba32d3-14f0-4622-b285-2d0601d7ad1d",
   "metadata": {},
   "outputs": [
    {
     "name": "stdout",
     "output_type": "stream",
     "text": [
      "cuda:0\n"
     ]
    }
   ],
   "source": [
    "import torch\n",
    "device = 'cuda:0' if torch.cuda.is_available() else 'cpu'\n",
    "print(device)\n",
    "from finrl.agents.portfolio_optimization.architectures import EIIE\n",
    "from finrl.agents.portfolio_optimization.models import DRLAgent\n",
    "model_kwargs = {\n",
    "    \"lr\": 0.0001,\n",
    "    \"policy\": EIIE,\n",
    "}\n",
    "policy_kwargs = {\n",
    "    \"initial_features\": initial_features,\n",
    "    \"k_size\": 3,\n",
    "    \"conv_mid_features\": 2,\n",
    "    \"conv_final_features\": 20,\n",
    "    \"time_window\": TIME_WINDOW\n",
    "}\n",
    "\n",
    "model = DRLAgent(environment_train).get_model(\"pg\", device, model_kwargs, policy_kwargs)"
   ]
  },
  {
   "cell_type": "code",
   "execution_count": 20,
   "id": "c931990c-8619-496d-a765-2f12e321d4b5",
   "metadata": {},
   "outputs": [
    {
     "data": {
      "text/plain": [
       "<finrl.agents.portfolio_optimization.algorithms.PolicyGradient at 0x70c33df535e0>"
      ]
     },
     "execution_count": 20,
     "metadata": {},
     "output_type": "execute_result"
    }
   ],
   "source": [
    "model"
   ]
  },
  {
   "cell_type": "code",
   "execution_count": 21,
   "id": "c71ffad7-b480-403a-acbc-f5b56e45882b",
   "metadata": {},
   "outputs": [
    {
     "name": "stderr",
     "output_type": "stream",
     "text": [
      "  0%|                                                                                                                                                    | 0/10 [00:00<?, ?it/s]"
     ]
    },
    {
     "name": "stdout",
     "output_type": "stream",
     "text": [
      "=================================\n",
      "Initial portfolio value:100000\n",
      "Final portfolio value: 75296.4375\n",
      "Final accumulative portfolio value: 0.752964375\n",
      "Maximum DrawDown: -0.9999849397649885\n",
      "Sharpe ratio: 0.27073447045411864\n",
      "=================================\n"
     ]
    },
    {
     "name": "stderr",
     "output_type": "stream",
     "text": [
      " 10%|█████████████▋                                                                                                                           | 1/10 [08:56<1:20:24, 536.05s/it]"
     ]
    },
    {
     "name": "stdout",
     "output_type": "stream",
     "text": [
      "=================================\n",
      "Initial portfolio value:100000\n",
      "Final portfolio value: 75296.4375\n",
      "Final accumulative portfolio value: 0.752964375\n",
      "Maximum DrawDown: -0.9999849397649885\n",
      "Sharpe ratio: 0.27073447045411864\n",
      "=================================\n"
     ]
    },
    {
     "name": "stderr",
     "output_type": "stream",
     "text": [
      " 20%|███████████████████████████▍                                                                                                             | 2/10 [17:52<1:11:30, 536.28s/it]"
     ]
    },
    {
     "name": "stdout",
     "output_type": "stream",
     "text": [
      "=================================\n",
      "Initial portfolio value:100000\n",
      "Final portfolio value: 75296.4375\n",
      "Final accumulative portfolio value: 0.752964375\n",
      "Maximum DrawDown: -0.9999849397649885\n",
      "Sharpe ratio: 0.27073447045411864\n",
      "=================================\n"
     ]
    },
    {
     "name": "stderr",
     "output_type": "stream",
     "text": [
      " 30%|█████████████████████████████████████████                                                                                                | 3/10 [26:48<1:02:34, 536.32s/it]"
     ]
    },
    {
     "name": "stdout",
     "output_type": "stream",
     "text": [
      "=================================\n",
      "Initial portfolio value:100000\n",
      "Final portfolio value: 75296.4375\n",
      "Final accumulative portfolio value: 0.752964375\n",
      "Maximum DrawDown: -0.9999849397649885\n",
      "Sharpe ratio: 0.27073447045411864\n",
      "=================================\n"
     ]
    },
    {
     "name": "stderr",
     "output_type": "stream",
     "text": [
      " 40%|███████████████████████████████████████████████████████▌                                                                                   | 4/10 [35:44<53:35, 535.88s/it]"
     ]
    },
    {
     "name": "stdout",
     "output_type": "stream",
     "text": [
      "=================================\n",
      "Initial portfolio value:100000\n",
      "Final portfolio value: 75296.4375\n",
      "Final accumulative portfolio value: 0.752964375\n",
      "Maximum DrawDown: -0.9999849397649885\n",
      "Sharpe ratio: 0.27073447045411864\n",
      "=================================\n"
     ]
    },
    {
     "name": "stderr",
     "output_type": "stream",
     "text": [
      " 50%|█████████████████████████████████████████████████████████████████████▌                                                                     | 5/10 [44:39<44:38, 535.73s/it]"
     ]
    },
    {
     "name": "stdout",
     "output_type": "stream",
     "text": [
      "=================================\n",
      "Initial portfolio value:100000\n",
      "Final portfolio value: 75296.4375\n",
      "Final accumulative portfolio value: 0.752964375\n",
      "Maximum DrawDown: -0.9999849397649885\n",
      "Sharpe ratio: 0.27073447045411864\n",
      "=================================\n"
     ]
    },
    {
     "name": "stderr",
     "output_type": "stream",
     "text": [
      " 60%|███████████████████████████████████████████████████████████████████████████████████▍                                                       | 6/10 [53:37<35:45, 536.42s/it]"
     ]
    },
    {
     "name": "stdout",
     "output_type": "stream",
     "text": [
      "=================================\n",
      "Initial portfolio value:100000\n",
      "Final portfolio value: 75296.4375\n",
      "Final accumulative portfolio value: 0.752964375\n",
      "Maximum DrawDown: -0.9999849397649885\n",
      "Sharpe ratio: 0.27073447045411864\n",
      "=================================\n"
     ]
    },
    {
     "name": "stderr",
     "output_type": "stream",
     "text": [
      " 70%|███████████████████████████████████████████████████████████████████████████████████████████████▉                                         | 7/10 [1:02:39<26:54, 538.23s/it]"
     ]
    },
    {
     "name": "stdout",
     "output_type": "stream",
     "text": [
      "=================================\n",
      "Initial portfolio value:100000\n",
      "Final portfolio value: 75296.4375\n",
      "Final accumulative portfolio value: 0.752964375\n",
      "Maximum DrawDown: -0.9999849397649885\n",
      "Sharpe ratio: 0.27073447045411864\n",
      "=================================\n"
     ]
    },
    {
     "name": "stderr",
     "output_type": "stream",
     "text": [
      " 80%|█████████████████████████████████████████████████████████████████████████████████████████████████████████████▌                           | 8/10 [1:11:39<17:57, 538.72s/it]"
     ]
    },
    {
     "name": "stdout",
     "output_type": "stream",
     "text": [
      "=================================\n",
      "Initial portfolio value:100000\n",
      "Final portfolio value: 75296.4375\n",
      "Final accumulative portfolio value: 0.752964375\n",
      "Maximum DrawDown: -0.9999849397649885\n",
      "Sharpe ratio: 0.27073447045411864\n",
      "=================================\n"
     ]
    },
    {
     "name": "stderr",
     "output_type": "stream",
     "text": [
      " 90%|███████████████████████████████████████████████████████████████████████████████████████████████████████████████████████████▎             | 9/10 [1:20:37<08:58, 538.73s/it]"
     ]
    },
    {
     "name": "stdout",
     "output_type": "stream",
     "text": [
      "=================================\n",
      "Initial portfolio value:100000\n",
      "Final portfolio value: 75296.4375\n",
      "Final accumulative portfolio value: 0.752964375\n",
      "Maximum DrawDown: -0.9999849397649885\n",
      "Sharpe ratio: 0.27073447045411864\n",
      "=================================\n"
     ]
    },
    {
     "name": "stderr",
     "output_type": "stream",
     "text": [
      "100%|████████████████████████████████████████████████████████████████████████████████████████████████████████████████████████████████████████| 10/10 [1:29:36<00:00, 537.67s/it]\n"
     ]
    },
    {
     "data": {
      "text/plain": [
       "<finrl.agents.portfolio_optimization.algorithms.PolicyGradient at 0x70c33df535e0>"
      ]
     },
     "execution_count": 21,
     "metadata": {},
     "output_type": "execute_result"
    }
   ],
   "source": [
    "DRLAgent.train_model(model, episodes=10)"
   ]
  },
  {
   "cell_type": "code",
   "execution_count": 24,
   "id": "31893792-a06a-483c-94ec-9deeb9b7d34f",
   "metadata": {},
   "outputs": [
    {
     "data": {
      "text/plain": [
       "<finrl.agents.portfolio_optimization.algorithms.PolicyGradient at 0x70c33df535e0>"
      ]
     },
     "execution_count": 24,
     "metadata": {},
     "output_type": "execute_result"
    }
   ],
   "source": [
    "model"
   ]
  },
  {
   "cell_type": "code",
   "execution_count": 25,
   "id": "371fff18-90b2-42c0-a92e-5e9e277ca0be",
   "metadata": {},
   "outputs": [],
   "source": [
    "import os\n",
    "d = \"tuntun_api_trained_models/eiie\"\n",
    "os.makedirs(d, exist_ok=True)\n",
    "model_path = f\"{d}/policy_EIIE.pt\"\n",
    "torch.save(model.train_policy.state_dict(), model_path)"
   ]
  },
  {
   "cell_type": "code",
   "execution_count": 26,
   "id": "ac8343a7-ab29-40ac-b909-298f78c935fa",
   "metadata": {},
   "outputs": [
    {
     "name": "stderr",
     "output_type": "stream",
     "text": [
      "/tmp/ipykernel_825158/2279313485.py:9: FutureWarning: You are using `torch.load` with `weights_only=False` (the current default value), which uses the default pickle module implicitly. It is possible to construct malicious pickle data which will execute arbitrary code during unpickling (See https://github.com/pytorch/pytorch/blob/main/SECURITY.md#untrusted-models for more details). In a future release, the default value for `weights_only` will be flipped to `True`. This limits the functions that could be executed during unpickling. Arbitrary objects will no longer be allowed to be loaded via this mode unless they are explicitly allowlisted by the user via `torch.serialization.add_safe_globals`. We recommend you start setting `weights_only=True` for any use case where you don't have full control of the loaded file. Please open an issue on GitHub for any issues related to this experimental feature.\n",
      "  policy.load_state_dict(torch.load(model_path))\n"
     ]
    },
    {
     "name": "stdout",
     "output_type": "stream",
     "text": [
      "=================================\n",
      "Initial portfolio value:100000\n",
      "Final portfolio value: 80948.9921875\n",
      "Final accumulative portfolio value: 0.809489921875\n",
      "Maximum DrawDown: -0.47583084873416615\n",
      "Sharpe ratio: -0.06331855299515668\n",
      "=================================\n"
     ]
    }
   ],
   "source": [
    "EIIE_results = {\n",
    "    \"train\": environment_train._asset_memory[\"final\"],\n",
    "    \"test\": {},\n",
    "}\n",
    "\n",
    "# instantiate an architecture with the same arguments used in training\n",
    "# and load with load_state_dict.\n",
    "policy = EIIE(**policy_kwargs)\n",
    "policy.load_state_dict(torch.load(model_path))\n",
    "\n",
    "# testing\n",
    "DRLAgent.DRL_validation(model, environment_test, policy=policy)\n",
    "EIIE_results[\"test\"] = environment_test._asset_memory[\"final\"]"
   ]
  },
  {
   "cell_type": "code",
   "execution_count": 27,
   "id": "bdc79bbf-6bd8-4844-81f8-3c541e81bc87",
   "metadata": {},
   "outputs": [
    {
     "name": "stdout",
     "output_type": "stream",
     "text": [
      "=================================\n",
      "Initial portfolio value:100000\n",
      "Final portfolio value: 2683698.0\n",
      "Final accumulative portfolio value: 26.83698\n",
      "Maximum DrawDown: -0.9971934292462914\n",
      "Sharpe ratio: 0.2708008205389532\n",
      "=================================\n",
      "=================================\n",
      "Initial portfolio value:100000\n",
      "Final portfolio value: 146116.84375\n",
      "Final accumulative portfolio value: 1.4611684375\n",
      "Maximum DrawDown: -0.08054092654254186\n",
      "Sharpe ratio: 1.8345791470989563\n",
      "=================================\n"
     ]
    }
   ],
   "source": [
    "UBAH_results = {\n",
    "    \"train\": {},\n",
    "    \"test\": {},\n",
    "}\n",
    "\n",
    "PORTFOLIO_SIZE = len(tickers)\n",
    "\n",
    "# train period\n",
    "terminated = False\n",
    "environment_train.reset()\n",
    "while not terminated:\n",
    "    action = [0] + [1/PORTFOLIO_SIZE] * PORTFOLIO_SIZE\n",
    "    _, _, terminated, _ = environment_train.step(action)\n",
    "UBAH_results[\"train\"] = environment_train._asset_memory[\"final\"]\n",
    "\n",
    "# test period\n",
    "terminated = False\n",
    "environment_test.reset()\n",
    "while not terminated:\n",
    "    action = [0] + [1/PORTFOLIO_SIZE] * PORTFOLIO_SIZE\n",
    "    _, _, terminated, _ = environment_test.step(action)\n",
    "UBAH_results[\"test\"] = environment_test._asset_memory[\"final\"]"
   ]
  },
  {
   "cell_type": "code",
   "execution_count": null,
   "id": "34ee3479-d324-4642-9839-fb6878906e3a",
   "metadata": {},
   "outputs": [],
   "source": [
    "import matplotlib.pyplot as plt\n",
    "%matplotlib inline \n",
    "\n",
    "plt.plot(UBAH_results[\"test\"], label=\"Buy and Hold\")\n",
    "plt.plot(EIIE_results[\"test\"], label=\"EIIE\")\n",
    "\n",
    "plt.xlabel(\"Days\")\n",
    "plt.ylabel(\"Portfolio Value\")\n",
    "plt.title(\"Performance in testing period\")\n",
    "plt.legend()\n",
    "\n",
    "plt.show()"
   ]
  }
 ],
 "metadata": {
  "kernelspec": {
   "display_name": "Python 3 (ipykernel)",
   "language": "python",
   "name": "python3"
  },
  "language_info": {
   "codemirror_mode": {
    "name": "ipython",
    "version": 3
   },
   "file_extension": ".py",
   "mimetype": "text/x-python",
   "name": "python",
   "nbconvert_exporter": "python",
   "pygments_lexer": "ipython3",
   "version": "3.10.5"
  }
 },
 "nbformat": 4,
 "nbformat_minor": 5
}
