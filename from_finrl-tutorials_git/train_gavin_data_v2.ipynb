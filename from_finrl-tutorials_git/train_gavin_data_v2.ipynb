{
 "cells": [
  {
   "cell_type": "code",
   "execution_count": 16,
   "id": "3aeacb51-2745-43f3-ae8b-6449dcf44d75",
   "metadata": {},
   "outputs": [
    {
     "data": {
      "text/html": [
       "<div>\n",
       "<style scoped>\n",
       "    .dataframe tbody tr th:only-of-type {\n",
       "        vertical-align: middle;\n",
       "    }\n",
       "\n",
       "    .dataframe tbody tr th {\n",
       "        vertical-align: top;\n",
       "    }\n",
       "\n",
       "    .dataframe thead th {\n",
       "        text-align: right;\n",
       "    }\n",
       "</style>\n",
       "<table border=\"1\" class=\"dataframe\">\n",
       "  <thead>\n",
       "    <tr style=\"text-align: right;\">\n",
       "      <th></th>\n",
       "      <th>date</th>\n",
       "      <th>tic</th>\n",
       "      <th>close</th>\n",
       "      <th>high</th>\n",
       "      <th>low</th>\n",
       "      <th>open</th>\n",
       "      <th>volume</th>\n",
       "      <th>day</th>\n",
       "      <th>macd</th>\n",
       "      <th>boll_ub</th>\n",
       "      <th>boll_lb</th>\n",
       "      <th>rsi_30</th>\n",
       "      <th>cci_30</th>\n",
       "      <th>dx_30</th>\n",
       "      <th>close_30_sma</th>\n",
       "      <th>close_60_sma</th>\n",
       "      <th>turbulence</th>\n",
       "    </tr>\n",
       "  </thead>\n",
       "  <tbody>\n",
       "    <tr>\n",
       "      <th>0</th>\n",
       "      <td>1993-01-04</td>\n",
       "      <td>ADMG</td>\n",
       "      <td>1.00</td>\n",
       "      <td>1.00</td>\n",
       "      <td>1.00</td>\n",
       "      <td>1.00</td>\n",
       "      <td>1.0</td>\n",
       "      <td>1</td>\n",
       "      <td>0.000000</td>\n",
       "      <td>1.000000</td>\n",
       "      <td>1.000000</td>\n",
       "      <td>100.000000</td>\n",
       "      <td>-66.666667</td>\n",
       "      <td>100.000000</td>\n",
       "      <td>1.000000</td>\n",
       "      <td>1.000000</td>\n",
       "      <td>0.000000</td>\n",
       "    </tr>\n",
       "    <tr>\n",
       "      <th>1</th>\n",
       "      <td>1993-01-04</td>\n",
       "      <td>ASII</td>\n",
       "      <td>108.20</td>\n",
       "      <td>110.00</td>\n",
       "      <td>108.20</td>\n",
       "      <td>109.40</td>\n",
       "      <td>5523860.0</td>\n",
       "      <td>1</td>\n",
       "      <td>0.000000</td>\n",
       "      <td>1.000000</td>\n",
       "      <td>1.000000</td>\n",
       "      <td>100.000000</td>\n",
       "      <td>-66.666667</td>\n",
       "      <td>100.000000</td>\n",
       "      <td>108.200000</td>\n",
       "      <td>108.200000</td>\n",
       "      <td>0.000000</td>\n",
       "    </tr>\n",
       "    <tr>\n",
       "      <th>2</th>\n",
       "      <td>1993-01-04</td>\n",
       "      <td>BDMN</td>\n",
       "      <td>30350.00</td>\n",
       "      <td>30350.00</td>\n",
       "      <td>30350.00</td>\n",
       "      <td>30350.00</td>\n",
       "      <td>1.0</td>\n",
       "      <td>1</td>\n",
       "      <td>0.000000</td>\n",
       "      <td>1.000000</td>\n",
       "      <td>1.000000</td>\n",
       "      <td>100.000000</td>\n",
       "      <td>-66.666667</td>\n",
       "      <td>100.000000</td>\n",
       "      <td>30350.000000</td>\n",
       "      <td>30350.000000</td>\n",
       "      <td>0.000000</td>\n",
       "    </tr>\n",
       "    <tr>\n",
       "      <th>3</th>\n",
       "      <td>1993-01-04</td>\n",
       "      <td>BNGA</td>\n",
       "      <td>6070.00</td>\n",
       "      <td>6070.00</td>\n",
       "      <td>6070.00</td>\n",
       "      <td>6070.00</td>\n",
       "      <td>1.0</td>\n",
       "      <td>1</td>\n",
       "      <td>0.000000</td>\n",
       "      <td>1.000000</td>\n",
       "      <td>1.000000</td>\n",
       "      <td>100.000000</td>\n",
       "      <td>-66.666667</td>\n",
       "      <td>100.000000</td>\n",
       "      <td>6070.000000</td>\n",
       "      <td>6070.000000</td>\n",
       "      <td>0.000000</td>\n",
       "    </tr>\n",
       "    <tr>\n",
       "      <th>4</th>\n",
       "      <td>1993-01-04</td>\n",
       "      <td>BNII</td>\n",
       "      <td>2537.27</td>\n",
       "      <td>2537.27</td>\n",
       "      <td>2537.27</td>\n",
       "      <td>2537.27</td>\n",
       "      <td>1.0</td>\n",
       "      <td>1</td>\n",
       "      <td>0.000000</td>\n",
       "      <td>1.000000</td>\n",
       "      <td>1.000000</td>\n",
       "      <td>100.000000</td>\n",
       "      <td>-66.666667</td>\n",
       "      <td>100.000000</td>\n",
       "      <td>2537.270000</td>\n",
       "      <td>2537.270000</td>\n",
       "      <td>0.000000</td>\n",
       "    </tr>\n",
       "    <tr>\n",
       "      <th>...</th>\n",
       "      <td>...</td>\n",
       "      <td>...</td>\n",
       "      <td>...</td>\n",
       "      <td>...</td>\n",
       "      <td>...</td>\n",
       "      <td>...</td>\n",
       "      <td>...</td>\n",
       "      <td>...</td>\n",
       "      <td>...</td>\n",
       "      <td>...</td>\n",
       "      <td>...</td>\n",
       "      <td>...</td>\n",
       "      <td>...</td>\n",
       "      <td>...</td>\n",
       "      <td>...</td>\n",
       "      <td>...</td>\n",
       "      <td>...</td>\n",
       "    </tr>\n",
       "    <tr>\n",
       "      <th>228295</th>\n",
       "      <td>2024-03-08</td>\n",
       "      <td>SMGR</td>\n",
       "      <td>5900.00</td>\n",
       "      <td>5950.00</td>\n",
       "      <td>5900.00</td>\n",
       "      <td>5950.00</td>\n",
       "      <td>6695300.0</td>\n",
       "      <td>7610</td>\n",
       "      <td>-77.012660</td>\n",
       "      <td>6470.763074</td>\n",
       "      <td>5799.236926</td>\n",
       "      <td>41.660961</td>\n",
       "      <td>-145.740281</td>\n",
       "      <td>26.024825</td>\n",
       "      <td>6160.000000</td>\n",
       "      <td>6194.166667</td>\n",
       "      <td>8.296629</td>\n",
       "    </tr>\n",
       "    <tr>\n",
       "      <th>228296</th>\n",
       "      <td>2024-03-08</td>\n",
       "      <td>TKIM</td>\n",
       "      <td>6850.00</td>\n",
       "      <td>6950.00</td>\n",
       "      <td>6800.00</td>\n",
       "      <td>6850.00</td>\n",
       "      <td>1895200.0</td>\n",
       "      <td>7610</td>\n",
       "      <td>76.026807</td>\n",
       "      <td>7065.827666</td>\n",
       "      <td>5951.672334</td>\n",
       "      <td>51.211188</td>\n",
       "      <td>137.327368</td>\n",
       "      <td>27.307389</td>\n",
       "      <td>6465.000000</td>\n",
       "      <td>6712.500000</td>\n",
       "      <td>8.296629</td>\n",
       "    </tr>\n",
       "    <tr>\n",
       "      <th>228297</th>\n",
       "      <td>2024-03-08</td>\n",
       "      <td>TSPC</td>\n",
       "      <td>1940.00</td>\n",
       "      <td>1960.00</td>\n",
       "      <td>1940.00</td>\n",
       "      <td>1955.00</td>\n",
       "      <td>839100.0</td>\n",
       "      <td>7610</td>\n",
       "      <td>-17.276449</td>\n",
       "      <td>2056.822728</td>\n",
       "      <td>1925.177272</td>\n",
       "      <td>48.258022</td>\n",
       "      <td>-117.575758</td>\n",
       "      <td>10.393875</td>\n",
       "      <td>2014.666667</td>\n",
       "      <td>1964.333333</td>\n",
       "      <td>8.296629</td>\n",
       "    </tr>\n",
       "    <tr>\n",
       "      <th>228298</th>\n",
       "      <td>2024-03-08</td>\n",
       "      <td>UNSP</td>\n",
       "      <td>110.00</td>\n",
       "      <td>112.00</td>\n",
       "      <td>105.00</td>\n",
       "      <td>110.00</td>\n",
       "      <td>83600.0</td>\n",
       "      <td>7610</td>\n",
       "      <td>0.606521</td>\n",
       "      <td>115.289621</td>\n",
       "      <td>104.410379</td>\n",
       "      <td>49.705775</td>\n",
       "      <td>11.675265</td>\n",
       "      <td>32.719668</td>\n",
       "      <td>108.366667</td>\n",
       "      <td>110.300000</td>\n",
       "      <td>8.296629</td>\n",
       "    </tr>\n",
       "    <tr>\n",
       "      <th>228299</th>\n",
       "      <td>2024-03-08</td>\n",
       "      <td>UNTR</td>\n",
       "      <td>24175.00</td>\n",
       "      <td>24325.00</td>\n",
       "      <td>24025.00</td>\n",
       "      <td>24025.00</td>\n",
       "      <td>2820700.0</td>\n",
       "      <td>7610</td>\n",
       "      <td>282.995972</td>\n",
       "      <td>24456.262361</td>\n",
       "      <td>22453.737639</td>\n",
       "      <td>55.237626</td>\n",
       "      <td>148.788927</td>\n",
       "      <td>30.400357</td>\n",
       "      <td>23266.666667</td>\n",
       "      <td>23039.166667</td>\n",
       "      <td>8.296629</td>\n",
       "    </tr>\n",
       "  </tbody>\n",
       "</table>\n",
       "<p>228300 rows × 17 columns</p>\n",
       "</div>"
      ],
      "text/plain": [
       "              date   tic     close      high       low      open     volume  \\\n",
       "0       1993-01-04  ADMG      1.00      1.00      1.00      1.00        1.0   \n",
       "1       1993-01-04  ASII    108.20    110.00    108.20    109.40  5523860.0   \n",
       "2       1993-01-04  BDMN  30350.00  30350.00  30350.00  30350.00        1.0   \n",
       "3       1993-01-04  BNGA   6070.00   6070.00   6070.00   6070.00        1.0   \n",
       "4       1993-01-04  BNII   2537.27   2537.27   2537.27   2537.27        1.0   \n",
       "...            ...   ...       ...       ...       ...       ...        ...   \n",
       "228295  2024-03-08  SMGR   5900.00   5950.00   5900.00   5950.00  6695300.0   \n",
       "228296  2024-03-08  TKIM   6850.00   6950.00   6800.00   6850.00  1895200.0   \n",
       "228297  2024-03-08  TSPC   1940.00   1960.00   1940.00   1955.00   839100.0   \n",
       "228298  2024-03-08  UNSP    110.00    112.00    105.00    110.00    83600.0   \n",
       "228299  2024-03-08  UNTR  24175.00  24325.00  24025.00  24025.00  2820700.0   \n",
       "\n",
       "         day        macd       boll_ub       boll_lb      rsi_30      cci_30  \\\n",
       "0          1    0.000000      1.000000      1.000000  100.000000  -66.666667   \n",
       "1          1    0.000000      1.000000      1.000000  100.000000  -66.666667   \n",
       "2          1    0.000000      1.000000      1.000000  100.000000  -66.666667   \n",
       "3          1    0.000000      1.000000      1.000000  100.000000  -66.666667   \n",
       "4          1    0.000000      1.000000      1.000000  100.000000  -66.666667   \n",
       "...      ...         ...           ...           ...         ...         ...   \n",
       "228295  7610  -77.012660   6470.763074   5799.236926   41.660961 -145.740281   \n",
       "228296  7610   76.026807   7065.827666   5951.672334   51.211188  137.327368   \n",
       "228297  7610  -17.276449   2056.822728   1925.177272   48.258022 -117.575758   \n",
       "228298  7610    0.606521    115.289621    104.410379   49.705775   11.675265   \n",
       "228299  7610  282.995972  24456.262361  22453.737639   55.237626  148.788927   \n",
       "\n",
       "             dx_30  close_30_sma  close_60_sma  turbulence  \n",
       "0       100.000000      1.000000      1.000000    0.000000  \n",
       "1       100.000000    108.200000    108.200000    0.000000  \n",
       "2       100.000000  30350.000000  30350.000000    0.000000  \n",
       "3       100.000000   6070.000000   6070.000000    0.000000  \n",
       "4       100.000000   2537.270000   2537.270000    0.000000  \n",
       "...            ...           ...           ...         ...  \n",
       "228295   26.024825   6160.000000   6194.166667    8.296629  \n",
       "228296   27.307389   6465.000000   6712.500000    8.296629  \n",
       "228297   10.393875   2014.666667   1964.333333    8.296629  \n",
       "228298   32.719668    108.366667    110.300000    8.296629  \n",
       "228299   30.400357  23266.666667  23039.166667    8.296629  \n",
       "\n",
       "[228300 rows x 17 columns]"
      ]
     },
     "execution_count": 16,
     "metadata": {},
     "output_type": "execute_result"
    }
   ],
   "source": [
    "import pandas as pd\n",
    "fprocessed = \"/home/devmiftahul/trading_model/from_finrl-tutorials_git/processed_by_gavin/preprocessed_data_with_features.csv\"\n",
    "processed = pd.read_csv(fprocessed)\n",
    "processed"
   ]
  },
  {
   "cell_type": "code",
   "execution_count": 2,
   "id": "957ed764-841e-448f-a382-1891f93b1201",
   "metadata": {},
   "outputs": [
    {
     "name": "stdout",
     "output_type": "stream",
     "text": [
      "30\n"
     ]
    }
   ],
   "source": [
    "tickers = processed[\"tic\"].unique()\n",
    "print(len(tickers))\n",
    "# tickers"
   ]
  },
  {
   "cell_type": "code",
   "execution_count": 3,
   "id": "5be5fb7a-08dd-400e-8945-940bb59e0253",
   "metadata": {},
   "outputs": [],
   "source": [
    "unique_days = processed[\"day\"].unique()\n",
    "# len(unique_days)"
   ]
  },
  {
   "cell_type": "code",
   "execution_count": 4,
   "id": "bb4e39b0-b082-4b49-a79c-9e8e5a21ca8b",
   "metadata": {},
   "outputs": [],
   "source": [
    "# # this snippet check what day it is that has the date 2024-09-01 # it is 3570\n",
    "# x = processed.copy()\n",
    "# x[\"date\"] = pd.to_datetime(processed[\"date\"])\n",
    "# target_date = pd.to_datetime(\"2024-01-02\")\n",
    "# result = x[x[\"date\"] > target_date]\n",
    "# result"
   ]
  },
  {
   "cell_type": "code",
   "execution_count": 5,
   "id": "3eaf2e52-be67-4f31-b0ad-792642e0a089",
   "metadata": {},
   "outputs": [],
   "source": [
    "df = processed.copy()\n",
    "# df_portfolio_train = df[(df[\"day\"] > 3000) & (df[\"day\"] <= 3500)]\n",
    "df_portfolio_train = df[df[\"day\"] <= 7450]\n",
    "df_portfolio_test = df[df[\"day\"] > 7450]"
   ]
  },
  {
   "cell_type": "code",
   "execution_count": 6,
   "id": "c2279dfc-b0f1-4eb1-8eff-69b6ec7e21dc",
   "metadata": {},
   "outputs": [
    {
     "data": {
      "text/plain": [
       "30"
      ]
     },
     "execution_count": 6,
     "metadata": {},
     "output_type": "execute_result"
    }
   ],
   "source": [
    "# len(df_portfolio_train[\"tic\"].unique())\n",
    "len(tickers)"
   ]
  },
  {
   "cell_type": "code",
   "execution_count": 7,
   "id": "cef87350-c300-4d7b-b5a6-3800cad40143",
   "metadata": {},
   "outputs": [
    {
     "name": "stderr",
     "output_type": "stream",
     "text": [
      "2024-12-02 14:51:14.861260: I tensorflow/core/util/port.cc:153] oneDNN custom operations are on. You may see slightly different numerical results due to floating-point round-off errors from different computation orders. To turn them off, set the environment variable `TF_ENABLE_ONEDNN_OPTS=0`.\n",
      "2024-12-02 14:51:14.882750: E external/local_xla/xla/stream_executor/cuda/cuda_fft.cc:477] Unable to register cuFFT factory: Attempting to register factory for plugin cuFFT when one has already been registered\n",
      "WARNING: All log messages before absl::InitializeLog() is called are written to STDERR\n",
      "E0000 00:00:1733125874.906111 1182767 cuda_dnn.cc:8310] Unable to register cuDNN factory: Attempting to register factory for plugin cuDNN when one has already been registered\n",
      "E0000 00:00:1733125874.913300 1182767 cuda_blas.cc:1418] Unable to register cuBLAS factory: Attempting to register factory for plugin cuBLAS when one has already been registered\n",
      "2024-12-02 14:51:14.942901: I tensorflow/core/platform/cpu_feature_guard.cc:210] This TensorFlow binary is optimized to use available CPU instructions in performance-critical operations.\n",
      "To enable the following instructions: AVX2 AVX512F AVX512_VNNI FMA, in other operations, rebuild TensorFlow with the appropriate compiler flags.\n"
     ]
    }
   ],
   "source": [
    "from finrl.meta.env_portfolio_optimization.env_portfolio_optimization import PortfolioOptimizationEnv\n",
    "\n",
    "TIME_WINDOW = 63\n",
    "features=[\"close\", \"high\", \"low\"]\n",
    "initial_features = len(features)\n",
    "\n",
    "environment_train = PortfolioOptimizationEnv(\n",
    "        df_portfolio_train,\n",
    "        initial_amount=100000,\n",
    "        comission_fee_pct=0.0025,\n",
    "        time_window=TIME_WINDOW,\n",
    "        features=features,\n",
    "        time_column=\"day\",\n",
    "        normalize_df=None, # dataframe is already normalized\n",
    "        tics_in_portfolio=tickers\n",
    "    )\n",
    "environment_test = PortfolioOptimizationEnv(\n",
    "        df_portfolio_test,\n",
    "        initial_amount=100000,\n",
    "        comission_fee_pct=0.0025,\n",
    "        time_window=TIME_WINDOW,\n",
    "        features=features,\n",
    "        time_column=\"day\",\n",
    "        normalize_df=None, # dataframe is already normalized\n",
    "        tics_in_portfolio=tickers\n",
    "    )"
   ]
  },
  {
   "cell_type": "code",
   "execution_count": 8,
   "id": "22adb229-0a9d-485a-aad5-840acb954e9d",
   "metadata": {},
   "outputs": [
    {
     "data": {
      "text/plain": [
       "160"
      ]
     },
     "execution_count": 8,
     "metadata": {},
     "output_type": "execute_result"
    }
   ],
   "source": [
    "# df_portfolio_test\n",
    "len(df_portfolio_test[\"day\"].unique())"
   ]
  },
  {
   "cell_type": "code",
   "execution_count": 9,
   "id": "20088a0a-d651-4654-baf3-e8438ef73857",
   "metadata": {},
   "outputs": [
    {
     "name": "stdout",
     "output_type": "stream",
     "text": [
      "cuda:0\n"
     ]
    }
   ],
   "source": [
    "import torch\n",
    "device = 'cuda:0' if torch.cuda.is_available() else 'cpu'\n",
    "print(device)\n",
    "from finrl.agents.portfolio_optimization.architectures import EIIE\n",
    "from finrl.agents.portfolio_optimization.models import DRLAgent\n",
    "model_kwargs = {\n",
    "    \"lr\": 0.0001,\n",
    "    \"policy\": EIIE,\n",
    "}\n",
    "policy_kwargs = {\n",
    "    \"initial_features\": initial_features,\n",
    "    \"k_size\": 3,\n",
    "    \"conv_mid_features\": 2,\n",
    "    \"conv_final_features\": 20,\n",
    "    \"time_window\": TIME_WINDOW\n",
    "}\n",
    "\n",
    "model = DRLAgent(environment_train).get_model(\"pg\", device, model_kwargs, policy_kwargs)"
   ]
  },
  {
   "cell_type": "code",
   "execution_count": 10,
   "id": "2dfc216b-3c0e-4f50-adfc-91558503bc62",
   "metadata": {},
   "outputs": [
    {
     "data": {
      "text/plain": [
       "<finrl.agents.portfolio_optimization.algorithms.PolicyGradient at 0x7018dc5a1900>"
      ]
     },
     "execution_count": 10,
     "metadata": {},
     "output_type": "execute_result"
    }
   ],
   "source": [
    "model"
   ]
  },
  {
   "cell_type": "code",
   "execution_count": 11,
   "id": "0f37dfa2-1a81-4011-af9f-ff2a1ed14278",
   "metadata": {},
   "outputs": [
    {
     "name": "stderr",
     "output_type": "stream",
     "text": [
      "  0%|                                                                                                                                                    | 0/10 [00:00<?, ?it/s]"
     ]
    },
    {
     "name": "stdout",
     "output_type": "stream",
     "text": [
      "=================================\n",
      "Initial portfolio value:100000\n",
      "Final portfolio value: 8031345049600.0\n",
      "Final accumulative portfolio value: 80313450.496\n",
      "Maximum DrawDown: -0.9999731536228875\n",
      "Sharpe ratio: 0.20180708603191277\n",
      "=================================\n"
     ]
    },
    {
     "name": "stderr",
     "output_type": "stream",
     "text": [
      " 10%|█████████████▉                                                                                                                             | 1/10 [04:46<42:57, 286.34s/it]"
     ]
    },
    {
     "name": "stdout",
     "output_type": "stream",
     "text": [
      "=================================\n",
      "Initial portfolio value:100000\n",
      "Final portfolio value: 2.8873210453208655e+25\n",
      "Final accumulative portfolio value: 2.8873210453208655e+20\n",
      "Maximum DrawDown: -0.8565340795034443\n",
      "Sharpe ratio: 0.43791596488736817\n",
      "=================================\n"
     ]
    },
    {
     "name": "stderr",
     "output_type": "stream",
     "text": [
      " 20%|███████████████████████████▊                                                                                                               | 2/10 [09:36<38:28, 288.51s/it]"
     ]
    },
    {
     "name": "stdout",
     "output_type": "stream",
     "text": [
      "=================================\n",
      "Initial portfolio value:100000\n",
      "Final portfolio value: 3.373622644211131e+25\n",
      "Final accumulative portfolio value: 3.373622644211131e+20\n",
      "Maximum DrawDown: -0.855263347867228\n",
      "Sharpe ratio: 0.43204979302016694\n",
      "=================================\n"
     ]
    },
    {
     "name": "stderr",
     "output_type": "stream",
     "text": [
      " 30%|█████████████████████████████████████████▋                                                                                                 | 3/10 [14:26<33:45, 289.39s/it]"
     ]
    },
    {
     "name": "stdout",
     "output_type": "stream",
     "text": [
      "=================================\n",
      "Initial portfolio value:100000\n",
      "Final portfolio value: 3.2467957446811555e+25\n",
      "Final accumulative portfolio value: 3.2467957446811556e+20\n",
      "Maximum DrawDown: -0.8858451667480345\n",
      "Sharpe ratio: 0.43868418377542834\n",
      "=================================\n"
     ]
    },
    {
     "name": "stderr",
     "output_type": "stream",
     "text": [
      " 40%|███████████████████████████████████████████████████████▌                                                                                   | 4/10 [19:18<29:02, 290.34s/it]"
     ]
    },
    {
     "name": "stdout",
     "output_type": "stream",
     "text": [
      "=================================\n",
      "Initial portfolio value:100000\n",
      "Final portfolio value: 1.734541811227687e+25\n",
      "Final accumulative portfolio value: 1.734541811227687e+20\n",
      "Maximum DrawDown: -0.7187490156087428\n",
      "Sharpe ratio: 0.40904706582764166\n",
      "=================================\n"
     ]
    },
    {
     "name": "stderr",
     "output_type": "stream",
     "text": [
      " 50%|█████████████████████████████████████████████████████████████████████▌                                                                     | 5/10 [24:09<24:13, 290.67s/it]"
     ]
    },
    {
     "name": "stdout",
     "output_type": "stream",
     "text": [
      "=================================\n",
      "Initial portfolio value:100000\n",
      "Final portfolio value: 6.721578488718102e+25\n",
      "Final accumulative portfolio value: 6.721578488718102e+20\n",
      "Maximum DrawDown: -0.7536926167364452\n",
      "Sharpe ratio: 0.4222548947184714\n",
      "=================================\n"
     ]
    },
    {
     "name": "stderr",
     "output_type": "stream",
     "text": [
      " 60%|███████████████████████████████████████████████████████████████████████████████████▍                                                       | 6/10 [29:01<19:23, 290.88s/it]"
     ]
    },
    {
     "name": "stdout",
     "output_type": "stream",
     "text": [
      "=================================\n",
      "Initial portfolio value:100000\n",
      "Final portfolio value: 1.9967169395972996e+24\n",
      "Final accumulative portfolio value: 1.9967169395972997e+19\n",
      "Maximum DrawDown: -0.9647659119977211\n",
      "Sharpe ratio: 0.4466246106761453\n",
      "=================================\n"
     ]
    },
    {
     "name": "stderr",
     "output_type": "stream",
     "text": [
      " 70%|█████████████████████████████████████████████████████████████████████████████████████████████████▎                                         | 7/10 [33:52<14:33, 291.05s/it]"
     ]
    },
    {
     "name": "stdout",
     "output_type": "stream",
     "text": [
      "=================================\n",
      "Initial portfolio value:100000\n",
      "Final portfolio value: 6.929132029663445e+24\n",
      "Final accumulative portfolio value: 6.929132029663445e+19\n",
      "Maximum DrawDown: -0.6515408824737674\n",
      "Sharpe ratio: 0.396908405572046\n",
      "=================================\n"
     ]
    },
    {
     "name": "stderr",
     "output_type": "stream",
     "text": [
      " 80%|███████████████████████████████████████████████████████████████████████████████████████████████████████████████▏                           | 8/10 [38:44<09:42, 291.25s/it]"
     ]
    },
    {
     "name": "stdout",
     "output_type": "stream",
     "text": [
      "=================================\n",
      "Initial portfolio value:100000\n",
      "Final portfolio value: 3.405857522434885e+24\n",
      "Final accumulative portfolio value: 3.4058575224348852e+19\n",
      "Maximum DrawDown: -0.9629553915299502\n",
      "Sharpe ratio: 0.42047454661873457\n",
      "=================================\n"
     ]
    },
    {
     "name": "stderr",
     "output_type": "stream",
     "text": [
      " 90%|█████████████████████████████████████████████████████████████████████████████████████████████████████████████████████████████              | 9/10 [43:36<04:51, 291.46s/it]"
     ]
    },
    {
     "name": "stdout",
     "output_type": "stream",
     "text": [
      "=================================\n",
      "Initial portfolio value:100000\n",
      "Final portfolio value: 3.234490728754637e+24\n",
      "Final accumulative portfolio value: 3.2344907287546372e+19\n",
      "Maximum DrawDown: -0.9999931573771554\n",
      "Sharpe ratio: 0.189802859243377\n",
      "=================================\n"
     ]
    },
    {
     "name": "stderr",
     "output_type": "stream",
     "text": [
      "100%|██████████████████████████████████████████████████████████████████████████████████████████████████████████████████████████████████████████| 10/10 [48:28<00:00, 290.82s/it]\n"
     ]
    },
    {
     "data": {
      "text/plain": [
       "<finrl.agents.portfolio_optimization.algorithms.PolicyGradient at 0x7018dc5a1900>"
      ]
     },
     "execution_count": 11,
     "metadata": {},
     "output_type": "execute_result"
    }
   ],
   "source": [
    "DRLAgent.train_model(model, episodes=10)"
   ]
  },
  {
   "cell_type": "code",
   "execution_count": 12,
   "id": "0f10b7e0-d918-4ffb-bb7d-da14bcf60fe5",
   "metadata": {},
   "outputs": [
    {
     "data": {
      "text/plain": [
       "<finrl.agents.portfolio_optimization.algorithms.PolicyGradient at 0x7018dc5a1900>"
      ]
     },
     "execution_count": 12,
     "metadata": {},
     "output_type": "execute_result"
    }
   ],
   "source": [
    "model"
   ]
  },
  {
   "cell_type": "code",
   "execution_count": 13,
   "id": "a910654a-4a22-4843-8926-b8a8c9903971",
   "metadata": {},
   "outputs": [],
   "source": [
    "import os\n",
    "d = \"gavin_data_trained_models/eiie\"\n",
    "os.makedirs(d, exist_ok=True)\n",
    "model_path = f\"{d}/policy_EIIE.pt\"\n",
    "torch.save(model.train_policy.state_dict(), model_path)"
   ]
  },
  {
   "cell_type": "code",
   "execution_count": 14,
   "id": "c426a2ca-d5b5-4113-9d03-d9ee1f0771db",
   "metadata": {},
   "outputs": [
    {
     "name": "stderr",
     "output_type": "stream",
     "text": [
      "/tmp/ipykernel_1182767/2279313485.py:9: FutureWarning: You are using `torch.load` with `weights_only=False` (the current default value), which uses the default pickle module implicitly. It is possible to construct malicious pickle data which will execute arbitrary code during unpickling (See https://github.com/pytorch/pytorch/blob/main/SECURITY.md#untrusted-models for more details). In a future release, the default value for `weights_only` will be flipped to `True`. This limits the functions that could be executed during unpickling. Arbitrary objects will no longer be allowed to be loaded via this mode unless they are explicitly allowlisted by the user via `torch.serialization.add_safe_globals`. We recommend you start setting `weights_only=True` for any use case where you don't have full control of the loaded file. Please open an issue on GitHub for any issues related to this experimental feature.\n",
      "  policy.load_state_dict(torch.load(model_path))\n"
     ]
    },
    {
     "name": "stdout",
     "output_type": "stream",
     "text": [
      "=================================\n",
      "Initial portfolio value:100000\n",
      "Final portfolio value: 85750.2265625\n",
      "Final accumulative portfolio value: 0.857502265625\n",
      "Maximum DrawDown: -0.23772703125000005\n",
      "Sharpe ratio: -1.3208057121480483\n",
      "=================================\n"
     ]
    }
   ],
   "source": [
    "EIIE_results = {\n",
    "    \"train\": environment_train._asset_memory[\"final\"],\n",
    "    \"test\": {},\n",
    "}\n",
    "\n",
    "# instantiate an architecture with the same arguments used in training\n",
    "# and load with load_state_dict.\n",
    "policy = EIIE(**policy_kwargs)\n",
    "policy.load_state_dict(torch.load(model_path))\n",
    "\n",
    "# testing\n",
    "DRLAgent.DRL_validation(model, environment_test, policy=policy)\n",
    "EIIE_results[\"test\"] = environment_test._asset_memory[\"final\"]"
   ]
  },
  {
   "cell_type": "code",
   "execution_count": null,
   "id": "431225f8-0389-4d11-b2f3-078fdc363bd8",
   "metadata": {},
   "outputs": [],
   "source": []
  }
 ],
 "metadata": {
  "kernelspec": {
   "display_name": "Python 3 (ipykernel)",
   "language": "python",
   "name": "python3"
  },
  "language_info": {
   "codemirror_mode": {
    "name": "ipython",
    "version": 3
   },
   "file_extension": ".py",
   "mimetype": "text/x-python",
   "name": "python",
   "nbconvert_exporter": "python",
   "pygments_lexer": "ipython3",
   "version": "3.10.5"
  }
 },
 "nbformat": 4,
 "nbformat_minor": 5
}
